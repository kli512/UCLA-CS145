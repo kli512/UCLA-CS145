{
 "metadata": {
  "language_info": {
   "codemirror_mode": {
    "name": "ipython",
    "version": 3
   },
   "file_extension": ".py",
   "mimetype": "text/x-python",
   "name": "python",
   "nbconvert_exporter": "python",
   "pygments_lexer": "ipython3",
   "version": "3.7.9-final"
  },
  "orig_nbformat": 2,
  "kernelspec": {
   "name": "Python 3.7.9 64-bit",
   "display_name": "Python 3.7.9 64-bit",
   "metadata": {
    "interpreter": {
     "hash": "249697fc95581d16b2de2d8537a6b7ed622d8c727507d772a247480030879bde"
    }
   }
  }
 },
 "nbformat": 4,
 "nbformat_minor": 2,
 "cells": [
  {
   "cell_type": "code",
   "execution_count": 1,
   "metadata": {},
   "outputs": [],
   "source": [
    "import pandas as pd\n",
    "import numpy as np\n",
    "from timeit import default_timer as timer\n",
    "pd.options.plotting.backend = 'plotly'"
   ]
  },
  {
   "cell_type": "code",
   "execution_count": 2,
   "metadata": {},
   "outputs": [],
   "source": [
    "train = pd.read_csv('train.csv')\n",
    "states = train['Province_State'].unique()\n",
    "state_dfs_raw = {state: train[train['Province_State'] == state] for state in states}\n",
    "state_means = {}\n",
    "state_stds = {}\n",
    "state_dfs = {}\n",
    "for s, state_df_raw in state_dfs_raw.items():\n",
    "    state_df = state_df_raw.drop(columns=['Province_State', 'ID'])\n",
    "    state_df['Date'] = pd.to_datetime(state_df['Date'], format='%m-%d-%Y')\n",
    "    state_df = state_df.set_index('Date')\n",
    "\n",
    "    mean, std = state_df.mean(), state_df.std()\n",
    "    state_df = (state_df - mean) / std\n",
    "\n",
    "    state_means[s] = mean\n",
    "    state_stds[s] = std\n",
    "    state_dfs[s] = state_df\n",
    "\n",
    "column_names = state_dfs['Alabama'].columns"
   ]
  },
  {
   "cell_type": "code",
   "execution_count": 20,
   "metadata": {},
   "outputs": [],
   "source": [
    "from tensorflow.keras.models import Sequential, load_model\n",
    "from tensorflow.keras.layers import LSTM\n",
    "from tensorflow.keras.layers import Dense, Flatten, Dropout\n",
    "\n",
    "from tensorflow.keras.losses import MSE\n",
    "from tensorflow.keras.optimizers import Adam\n",
    "\n",
    "from tensorflow.keras.callbacks import ModelCheckpoint, EarlyStopping\n",
    "\n",
    "# variable seq2single - seq2seq provided by rolling predictions as inputs\n",
    "\n",
    "# input is (variable_samples, lag_order, n_features)\n",
    "# output is (variable_samples, n_features)\n",
    "\n",
    "n_features = column_names.size\n",
    "\n",
    "def model_factory():\n",
    "    model = Sequential()\n",
    "    model.add(LSTM(50, input_shape=(None, n_features)))\n",
    "    model.add(Dropout(0.2))\n",
    "    model.add(Dense(10, activation='sigmoid'))\n",
    "    model.compile(loss='binary_crossentropy', optimizer='rmsprop', metrics=['accuracy'])\n",
    "    print(model.summary())\n",
    "\n",
    "    return model\n",
    "\n",
    "tmp_path = 'tmp/tmp_model.h5'\n",
    "checkpoint = ModelCheckpoint(\n",
    "        tmp_path,\n",
    "        save_weights_only=True,\n",
    "        monitor='val_loss',\n",
    "        mode='min',\n",
    "        verbose=0,\n",
    "        save_best_only=True,\n",
    "    )"
   ]
  },
  {
   "cell_type": "code",
   "execution_count": 21,
   "metadata": {},
   "outputs": [
    {
     "output_type": "stream",
     "name": "stdout",
     "text": [
      "Model: \"sequential_5\"\n",
      "_________________________________________________________________\n",
      "Layer (type)                 Output Shape              Param #   \n",
      "=================================================================\n",
      "lstm_5 (LSTM)                (None, 50)                12200     \n",
      "_________________________________________________________________\n",
      "dense_5 (Dense)              (None, 10)                510       \n",
      "=================================================================\n",
      "Total params: 12,710\n",
      "Trainable params: 12,710\n",
      "Non-trainable params: 0\n",
      "_________________________________________________________________\n",
      "None\n",
      "WARNING:tensorflow:6 out of the last 8 calls to <function Model.make_predict_function.<locals>.predict_function at 0x00000180356CE558> triggered tf.function retracing. Tracing is expensive and the excessive number of tracings could be due to (1) creating @tf.function repeatedly in a loop, (2) passing tensors with different shapes, (3) passing Python objects instead of tensors. For (1), please define your @tf.function outside of the loop. For (2), @tf.function has experimental_relax_shapes=True option that relaxes argument shapes that can avoid unnecessary retracing. For (3), please refer to https://www.tensorflow.org/tutorials/customization/performance#python_or_tensor_args and https://www.tensorflow.org/api_docs/python/tf/function for  more details.\n"
     ]
    },
    {
     "output_type": "execute_result",
     "data": {
      "text/plain": [
       "(1, 10)"
      ]
     },
     "metadata": {},
     "execution_count": 21
    }
   ],
   "source": [
    "model = model_factory()\n",
    "model.predict(np.random.rand(1, 10, n_features)).shape"
   ]
  },
  {
   "cell_type": "code",
   "execution_count": 9,
   "metadata": {},
   "outputs": [],
   "source": [
    "from tensorflow.keras.utils import Sequence\n",
    "\n",
    "class MyBatchGenerator(Sequence):\n",
    "    'Generates data for Keras'\n",
    "    def __init__(self, X, y, batch_size=1, shuffle=True):\n",
    "        'Initialization'\n",
    "        self.X = X\n",
    "        self.y = y\n",
    "        self.batch_size = batch_size\n",
    "        self.shuffle = shuffle\n",
    "        self.on_epoch_end()\n",
    "\n",
    "    def __len__(self):\n",
    "        'Denotes the number of batches per epoch'\n",
    "        return int(np.floor(len(self.y)/self.batch_size))\n",
    "\n",
    "    def __getitem__(self, index):\n",
    "        return self.__data_generation(index)\n",
    "\n",
    "    def on_epoch_end(self):\n",
    "        'Shuffles indexes after each epoch'\n",
    "        self.indexes = np.arange(len(self.y))\n",
    "        if self.shuffle == True:\n",
    "            np.random.shuffle(self.indexes)\n",
    "\n",
    "    def __data_generation(self, index):\n",
    "        Xb = np.empty((self.batch_size, *X[index].shape))\n",
    "        yb = np.empty((self.batch_size, *y[index].shape))\n",
    "        # naively use the same sample over and over again\n",
    "        for s in range(0, self.batch_size):\n",
    "            Xb[s] = X[index]\n",
    "            yb[s] = y[index]\n",
    "        return Xb, yb"
   ]
  },
  {
   "cell_type": "code",
   "execution_count": 36,
   "metadata": {
    "tags": [
     "outputPrepend"
    ]
   },
   "outputs": [
    {
     "output_type": "stream",
     "name": "stdout",
     "text": [
      "/2000\n",
      "3/3 [==============================] - 0s 12ms/step - loss: 0.4590 - val_loss: 0.7383\n",
      "Epoch 1806/2000\n",
      "3/3 [==============================] - 0s 11ms/step - loss: 0.4407 - val_loss: 0.7379\n",
      "Epoch 1807/2000\n",
      "3/3 [==============================] - 0s 12ms/step - loss: 0.4490 - val_loss: 0.7376\n",
      "Epoch 1808/2000\n",
      "3/3 [==============================] - 0s 11ms/step - loss: 0.4702 - val_loss: 0.7376\n",
      "Epoch 1809/2000\n",
      "3/3 [==============================] - 0s 12ms/step - loss: 0.4554 - val_loss: 0.7374\n",
      "Epoch 1810/2000\n",
      "3/3 [==============================] - 0s 12ms/step - loss: 0.4644 - val_loss: 0.7374\n",
      "Epoch 1811/2000\n",
      "3/3 [==============================] - 0s 13ms/step - loss: 0.4632 - val_loss: 0.7374\n",
      "Epoch 1812/2000\n",
      "3/3 [==============================] - 0s 9ms/step - loss: 0.4713 - val_loss: 0.7374\n",
      "Epoch 1813/2000\n",
      "3/3 [==============================] - 0s 9ms/step - loss: 0.4615 - val_loss: 0.7374\n",
      "Epoch 1814/2000\n",
      "3/3 [==============================] - 0s 11ms/step - loss: 0.4832 - val_loss: 0.7373\n",
      "Epoch 1815/2000\n",
      "3/3 [==============================] - 0s 12ms/step - loss: 0.4585 - val_loss: 0.7374\n",
      "Epoch 1816/2000\n",
      "3/3 [==============================] - 0s 11ms/step - loss: 0.4670 - val_loss: 0.7374\n",
      "Epoch 1817/2000\n",
      "3/3 [==============================] - 0s 13ms/step - loss: 0.4797 - val_loss: 0.7373\n",
      "Epoch 1818/2000\n",
      "3/3 [==============================] - 0s 11ms/step - loss: 0.4756 - val_loss: 0.7372\n",
      "Epoch 1819/2000\n",
      "3/3 [==============================] - 0s 10ms/step - loss: 0.4771 - val_loss: 0.7371\n",
      "Epoch 1820/2000\n",
      "3/3 [==============================] - 0s 14ms/step - loss: 0.4414 - val_loss: 0.7371\n",
      "Epoch 1821/2000\n",
      "3/3 [==============================] - 0s 10ms/step - loss: 0.4404 - val_loss: 0.7372\n",
      "Epoch 1822/2000\n",
      "3/3 [==============================] - 0s 10ms/step - loss: 0.4723 - val_loss: 0.7370\n",
      "Epoch 1823/2000\n",
      "3/3 [==============================] - 0s 14ms/step - loss: 0.4650 - val_loss: 0.7370\n",
      "Epoch 1824/2000\n",
      "3/3 [==============================] - 0s 9ms/step - loss: 0.4608 - val_loss: 0.7370\n",
      "Epoch 1825/2000\n",
      "3/3 [==============================] - 0s 13ms/step - loss: 0.4594 - val_loss: 0.7368\n",
      "Epoch 1826/2000\n",
      "3/3 [==============================] - 0s 9ms/step - loss: 0.4488 - val_loss: 0.7367\n",
      "Epoch 1827/2000\n",
      "3/3 [==============================] - 0s 10ms/step - loss: 0.4678 - val_loss: 0.7365\n",
      "Epoch 1828/2000\n",
      "3/3 [==============================] - 0s 10ms/step - loss: 0.4593 - val_loss: 0.7365\n",
      "Epoch 1829/2000\n",
      "3/3 [==============================] - 0s 10ms/step - loss: 0.4675 - val_loss: 0.7364\n",
      "Epoch 1830/2000\n",
      "3/3 [==============================] - 0s 9ms/step - loss: 0.4456 - val_loss: 0.7363\n",
      "Epoch 1831/2000\n",
      "3/3 [==============================] - 0s 11ms/step - loss: 0.4496 - val_loss: 0.7364\n",
      "Epoch 1832/2000\n",
      "3/3 [==============================] - 0s 13ms/step - loss: 0.4490 - val_loss: 0.7365\n",
      "Epoch 1833/2000\n",
      "3/3 [==============================] - 0s 10ms/step - loss: 0.4618 - val_loss: 0.7362\n",
      "Epoch 1834/2000\n",
      "3/3 [==============================] - 0s 12ms/step - loss: 0.4486 - val_loss: 0.7360\n",
      "Epoch 1835/2000\n",
      "3/3 [==============================] - 0s 12ms/step - loss: 0.4677 - val_loss: 0.7361\n",
      "Epoch 1836/2000\n",
      "3/3 [==============================] - 0s 12ms/step - loss: 0.4543 - val_loss: 0.7362\n",
      "Epoch 1837/2000\n",
      "3/3 [==============================] - 0s 10ms/step - loss: 0.4457 - val_loss: 0.7359\n",
      "Epoch 1838/2000\n",
      "3/3 [==============================] - 0s 13ms/step - loss: 0.4594 - val_loss: 0.7361\n",
      "Epoch 1839/2000\n",
      "3/3 [==============================] - 0s 12ms/step - loss: 0.4635 - val_loss: 0.7359\n",
      "Epoch 1840/2000\n",
      "3/3 [==============================] - 0s 11ms/step - loss: 0.4630 - val_loss: 0.7359\n",
      "Epoch 1841/2000\n",
      "3/3 [==============================] - 0s 10ms/step - loss: 0.4601 - val_loss: 0.7361\n",
      "Epoch 1842/2000\n",
      "3/3 [==============================] - 0s 12ms/step - loss: 0.4379 - val_loss: 0.7359\n",
      "Epoch 1843/2000\n",
      "3/3 [==============================] - 0s 11ms/step - loss: 0.4930 - val_loss: 0.7358\n",
      "Epoch 1844/2000\n",
      "3/3 [==============================] - 0s 12ms/step - loss: 0.4667 - val_loss: 0.7360\n",
      "Epoch 1845/2000\n",
      "3/3 [==============================] - 0s 10ms/step - loss: 0.4557 - val_loss: 0.7359\n",
      "Epoch 1846/2000\n",
      "3/3 [==============================] - 0s 10ms/step - loss: 0.4698 - val_loss: 0.7357\n",
      "Epoch 1847/2000\n",
      "3/3 [==============================] - 0s 15ms/step - loss: 0.4509 - val_loss: 0.7357\n",
      "Epoch 1848/2000\n",
      "3/3 [==============================] - 0s 11ms/step - loss: 0.4455 - val_loss: 0.7356\n",
      "Epoch 1849/2000\n",
      "3/3 [==============================] - 0s 11ms/step - loss: 0.4685 - val_loss: 0.7356\n",
      "Epoch 1850/2000\n",
      "3/3 [==============================] - 0s 14ms/step - loss: 0.4542 - val_loss: 0.7357\n",
      "Epoch 1851/2000\n",
      "3/3 [==============================] - 0s 10ms/step - loss: 0.4774 - val_loss: 0.7355\n",
      "Epoch 1852/2000\n",
      "3/3 [==============================] - 0s 11ms/step - loss: 0.4709 - val_loss: 0.7352\n",
      "Epoch 1853/2000\n",
      "3/3 [==============================] - 0s 11ms/step - loss: 0.4628 - val_loss: 0.7351\n",
      "Epoch 1854/2000\n",
      "3/3 [==============================] - 0s 10ms/step - loss: 0.4779 - val_loss: 0.7348\n",
      "Epoch 1855/2000\n",
      "3/3 [==============================] - 0s 9ms/step - loss: 0.4541 - val_loss: 0.7350\n",
      "Epoch 1856/2000\n",
      "3/3 [==============================] - 0s 10ms/step - loss: 0.4596 - val_loss: 0.7350\n",
      "Epoch 1857/2000\n",
      "3/3 [==============================] - 0s 10ms/step - loss: 0.4792 - val_loss: 0.7350\n",
      "Epoch 1858/2000\n",
      "3/3 [==============================] - 0s 12ms/step - loss: 0.4862 - val_loss: 0.7350\n",
      "Epoch 1859/2000\n",
      "3/3 [==============================] - 0s 15ms/step - loss: 0.4678 - val_loss: 0.7351\n",
      "Epoch 1860/2000\n",
      "3/3 [==============================] - 0s 13ms/step - loss: 0.4770 - val_loss: 0.7348\n",
      "Epoch 1861/2000\n",
      "3/3 [==============================] - 0s 11ms/step - loss: 0.4932 - val_loss: 0.7348\n",
      "Epoch 1862/2000\n",
      "3/3 [==============================] - 0s 11ms/step - loss: 0.4604 - val_loss: 0.7348\n",
      "Epoch 1863/2000\n",
      "3/3 [==============================] - 0s 11ms/step - loss: 0.4818 - val_loss: 0.7346\n",
      "Epoch 1864/2000\n",
      "3/3 [==============================] - 0s 11ms/step - loss: 0.4574 - val_loss: 0.7347\n",
      "Epoch 1865/2000\n",
      "3/3 [==============================] - 0s 12ms/step - loss: 0.4625 - val_loss: 0.7347\n",
      "Epoch 1866/2000\n",
      "3/3 [==============================] - 0s 11ms/step - loss: 0.4690 - val_loss: 0.7346\n",
      "Epoch 1867/2000\n",
      "3/3 [==============================] - 0s 11ms/step - loss: 0.4521 - val_loss: 0.7344\n",
      "Epoch 1868/2000\n",
      "3/3 [==============================] - 0s 9ms/step - loss: 0.4637 - val_loss: 0.7342\n",
      "Epoch 1869/2000\n",
      "3/3 [==============================] - 0s 11ms/step - loss: 0.4492 - val_loss: 0.7342\n",
      "Epoch 1870/2000\n",
      "3/3 [==============================] - 0s 10ms/step - loss: 0.4446 - val_loss: 0.7342\n",
      "Epoch 1871/2000\n",
      "3/3 [==============================] - 0s 11ms/step - loss: 0.4617 - val_loss: 0.7341\n",
      "Epoch 1872/2000\n",
      "3/3 [==============================] - 0s 10ms/step - loss: 0.4600 - val_loss: 0.7342\n",
      "Epoch 1873/2000\n",
      "3/3 [==============================] - 0s 11ms/step - loss: 0.4728 - val_loss: 0.7341\n",
      "Epoch 1874/2000\n",
      "3/3 [==============================] - 0s 13ms/step - loss: 0.4628 - val_loss: 0.7340\n",
      "Epoch 1875/2000\n",
      "3/3 [==============================] - 0s 11ms/step - loss: 0.4548 - val_loss: 0.7343\n",
      "Epoch 1876/2000\n",
      "3/3 [==============================] - 0s 11ms/step - loss: 0.4611 - val_loss: 0.7343\n",
      "Epoch 1877/2000\n",
      "3/3 [==============================] - 0s 11ms/step - loss: 0.4521 - val_loss: 0.7342\n",
      "Epoch 1878/2000\n",
      "3/3 [==============================] - 0s 13ms/step - loss: 0.4818 - val_loss: 0.7342\n",
      "Epoch 1879/2000\n",
      "3/3 [==============================] - 0s 11ms/step - loss: 0.4424 - val_loss: 0.7345\n",
      "Epoch 1880/2000\n",
      "3/3 [==============================] - 0s 10ms/step - loss: 0.4557 - val_loss: 0.7342\n",
      "Epoch 1881/2000\n",
      "3/3 [==============================] - 0s 12ms/step - loss: 0.4808 - val_loss: 0.7340\n",
      "Epoch 1882/2000\n",
      "3/3 [==============================] - 0s 12ms/step - loss: 0.4617 - val_loss: 0.7337\n",
      "Epoch 1883/2000\n",
      "3/3 [==============================] - 0s 11ms/step - loss: 0.4503 - val_loss: 0.7338\n",
      "Epoch 1884/2000\n",
      "3/3 [==============================] - 0s 9ms/step - loss: 0.4609 - val_loss: 0.7339\n",
      "Epoch 1885/2000\n",
      "3/3 [==============================] - 0s 9ms/step - loss: 0.4682 - val_loss: 0.7339\n",
      "Epoch 1886/2000\n",
      "3/3 [==============================] - 0s 11ms/step - loss: 0.4805 - val_loss: 0.7335\n",
      "Epoch 1887/2000\n",
      "3/3 [==============================] - 0s 11ms/step - loss: 0.4615 - val_loss: 0.7333\n",
      "Epoch 1888/2000\n",
      "3/3 [==============================] - 0s 11ms/step - loss: 0.4511 - val_loss: 0.7336\n",
      "Epoch 1889/2000\n",
      "3/3 [==============================] - 0s 11ms/step - loss: 0.4766 - val_loss: 0.7336\n",
      "Epoch 1890/2000\n",
      "3/3 [==============================] - 0s 9ms/step - loss: 0.4757 - val_loss: 0.7335\n",
      "Epoch 1891/2000\n",
      "3/3 [==============================] - 0s 10ms/step - loss: 0.4773 - val_loss: 0.7336\n",
      "Epoch 1892/2000\n",
      "3/3 [==============================] - 0s 12ms/step - loss: 0.4544 - val_loss: 0.7332\n",
      "Epoch 1893/2000\n",
      "3/3 [==============================] - 0s 12ms/step - loss: 0.4638 - val_loss: 0.7333\n",
      "Epoch 1894/2000\n",
      "3/3 [==============================] - 0s 10ms/step - loss: 0.4673 - val_loss: 0.7333\n",
      "Epoch 1895/2000\n",
      "3/3 [==============================] - 0s 11ms/step - loss: 0.4495 - val_loss: 0.7334\n",
      "Epoch 1896/2000\n",
      "3/3 [==============================] - 0s 12ms/step - loss: 0.4674 - val_loss: 0.7333\n",
      "Epoch 1897/2000\n",
      "3/3 [==============================] - 0s 11ms/step - loss: 0.4530 - val_loss: 0.7333\n",
      "Epoch 1898/2000\n",
      "3/3 [==============================] - 0s 11ms/step - loss: 0.4719 - val_loss: 0.7333\n",
      "Epoch 1899/2000\n",
      "3/3 [==============================] - 0s 11ms/step - loss: 0.4725 - val_loss: 0.7332\n",
      "Epoch 1900/2000\n",
      "3/3 [==============================] - 0s 11ms/step - loss: 0.4754 - val_loss: 0.7331\n",
      "Epoch 1901/2000\n",
      "3/3 [==============================] - 0s 11ms/step - loss: 0.4778 - val_loss: 0.7330\n",
      "Epoch 1902/2000\n",
      "3/3 [==============================] - 0s 9ms/step - loss: 0.4682 - val_loss: 0.7329\n",
      "Epoch 1903/2000\n",
      "3/3 [==============================] - 0s 10ms/step - loss: 0.4548 - val_loss: 0.7328\n",
      "Epoch 1904/2000\n",
      "3/3 [==============================] - 0s 10ms/step - loss: 0.4585 - val_loss: 0.7329\n",
      "Epoch 1905/2000\n",
      "3/3 [==============================] - 0s 11ms/step - loss: 0.4769 - val_loss: 0.7327\n",
      "Epoch 1906/2000\n",
      "3/3 [==============================] - 0s 11ms/step - loss: 0.4682 - val_loss: 0.7324\n",
      "Epoch 1907/2000\n",
      "3/3 [==============================] - 0s 11ms/step - loss: 0.4787 - val_loss: 0.7325\n",
      "Epoch 1908/2000\n",
      "3/3 [==============================] - 0s 9ms/step - loss: 0.4462 - val_loss: 0.7325\n",
      "Epoch 1909/2000\n",
      "3/3 [==============================] - 0s 14ms/step - loss: 0.4527 - val_loss: 0.7325\n",
      "Epoch 1910/2000\n",
      "3/3 [==============================] - 0s 11ms/step - loss: 0.4484 - val_loss: 0.7327\n",
      "Epoch 1911/2000\n",
      "3/3 [==============================] - 0s 13ms/step - loss: 0.4727 - val_loss: 0.7326\n",
      "Epoch 1912/2000\n",
      "3/3 [==============================] - 0s 10ms/step - loss: 0.4628 - val_loss: 0.7325\n",
      "Epoch 1913/2000\n",
      "3/3 [==============================] - 0s 10ms/step - loss: 0.4444 - val_loss: 0.7326\n",
      "Epoch 1914/2000\n",
      "3/3 [==============================] - 0s 10ms/step - loss: 0.4682 - val_loss: 0.7324\n",
      "Epoch 1915/2000\n",
      "3/3 [==============================] - 0s 10ms/step - loss: 0.4737 - val_loss: 0.7321\n",
      "Epoch 1916/2000\n",
      "3/3 [==============================] - 0s 10ms/step - loss: 0.4553 - val_loss: 0.7320\n",
      "Epoch 1917/2000\n",
      "3/3 [==============================] - 0s 12ms/step - loss: 0.4496 - val_loss: 0.7322\n",
      "Epoch 1918/2000\n",
      "3/3 [==============================] - 0s 13ms/step - loss: 0.4425 - val_loss: 0.7323\n",
      "Epoch 1919/2000\n",
      "3/3 [==============================] - 0s 11ms/step - loss: 0.4572 - val_loss: 0.7321\n",
      "Epoch 1920/2000\n",
      "3/3 [==============================] - 0s 13ms/step - loss: 0.4611 - val_loss: 0.7322\n",
      "Epoch 1921/2000\n",
      "3/3 [==============================] - 0s 10ms/step - loss: 0.4545 - val_loss: 0.7322\n",
      "Epoch 1922/2000\n",
      "3/3 [==============================] - 0s 10ms/step - loss: 0.4576 - val_loss: 0.7322\n",
      "Epoch 1923/2000\n",
      "3/3 [==============================] - 0s 13ms/step - loss: 0.4669 - val_loss: 0.7321\n",
      "Epoch 1924/2000\n",
      "3/3 [==============================] - 0s 10ms/step - loss: 0.4668 - val_loss: 0.7322\n",
      "Epoch 1925/2000\n",
      "3/3 [==============================] - 0s 9ms/step - loss: 0.4657 - val_loss: 0.7323\n",
      "Epoch 1926/2000\n",
      "3/3 [==============================] - 0s 13ms/step - loss: 0.4745 - val_loss: 0.7321\n",
      "Epoch 1927/2000\n",
      "3/3 [==============================] - 0s 12ms/step - loss: 0.4357 - val_loss: 0.7321\n",
      "Epoch 1928/2000\n",
      "3/3 [==============================] - 0s 11ms/step - loss: 0.4793 - val_loss: 0.7319\n",
      "Epoch 1929/2000\n",
      "3/3 [==============================] - 0s 10ms/step - loss: 0.4730 - val_loss: 0.7317\n",
      "Epoch 1930/2000\n",
      "3/3 [==============================] - 0s 9ms/step - loss: 0.4932 - val_loss: 0.7318\n",
      "Epoch 1931/2000\n",
      "3/3 [==============================] - 0s 10ms/step - loss: 0.4812 - val_loss: 0.7318\n",
      "Epoch 1932/2000\n",
      "3/3 [==============================] - 0s 9ms/step - loss: 0.4583 - val_loss: 0.7316\n",
      "Epoch 1933/2000\n",
      "3/3 [==============================] - 0s 13ms/step - loss: 0.4667 - val_loss: 0.7316\n",
      "Epoch 1934/2000\n",
      "3/3 [==============================] - 0s 13ms/step - loss: 0.4656 - val_loss: 0.7317\n",
      "Epoch 1935/2000\n",
      "3/3 [==============================] - 0s 13ms/step - loss: 0.4356 - val_loss: 0.7317\n",
      "Epoch 1936/2000\n",
      "3/3 [==============================] - 0s 10ms/step - loss: 0.4654 - val_loss: 0.7316\n",
      "Epoch 1937/2000\n",
      "3/3 [==============================] - 0s 13ms/step - loss: 0.4564 - val_loss: 0.7316\n",
      "Epoch 1938/2000\n",
      "3/3 [==============================] - 0s 11ms/step - loss: 0.4768 - val_loss: 0.7315\n",
      "Epoch 1939/2000\n",
      "3/3 [==============================] - 0s 9ms/step - loss: 0.4714 - val_loss: 0.7315\n",
      "Epoch 1940/2000\n",
      "3/3 [==============================] - 0s 11ms/step - loss: 0.4634 - val_loss: 0.7316\n",
      "Epoch 1941/2000\n",
      "3/3 [==============================] - 0s 11ms/step - loss: 0.4818 - val_loss: 0.7316\n",
      "Epoch 1942/2000\n",
      "3/3 [==============================] - 0s 11ms/step - loss: 0.4566 - val_loss: 0.7313\n",
      "Epoch 1943/2000\n",
      "3/3 [==============================] - 0s 11ms/step - loss: 0.4608 - val_loss: 0.7314\n",
      "Epoch 1944/2000\n",
      "3/3 [==============================] - 0s 11ms/step - loss: 0.4712 - val_loss: 0.7313\n",
      "Epoch 1945/2000\n",
      "3/3 [==============================] - 0s 11ms/step - loss: 0.4660 - val_loss: 0.7310\n",
      "Epoch 1946/2000\n",
      "3/3 [==============================] - 0s 11ms/step - loss: 0.4617 - val_loss: 0.7309\n",
      "Epoch 1947/2000\n",
      "3/3 [==============================] - 0s 12ms/step - loss: 0.4734 - val_loss: 0.7312\n",
      "Epoch 1948/2000\n",
      "3/3 [==============================] - 0s 11ms/step - loss: 0.4368 - val_loss: 0.7312\n",
      "Epoch 1949/2000\n",
      "3/3 [==============================] - 0s 14ms/step - loss: 0.4572 - val_loss: 0.7311\n",
      "Epoch 1950/2000\n",
      "3/3 [==============================] - 0s 13ms/step - loss: 0.5052 - val_loss: 0.7308\n",
      "Epoch 1951/2000\n",
      "3/3 [==============================] - 0s 10ms/step - loss: 0.4628 - val_loss: 0.7306\n",
      "Epoch 1952/2000\n",
      "3/3 [==============================] - 0s 12ms/step - loss: 0.4564 - val_loss: 0.7306\n",
      "Epoch 1953/2000\n",
      "3/3 [==============================] - 0s 12ms/step - loss: 0.4707 - val_loss: 0.7305\n",
      "Epoch 1954/2000\n",
      "3/3 [==============================] - 0s 10ms/step - loss: 0.4555 - val_loss: 0.7307\n",
      "Epoch 1955/2000\n",
      "3/3 [==============================] - 0s 11ms/step - loss: 0.4415 - val_loss: 0.7307\n",
      "Epoch 1956/2000\n",
      "3/3 [==============================] - 0s 13ms/step - loss: 0.4887 - val_loss: 0.7307\n",
      "Epoch 1957/2000\n",
      "3/3 [==============================] - 0s 12ms/step - loss: 0.4526 - val_loss: 0.7305\n",
      "Epoch 1958/2000\n",
      "3/3 [==============================] - 0s 11ms/step - loss: 0.4717 - val_loss: 0.7305\n",
      "Epoch 1959/2000\n",
      "3/3 [==============================] - 0s 11ms/step - loss: 0.4633 - val_loss: 0.7303\n",
      "Epoch 1960/2000\n",
      "3/3 [==============================] - 0s 12ms/step - loss: 0.4793 - val_loss: 0.7305\n",
      "Epoch 1961/2000\n",
      "3/3 [==============================] - 0s 11ms/step - loss: 0.4448 - val_loss: 0.7305\n",
      "Epoch 1962/2000\n",
      "3/3 [==============================] - 0s 13ms/step - loss: 0.4432 - val_loss: 0.7303\n",
      "Epoch 1963/2000\n",
      "3/3 [==============================] - 0s 11ms/step - loss: 0.4687 - val_loss: 0.7300\n",
      "Epoch 1964/2000\n",
      "3/3 [==============================] - 0s 16ms/step - loss: 0.4708 - val_loss: 0.7298\n",
      "Epoch 1965/2000\n",
      "3/3 [==============================] - 0s 14ms/step - loss: 0.4541 - val_loss: 0.7296\n",
      "Epoch 1966/2000\n",
      "3/3 [==============================] - 0s 12ms/step - loss: 0.4913 - val_loss: 0.7296\n",
      "Epoch 1967/2000\n",
      "3/3 [==============================] - 0s 15ms/step - loss: 0.4665 - val_loss: 0.7298\n",
      "Epoch 1968/2000\n",
      "3/3 [==============================] - 0s 11ms/step - loss: 0.4444 - val_loss: 0.7297\n",
      "Epoch 1969/2000\n",
      "3/3 [==============================] - 0s 10ms/step - loss: 0.4893 - val_loss: 0.7296\n",
      "Epoch 1970/2000\n",
      "3/3 [==============================] - 0s 11ms/step - loss: 0.4796 - val_loss: 0.7293\n",
      "Epoch 1971/2000\n",
      "3/3 [==============================] - 0s 11ms/step - loss: 0.4703 - val_loss: 0.7290\n",
      "Epoch 1972/2000\n",
      "3/3 [==============================] - 0s 11ms/step - loss: 0.4596 - val_loss: 0.7290\n",
      "Epoch 1973/2000\n",
      "3/3 [==============================] - 0s 10ms/step - loss: 0.4812 - val_loss: 0.7290\n",
      "Epoch 1974/2000\n",
      "3/3 [==============================] - 0s 12ms/step - loss: 0.4478 - val_loss: 0.7292\n",
      "Epoch 1975/2000\n",
      "3/3 [==============================] - 0s 10ms/step - loss: 0.4863 - val_loss: 0.7295\n",
      "Epoch 1976/2000\n",
      "3/3 [==============================] - 0s 13ms/step - loss: 0.4652 - val_loss: 0.7296\n",
      "Epoch 1977/2000\n",
      "3/3 [==============================] - 0s 11ms/step - loss: 0.4534 - val_loss: 0.7294\n",
      "Epoch 1978/2000\n",
      "3/3 [==============================] - 0s 12ms/step - loss: 0.4555 - val_loss: 0.7291\n",
      "Epoch 1979/2000\n",
      "3/3 [==============================] - 0s 11ms/step - loss: 0.4521 - val_loss: 0.7291\n",
      "Epoch 1980/2000\n",
      "3/3 [==============================] - 0s 13ms/step - loss: 0.4773 - val_loss: 0.7290\n",
      "Epoch 1981/2000\n",
      "3/3 [==============================] - 0s 11ms/step - loss: 0.4902 - val_loss: 0.7289\n",
      "Epoch 1982/2000\n",
      "3/3 [==============================] - 0s 13ms/step - loss: 0.4451 - val_loss: 0.7286\n",
      "Epoch 1983/2000\n",
      "3/3 [==============================] - 0s 11ms/step - loss: 0.4716 - val_loss: 0.7288\n",
      "Epoch 1984/2000\n",
      "3/3 [==============================] - 0s 12ms/step - loss: 0.4691 - val_loss: 0.7286\n",
      "Epoch 1985/2000\n",
      "3/3 [==============================] - 0s 9ms/step - loss: 0.4516 - val_loss: 0.7288\n",
      "Epoch 1986/2000\n",
      "3/3 [==============================] - 0s 10ms/step - loss: 0.4385 - val_loss: 0.7287\n",
      "Epoch 1987/2000\n",
      "3/3 [==============================] - 0s 11ms/step - loss: 0.4333 - val_loss: 0.7287\n",
      "Epoch 1988/2000\n",
      "3/3 [==============================] - 0s 11ms/step - loss: 0.4718 - val_loss: 0.7286\n",
      "Epoch 1989/2000\n",
      "3/3 [==============================] - 0s 10ms/step - loss: 0.4761 - val_loss: 0.7287\n",
      "Epoch 1990/2000\n",
      "3/3 [==============================] - 0s 10ms/step - loss: 0.4568 - val_loss: 0.7285\n",
      "Epoch 1991/2000\n",
      "3/3 [==============================] - 0s 11ms/step - loss: 0.4556 - val_loss: 0.7284\n",
      "Epoch 1992/2000\n",
      "3/3 [==============================] - 0s 14ms/step - loss: 0.4561 - val_loss: 0.7284\n",
      "Epoch 1993/2000\n",
      "3/3 [==============================] - 0s 13ms/step - loss: 0.4401 - val_loss: 0.7282\n",
      "Epoch 1994/2000\n",
      "3/3 [==============================] - 0s 15ms/step - loss: 0.4434 - val_loss: 0.7282\n",
      "Epoch 1995/2000\n",
      "3/3 [==============================] - 0s 11ms/step - loss: 0.4544 - val_loss: 0.7281\n",
      "Epoch 1996/2000\n",
      "3/3 [==============================] - 0s 10ms/step - loss: 0.4444 - val_loss: 0.7279\n",
      "Epoch 1997/2000\n",
      "3/3 [==============================] - 0s 10ms/step - loss: 0.4619 - val_loss: 0.7279\n",
      "Epoch 1998/2000\n",
      "3/3 [==============================] - 0s 11ms/step - loss: 0.4594 - val_loss: 0.7278\n",
      "Epoch 1999/2000\n",
      "3/3 [==============================] - 0s 11ms/step - loss: 0.4759 - val_loss: 0.7275\n",
      "Epoch 2000/2000\n",
      "3/3 [==============================] - 0s 11ms/step - loss: 0.4698 - val_loss: 0.7275\n",
      "\tTraining loss for Alabama: 0.5161\n"
     ]
    }
   ],
   "source": [
    "# Normally takes 80s to train\n",
    "models = {}\n",
    "model_histories = {}\n",
    "model_test_data = {}\n",
    "for state in states:\n",
    "    stime = timer()\n",
    "    print(f'------------------------\\nTraining model for {state}')\n",
    "    state_data = state_dfs[state].values\n",
    "\n",
    "    X_windows = (\n",
    "        np.expand_dims(np.arange(lag_order), 0) +\n",
    "        np.expand_dims(np.arange(state_data.shape[0] - lag_order), 0).T\n",
    "    )\n",
    "    y_indices = np.arange(lag_order, state_data.shape[0])\n",
    "\n",
    "    X = np.nan_to_num(state_data[X_windows])\n",
    "    y = np.nan_to_num(state_data[y_indices])\n",
    "\n",
    "    model = model_factory()\n",
    "    model_histories[state] = model.fit(\n",
    "        X,\n",
    "        y,\n",
    "        validation_split=0.2,\n",
    "        epochs=2000,\n",
    "        verbose=1,\n",
    "        callbacks=[checkpoint]\n",
    "    )\n",
    "\n",
    "    # model.load_weights(tmp_path)\n",
    "    \n",
    "    y_pred = model.predict(X)\n",
    "    print(f'\\tTraining loss for {state}: {np.average(MSE(y_pred, y)):.4f}')\n",
    "    models[state] = model\n",
    "    break\n",
    "\n",
    "    print(f'\\tTraining took {timer() - stime:.4f}s')"
   ]
  },
  {
   "cell_type": "code",
   "execution_count": 37,
   "metadata": {},
   "outputs": [],
   "source": [
    "def save_models():\n",
    "    for state, model in models.items():\n",
    "        model.save(f'models/{state}')\n",
    "\n",
    "def load_models():\n",
    "    global models\n",
    "    models = {}\n",
    "    for state in states:\n",
    "        print(f'Loading {state} model...')\n",
    "        models[state] = load_model(f'models/{state}')"
   ]
  },
  {
   "cell_type": "code",
   "execution_count": 38,
   "metadata": {},
   "outputs": [],
   "source": [
    "def forecast(model, data, steps, columns, index):\n",
    "    output = []\n",
    "    for _ in range(steps):\n",
    "        prediction = model.predict(np.reshape(data, (1, lag_order, n_features)))[0]\n",
    "        output.append(prediction)\n",
    "        data = np.vstack((data[1:], prediction))\n",
    "    return pd.DataFrame(output, columns=columns, index=index)"
   ]
  },
  {
   "cell_type": "code",
   "execution_count": 39,
   "metadata": {},
   "outputs": [
    {
     "output_type": "error",
     "ename": "ValueError",
     "evalue": "in user code:\n\n    C:\\Users\\likev\\AppData\\Roaming\\Python\\Python37\\site-packages\\tensorflow\\python\\keras\\engine\\training.py:1454 predict_function  *\n        return step_function(self, iterator)\n    C:\\Users\\likev\\AppData\\Roaming\\Python\\Python37\\site-packages\\tensorflow\\python\\keras\\engine\\training.py:1444 step_function  **\n        outputs = model.distribute_strategy.run(run_step, args=(data,))\n    C:\\Users\\likev\\AppData\\Roaming\\Python\\Python37\\site-packages\\tensorflow\\python\\distribute\\distribute_lib.py:1268 run\n        return self._extended.call_for_each_replica(fn, args=args, kwargs=kwargs)\n    C:\\Users\\likev\\AppData\\Roaming\\Python\\Python37\\site-packages\\tensorflow\\python\\distribute\\distribute_lib.py:2734 call_for_each_replica\n        return self._call_for_each_replica(fn, args, kwargs)\n    C:\\Users\\likev\\AppData\\Roaming\\Python\\Python37\\site-packages\\tensorflow\\python\\distribute\\distribute_lib.py:3355 _call_for_each_replica\n        return fn(*args, **kwargs)\n    C:\\Users\\likev\\AppData\\Roaming\\Python\\Python37\\site-packages\\tensorflow\\python\\keras\\engine\\training.py:1437 run_step  **\n        outputs = model.predict_step(data)\n    C:\\Users\\likev\\AppData\\Roaming\\Python\\Python37\\site-packages\\tensorflow\\python\\keras\\engine\\training.py:1410 predict_step\n        return self(x, training=False)\n    C:\\Users\\likev\\AppData\\Roaming\\Python\\Python37\\site-packages\\tensorflow\\python\\keras\\engine\\base_layer.py:1003 __call__\n        outputs = call_fn(inputs, *args, **kwargs)\n    C:\\Users\\likev\\AppData\\Roaming\\Python\\Python37\\site-packages\\tensorflow\\python\\keras\\engine\\sequential.py:375 call\n        return super(Sequential, self).call(inputs, training=training, mask=mask)\n    C:\\Users\\likev\\AppData\\Roaming\\Python\\Python37\\site-packages\\tensorflow\\python\\keras\\engine\\functional.py:425 call\n        inputs, training=training, mask=mask)\n    C:\\Users\\likev\\AppData\\Roaming\\Python\\Python37\\site-packages\\tensorflow\\python\\keras\\engine\\functional.py:560 _run_internal_graph\n        outputs = node.layer(*args, **kwargs)\n    C:\\Users\\likev\\AppData\\Roaming\\Python\\Python37\\site-packages\\tensorflow\\python\\keras\\engine\\base_layer.py:989 __call__\n        input_spec.assert_input_compatibility(self.input_spec, inputs, self.name)\n    C:\\Users\\likev\\AppData\\Roaming\\Python\\Python37\\site-packages\\tensorflow\\python\\keras\\engine\\input_spec.py:259 assert_input_compatibility\n        ' but received input with shape ' + display_shape(x.shape))\n\n    ValueError: Input 0 of layer dense_6 is incompatible with the layer: expected axis -1 of input shape to have value 70 but received input with shape (None, 90)\n",
     "traceback": [
      "\u001b[1;31m---------------------------------------------------------------------------\u001b[0m",
      "\u001b[1;31mValueError\u001b[0m                                Traceback (most recent call last)",
      "\u001b[1;32m<ipython-input-39-c3a6735bbe28>\u001b[0m in \u001b[0;36m<module>\u001b[1;34m\u001b[0m\n\u001b[0;32m      1\u001b[0m \u001b[0mlag_amount\u001b[0m \u001b[1;33m=\u001b[0m \u001b[0mlag_order\u001b[0m \u001b[1;33m+\u001b[0m \u001b[1;36m2\u001b[0m\u001b[1;33m\u001b[0m\u001b[1;33m\u001b[0m\u001b[0m\n\u001b[0;32m      2\u001b[0m \u001b[0mdata\u001b[0m \u001b[1;33m=\u001b[0m \u001b[0mnp\u001b[0m\u001b[1;33m.\u001b[0m\u001b[0mnan_to_num\u001b[0m\u001b[1;33m(\u001b[0m\u001b[0mstate_dfs\u001b[0m\u001b[1;33m[\u001b[0m\u001b[1;34m'Alabama'\u001b[0m\u001b[1;33m]\u001b[0m\u001b[1;33m.\u001b[0m\u001b[0miloc\u001b[0m\u001b[1;33m[\u001b[0m\u001b[1;33m-\u001b[0m\u001b[0mlag_amount\u001b[0m\u001b[1;33m:\u001b[0m\u001b[1;33m]\u001b[0m\u001b[1;33m.\u001b[0m\u001b[0mvalues\u001b[0m\u001b[1;33m)\u001b[0m\u001b[1;33m\u001b[0m\u001b[1;33m\u001b[0m\u001b[0m\n\u001b[1;32m----> 3\u001b[1;33m \u001b[0mmodels\u001b[0m\u001b[1;33m[\u001b[0m\u001b[1;34m'Alabama'\u001b[0m\u001b[1;33m]\u001b[0m\u001b[1;33m.\u001b[0m\u001b[0mpredict\u001b[0m\u001b[1;33m(\u001b[0m\u001b[0mnp\u001b[0m\u001b[1;33m.\u001b[0m\u001b[0mreshape\u001b[0m\u001b[1;33m(\u001b[0m\u001b[0mdata\u001b[0m\u001b[1;33m,\u001b[0m \u001b[1;33m(\u001b[0m\u001b[1;36m1\u001b[0m\u001b[1;33m,\u001b[0m \u001b[0mlag_amount\u001b[0m\u001b[1;33m,\u001b[0m \u001b[0mn_features\u001b[0m\u001b[1;33m)\u001b[0m\u001b[1;33m)\u001b[0m\u001b[1;33m)\u001b[0m\u001b[1;33m\u001b[0m\u001b[1;33m\u001b[0m\u001b[0m\n\u001b[0m",
      "\u001b[1;32m~\\AppData\\Roaming\\Python\\Python37\\site-packages\\tensorflow\\python\\keras\\engine\\training.py\u001b[0m in \u001b[0;36mpredict\u001b[1;34m(self, x, batch_size, verbose, steps, callbacks, max_queue_size, workers, use_multiprocessing)\u001b[0m\n\u001b[0;32m   1603\u001b[0m           \u001b[1;32mfor\u001b[0m \u001b[0mstep\u001b[0m \u001b[1;32min\u001b[0m \u001b[0mdata_handler\u001b[0m\u001b[1;33m.\u001b[0m\u001b[0msteps\u001b[0m\u001b[1;33m(\u001b[0m\u001b[1;33m)\u001b[0m\u001b[1;33m:\u001b[0m\u001b[1;33m\u001b[0m\u001b[1;33m\u001b[0m\u001b[0m\n\u001b[0;32m   1604\u001b[0m             \u001b[0mcallbacks\u001b[0m\u001b[1;33m.\u001b[0m\u001b[0mon_predict_batch_begin\u001b[0m\u001b[1;33m(\u001b[0m\u001b[0mstep\u001b[0m\u001b[1;33m)\u001b[0m\u001b[1;33m\u001b[0m\u001b[1;33m\u001b[0m\u001b[0m\n\u001b[1;32m-> 1605\u001b[1;33m             \u001b[0mtmp_batch_outputs\u001b[0m \u001b[1;33m=\u001b[0m \u001b[0mself\u001b[0m\u001b[1;33m.\u001b[0m\u001b[0mpredict_function\u001b[0m\u001b[1;33m(\u001b[0m\u001b[0miterator\u001b[0m\u001b[1;33m)\u001b[0m\u001b[1;33m\u001b[0m\u001b[1;33m\u001b[0m\u001b[0m\n\u001b[0m\u001b[0;32m   1606\u001b[0m             \u001b[1;32mif\u001b[0m \u001b[0mdata_handler\u001b[0m\u001b[1;33m.\u001b[0m\u001b[0mshould_sync\u001b[0m\u001b[1;33m:\u001b[0m\u001b[1;33m\u001b[0m\u001b[1;33m\u001b[0m\u001b[0m\n\u001b[0;32m   1607\u001b[0m               \u001b[0mcontext\u001b[0m\u001b[1;33m.\u001b[0m\u001b[0masync_wait\u001b[0m\u001b[1;33m(\u001b[0m\u001b[1;33m)\u001b[0m\u001b[1;33m\u001b[0m\u001b[1;33m\u001b[0m\u001b[0m\n",
      "\u001b[1;32m~\\AppData\\Roaming\\Python\\Python37\\site-packages\\tensorflow\\python\\eager\\def_function.py\u001b[0m in \u001b[0;36m__call__\u001b[1;34m(self, *args, **kwds)\u001b[0m\n\u001b[0;32m    826\u001b[0m     \u001b[0mtracing_count\u001b[0m \u001b[1;33m=\u001b[0m \u001b[0mself\u001b[0m\u001b[1;33m.\u001b[0m\u001b[0mexperimental_get_tracing_count\u001b[0m\u001b[1;33m(\u001b[0m\u001b[1;33m)\u001b[0m\u001b[1;33m\u001b[0m\u001b[1;33m\u001b[0m\u001b[0m\n\u001b[0;32m    827\u001b[0m     \u001b[1;32mwith\u001b[0m \u001b[0mtrace\u001b[0m\u001b[1;33m.\u001b[0m\u001b[0mTrace\u001b[0m\u001b[1;33m(\u001b[0m\u001b[0mself\u001b[0m\u001b[1;33m.\u001b[0m\u001b[0m_name\u001b[0m\u001b[1;33m)\u001b[0m \u001b[1;32mas\u001b[0m \u001b[0mtm\u001b[0m\u001b[1;33m:\u001b[0m\u001b[1;33m\u001b[0m\u001b[1;33m\u001b[0m\u001b[0m\n\u001b[1;32m--> 828\u001b[1;33m       \u001b[0mresult\u001b[0m \u001b[1;33m=\u001b[0m \u001b[0mself\u001b[0m\u001b[1;33m.\u001b[0m\u001b[0m_call\u001b[0m\u001b[1;33m(\u001b[0m\u001b[1;33m*\u001b[0m\u001b[0margs\u001b[0m\u001b[1;33m,\u001b[0m \u001b[1;33m**\u001b[0m\u001b[0mkwds\u001b[0m\u001b[1;33m)\u001b[0m\u001b[1;33m\u001b[0m\u001b[1;33m\u001b[0m\u001b[0m\n\u001b[0m\u001b[0;32m    829\u001b[0m       \u001b[0mcompiler\u001b[0m \u001b[1;33m=\u001b[0m \u001b[1;34m\"xla\"\u001b[0m \u001b[1;32mif\u001b[0m \u001b[0mself\u001b[0m\u001b[1;33m.\u001b[0m\u001b[0m_experimental_compile\u001b[0m \u001b[1;32melse\u001b[0m \u001b[1;34m\"nonXla\"\u001b[0m\u001b[1;33m\u001b[0m\u001b[1;33m\u001b[0m\u001b[0m\n\u001b[0;32m    830\u001b[0m       \u001b[0mnew_tracing_count\u001b[0m \u001b[1;33m=\u001b[0m \u001b[0mself\u001b[0m\u001b[1;33m.\u001b[0m\u001b[0mexperimental_get_tracing_count\u001b[0m\u001b[1;33m(\u001b[0m\u001b[1;33m)\u001b[0m\u001b[1;33m\u001b[0m\u001b[1;33m\u001b[0m\u001b[0m\n",
      "\u001b[1;32m~\\AppData\\Roaming\\Python\\Python37\\site-packages\\tensorflow\\python\\eager\\def_function.py\u001b[0m in \u001b[0;36m_call\u001b[1;34m(self, *args, **kwds)\u001b[0m\n\u001b[0;32m    860\u001b[0m       \u001b[1;31m# In this case we have not created variables on the first call. So we can\u001b[0m\u001b[1;33m\u001b[0m\u001b[1;33m\u001b[0m\u001b[1;33m\u001b[0m\u001b[0m\n\u001b[0;32m    861\u001b[0m       \u001b[1;31m# run the first trace but we should fail if variables are created.\u001b[0m\u001b[1;33m\u001b[0m\u001b[1;33m\u001b[0m\u001b[1;33m\u001b[0m\u001b[0m\n\u001b[1;32m--> 862\u001b[1;33m       \u001b[0mresults\u001b[0m \u001b[1;33m=\u001b[0m \u001b[0mself\u001b[0m\u001b[1;33m.\u001b[0m\u001b[0m_stateful_fn\u001b[0m\u001b[1;33m(\u001b[0m\u001b[1;33m*\u001b[0m\u001b[0margs\u001b[0m\u001b[1;33m,\u001b[0m \u001b[1;33m**\u001b[0m\u001b[0mkwds\u001b[0m\u001b[1;33m)\u001b[0m\u001b[1;33m\u001b[0m\u001b[1;33m\u001b[0m\u001b[0m\n\u001b[0m\u001b[0;32m    863\u001b[0m       \u001b[1;32mif\u001b[0m \u001b[0mself\u001b[0m\u001b[1;33m.\u001b[0m\u001b[0m_created_variables\u001b[0m\u001b[1;33m:\u001b[0m\u001b[1;33m\u001b[0m\u001b[1;33m\u001b[0m\u001b[0m\n\u001b[0;32m    864\u001b[0m         raise ValueError(\"Creating variables on a non-first call to a function\"\n",
      "\u001b[1;32m~\\AppData\\Roaming\\Python\\Python37\\site-packages\\tensorflow\\python\\eager\\function.py\u001b[0m in \u001b[0;36m__call__\u001b[1;34m(self, *args, **kwargs)\u001b[0m\n\u001b[0;32m   2946\u001b[0m     \u001b[1;32mwith\u001b[0m \u001b[0mself\u001b[0m\u001b[1;33m.\u001b[0m\u001b[0m_lock\u001b[0m\u001b[1;33m:\u001b[0m\u001b[1;33m\u001b[0m\u001b[1;33m\u001b[0m\u001b[0m\n\u001b[0;32m   2947\u001b[0m       (graph_function,\n\u001b[1;32m-> 2948\u001b[1;33m        filtered_flat_args) = self._maybe_define_function(args, kwargs)\n\u001b[0m\u001b[0;32m   2949\u001b[0m     return graph_function._call_flat(\n\u001b[0;32m   2950\u001b[0m         filtered_flat_args, captured_inputs=graph_function.captured_inputs)  # pylint: disable=protected-access\n",
      "\u001b[1;32m~\\AppData\\Roaming\\Python\\Python37\\site-packages\\tensorflow\\python\\eager\\function.py\u001b[0m in \u001b[0;36m_maybe_define_function\u001b[1;34m(self, args, kwargs)\u001b[0m\n\u001b[0;32m   3366\u001b[0m               call_context_key in self._function_cache.missed):\n\u001b[0;32m   3367\u001b[0m             return self._define_function_with_shape_relaxation(\n\u001b[1;32m-> 3368\u001b[1;33m                 args, kwargs, flat_args, filtered_flat_args, cache_key_context)\n\u001b[0m\u001b[0;32m   3369\u001b[0m \u001b[1;33m\u001b[0m\u001b[0m\n\u001b[0;32m   3370\u001b[0m           \u001b[0mself\u001b[0m\u001b[1;33m.\u001b[0m\u001b[0m_function_cache\u001b[0m\u001b[1;33m.\u001b[0m\u001b[0mmissed\u001b[0m\u001b[1;33m.\u001b[0m\u001b[0madd\u001b[0m\u001b[1;33m(\u001b[0m\u001b[0mcall_context_key\u001b[0m\u001b[1;33m)\u001b[0m\u001b[1;33m\u001b[0m\u001b[1;33m\u001b[0m\u001b[0m\n",
      "\u001b[1;32m~\\AppData\\Roaming\\Python\\Python37\\site-packages\\tensorflow\\python\\eager\\function.py\u001b[0m in \u001b[0;36m_define_function_with_shape_relaxation\u001b[1;34m(self, args, kwargs, flat_args, filtered_flat_args, cache_key_context)\u001b[0m\n\u001b[0;32m   3288\u001b[0m \u001b[1;33m\u001b[0m\u001b[0m\n\u001b[0;32m   3289\u001b[0m     graph_function = self._create_graph_function(\n\u001b[1;32m-> 3290\u001b[1;33m         args, kwargs, override_flat_arg_shapes=relaxed_arg_shapes)\n\u001b[0m\u001b[0;32m   3291\u001b[0m     \u001b[0mself\u001b[0m\u001b[1;33m.\u001b[0m\u001b[0m_function_cache\u001b[0m\u001b[1;33m.\u001b[0m\u001b[0marg_relaxed\u001b[0m\u001b[1;33m[\u001b[0m\u001b[0mrank_only_cache_key\u001b[0m\u001b[1;33m]\u001b[0m \u001b[1;33m=\u001b[0m \u001b[0mgraph_function\u001b[0m\u001b[1;33m\u001b[0m\u001b[1;33m\u001b[0m\u001b[0m\n\u001b[0;32m   3292\u001b[0m \u001b[1;33m\u001b[0m\u001b[0m\n",
      "\u001b[1;32m~\\AppData\\Roaming\\Python\\Python37\\site-packages\\tensorflow\\python\\eager\\function.py\u001b[0m in \u001b[0;36m_create_graph_function\u001b[1;34m(self, args, kwargs, override_flat_arg_shapes)\u001b[0m\n\u001b[0;32m   3214\u001b[0m             \u001b[0marg_names\u001b[0m\u001b[1;33m=\u001b[0m\u001b[0marg_names\u001b[0m\u001b[1;33m,\u001b[0m\u001b[1;33m\u001b[0m\u001b[1;33m\u001b[0m\u001b[0m\n\u001b[0;32m   3215\u001b[0m             \u001b[0moverride_flat_arg_shapes\u001b[0m\u001b[1;33m=\u001b[0m\u001b[0moverride_flat_arg_shapes\u001b[0m\u001b[1;33m,\u001b[0m\u001b[1;33m\u001b[0m\u001b[1;33m\u001b[0m\u001b[0m\n\u001b[1;32m-> 3216\u001b[1;33m             capture_by_value=self._capture_by_value),\n\u001b[0m\u001b[0;32m   3217\u001b[0m         \u001b[0mself\u001b[0m\u001b[1;33m.\u001b[0m\u001b[0m_function_attributes\u001b[0m\u001b[1;33m,\u001b[0m\u001b[1;33m\u001b[0m\u001b[1;33m\u001b[0m\u001b[0m\n\u001b[0;32m   3218\u001b[0m         \u001b[0mfunction_spec\u001b[0m\u001b[1;33m=\u001b[0m\u001b[0mself\u001b[0m\u001b[1;33m.\u001b[0m\u001b[0mfunction_spec\u001b[0m\u001b[1;33m,\u001b[0m\u001b[1;33m\u001b[0m\u001b[1;33m\u001b[0m\u001b[0m\n",
      "\u001b[1;32m~\\AppData\\Roaming\\Python\\Python37\\site-packages\\tensorflow\\python\\framework\\func_graph.py\u001b[0m in \u001b[0;36mfunc_graph_from_py_func\u001b[1;34m(name, python_func, args, kwargs, signature, func_graph, autograph, autograph_options, add_control_dependencies, arg_names, op_return_value, collections, capture_by_value, override_flat_arg_shapes)\u001b[0m\n\u001b[0;32m    988\u001b[0m         \u001b[0m_\u001b[0m\u001b[1;33m,\u001b[0m \u001b[0moriginal_func\u001b[0m \u001b[1;33m=\u001b[0m \u001b[0mtf_decorator\u001b[0m\u001b[1;33m.\u001b[0m\u001b[0munwrap\u001b[0m\u001b[1;33m(\u001b[0m\u001b[0mpython_func\u001b[0m\u001b[1;33m)\u001b[0m\u001b[1;33m\u001b[0m\u001b[1;33m\u001b[0m\u001b[0m\n\u001b[0;32m    989\u001b[0m \u001b[1;33m\u001b[0m\u001b[0m\n\u001b[1;32m--> 990\u001b[1;33m       \u001b[0mfunc_outputs\u001b[0m \u001b[1;33m=\u001b[0m \u001b[0mpython_func\u001b[0m\u001b[1;33m(\u001b[0m\u001b[1;33m*\u001b[0m\u001b[0mfunc_args\u001b[0m\u001b[1;33m,\u001b[0m \u001b[1;33m**\u001b[0m\u001b[0mfunc_kwargs\u001b[0m\u001b[1;33m)\u001b[0m\u001b[1;33m\u001b[0m\u001b[1;33m\u001b[0m\u001b[0m\n\u001b[0m\u001b[0;32m    991\u001b[0m \u001b[1;33m\u001b[0m\u001b[0m\n\u001b[0;32m    992\u001b[0m       \u001b[1;31m# invariant: `func_outputs` contains only Tensors, CompositeTensors,\u001b[0m\u001b[1;33m\u001b[0m\u001b[1;33m\u001b[0m\u001b[1;33m\u001b[0m\u001b[0m\n",
      "\u001b[1;32m~\\AppData\\Roaming\\Python\\Python37\\site-packages\\tensorflow\\python\\eager\\def_function.py\u001b[0m in \u001b[0;36mwrapped_fn\u001b[1;34m(*args, **kwds)\u001b[0m\n\u001b[0;32m    632\u001b[0m             \u001b[0mxla_context\u001b[0m\u001b[1;33m.\u001b[0m\u001b[0mExit\u001b[0m\u001b[1;33m(\u001b[0m\u001b[1;33m)\u001b[0m\u001b[1;33m\u001b[0m\u001b[1;33m\u001b[0m\u001b[0m\n\u001b[0;32m    633\u001b[0m         \u001b[1;32melse\u001b[0m\u001b[1;33m:\u001b[0m\u001b[1;33m\u001b[0m\u001b[1;33m\u001b[0m\u001b[0m\n\u001b[1;32m--> 634\u001b[1;33m           \u001b[0mout\u001b[0m \u001b[1;33m=\u001b[0m \u001b[0mweak_wrapped_fn\u001b[0m\u001b[1;33m(\u001b[0m\u001b[1;33m)\u001b[0m\u001b[1;33m.\u001b[0m\u001b[0m__wrapped__\u001b[0m\u001b[1;33m(\u001b[0m\u001b[1;33m*\u001b[0m\u001b[0margs\u001b[0m\u001b[1;33m,\u001b[0m \u001b[1;33m**\u001b[0m\u001b[0mkwds\u001b[0m\u001b[1;33m)\u001b[0m\u001b[1;33m\u001b[0m\u001b[1;33m\u001b[0m\u001b[0m\n\u001b[0m\u001b[0;32m    635\u001b[0m         \u001b[1;32mreturn\u001b[0m \u001b[0mout\u001b[0m\u001b[1;33m\u001b[0m\u001b[1;33m\u001b[0m\u001b[0m\n\u001b[0;32m    636\u001b[0m \u001b[1;33m\u001b[0m\u001b[0m\n",
      "\u001b[1;32m~\\AppData\\Roaming\\Python\\Python37\\site-packages\\tensorflow\\python\\framework\\func_graph.py\u001b[0m in \u001b[0;36mwrapper\u001b[1;34m(*args, **kwargs)\u001b[0m\n\u001b[0;32m    975\u001b[0m           \u001b[1;32mexcept\u001b[0m \u001b[0mException\u001b[0m \u001b[1;32mas\u001b[0m \u001b[0me\u001b[0m\u001b[1;33m:\u001b[0m  \u001b[1;31m# pylint:disable=broad-except\u001b[0m\u001b[1;33m\u001b[0m\u001b[1;33m\u001b[0m\u001b[0m\n\u001b[0;32m    976\u001b[0m             \u001b[1;32mif\u001b[0m \u001b[0mhasattr\u001b[0m\u001b[1;33m(\u001b[0m\u001b[0me\u001b[0m\u001b[1;33m,\u001b[0m \u001b[1;34m\"ag_error_metadata\"\u001b[0m\u001b[1;33m)\u001b[0m\u001b[1;33m:\u001b[0m\u001b[1;33m\u001b[0m\u001b[1;33m\u001b[0m\u001b[0m\n\u001b[1;32m--> 977\u001b[1;33m               \u001b[1;32mraise\u001b[0m \u001b[0me\u001b[0m\u001b[1;33m.\u001b[0m\u001b[0mag_error_metadata\u001b[0m\u001b[1;33m.\u001b[0m\u001b[0mto_exception\u001b[0m\u001b[1;33m(\u001b[0m\u001b[0me\u001b[0m\u001b[1;33m)\u001b[0m\u001b[1;33m\u001b[0m\u001b[1;33m\u001b[0m\u001b[0m\n\u001b[0m\u001b[0;32m    978\u001b[0m             \u001b[1;32melse\u001b[0m\u001b[1;33m:\u001b[0m\u001b[1;33m\u001b[0m\u001b[1;33m\u001b[0m\u001b[0m\n\u001b[0;32m    979\u001b[0m               \u001b[1;32mraise\u001b[0m\u001b[1;33m\u001b[0m\u001b[1;33m\u001b[0m\u001b[0m\n",
      "\u001b[1;31mValueError\u001b[0m: in user code:\n\n    C:\\Users\\likev\\AppData\\Roaming\\Python\\Python37\\site-packages\\tensorflow\\python\\keras\\engine\\training.py:1454 predict_function  *\n        return step_function(self, iterator)\n    C:\\Users\\likev\\AppData\\Roaming\\Python\\Python37\\site-packages\\tensorflow\\python\\keras\\engine\\training.py:1444 step_function  **\n        outputs = model.distribute_strategy.run(run_step, args=(data,))\n    C:\\Users\\likev\\AppData\\Roaming\\Python\\Python37\\site-packages\\tensorflow\\python\\distribute\\distribute_lib.py:1268 run\n        return self._extended.call_for_each_replica(fn, args=args, kwargs=kwargs)\n    C:\\Users\\likev\\AppData\\Roaming\\Python\\Python37\\site-packages\\tensorflow\\python\\distribute\\distribute_lib.py:2734 call_for_each_replica\n        return self._call_for_each_replica(fn, args, kwargs)\n    C:\\Users\\likev\\AppData\\Roaming\\Python\\Python37\\site-packages\\tensorflow\\python\\distribute\\distribute_lib.py:3355 _call_for_each_replica\n        return fn(*args, **kwargs)\n    C:\\Users\\likev\\AppData\\Roaming\\Python\\Python37\\site-packages\\tensorflow\\python\\keras\\engine\\training.py:1437 run_step  **\n        outputs = model.predict_step(data)\n    C:\\Users\\likev\\AppData\\Roaming\\Python\\Python37\\site-packages\\tensorflow\\python\\keras\\engine\\training.py:1410 predict_step\n        return self(x, training=False)\n    C:\\Users\\likev\\AppData\\Roaming\\Python\\Python37\\site-packages\\tensorflow\\python\\keras\\engine\\base_layer.py:1003 __call__\n        outputs = call_fn(inputs, *args, **kwargs)\n    C:\\Users\\likev\\AppData\\Roaming\\Python\\Python37\\site-packages\\tensorflow\\python\\keras\\engine\\sequential.py:375 call\n        return super(Sequential, self).call(inputs, training=training, mask=mask)\n    C:\\Users\\likev\\AppData\\Roaming\\Python\\Python37\\site-packages\\tensorflow\\python\\keras\\engine\\functional.py:425 call\n        inputs, training=training, mask=mask)\n    C:\\Users\\likev\\AppData\\Roaming\\Python\\Python37\\site-packages\\tensorflow\\python\\keras\\engine\\functional.py:560 _run_internal_graph\n        outputs = node.layer(*args, **kwargs)\n    C:\\Users\\likev\\AppData\\Roaming\\Python\\Python37\\site-packages\\tensorflow\\python\\keras\\engine\\base_layer.py:989 __call__\n        input_spec.assert_input_compatibility(self.input_spec, inputs, self.name)\n    C:\\Users\\likev\\AppData\\Roaming\\Python\\Python37\\site-packages\\tensorflow\\python\\keras\\engine\\input_spec.py:259 assert_input_compatibility\n        ' but received input with shape ' + display_shape(x.shape))\n\n    ValueError: Input 0 of layer dense_6 is incompatible with the layer: expected axis -1 of input shape to have value 70 but received input with shape (None, 90)\n"
     ]
    }
   ],
   "source": [
    "lag_amount = lag_order + 2\n",
    "data = np.nan_to_num(state_dfs['Alabama'].iloc[-lag_amount:].values)\n",
    "models['Alabama'].predict(np.reshape(data, (1, lag_amount, n_features)))"
   ]
  },
  {
   "cell_type": "code",
   "execution_count": 14,
   "metadata": {},
   "outputs": [
    {
     "output_type": "stream",
     "name": "stdout",
     "text": [
      "Forecasting Alabama (2020-08-18 00:00:00 to 2020-09-12 00:00:00)\n"
     ]
    }
   ],
   "source": [
    "state_forecasts = {}\n",
    "periods = 26\n",
    "columns, index = column_names, pd.date_range(state_dfs['Alabama'].index[-1], periods=periods + 1)[1:]\n",
    "for state in states:\n",
    "    print(f'Forecasting {state} ({index[0]} to {index[-1]})')\n",
    "    data_df = state_dfs[state].iloc[-lag_order:]\n",
    "\n",
    "    forecast_df = forecast(models[state], np.nan_to_num(data_df.values), periods, columns, index)\n",
    "    state_forecasts[state] = forecast_df\n",
    "    break"
   ]
  },
  {
   "cell_type": "code",
   "execution_count": 15,
   "metadata": {},
   "outputs": [],
   "source": [
    "cleaned_dfs = {}\n",
    "for state in states:\n",
    "    cleaned_df = state_forecasts[state][['Confirmed', 'Deaths']]\n",
    "    cleaned_df['Province_State'] = state\n",
    "    cleaned_df['Date'] = cleaned_df.index\n",
    "\n",
    "    cleaned_df['Confirmed'] *= state_stds[state]['Confirmed']\n",
    "    cleaned_df['Deaths'] *= state_stds[state]['Deaths']\n",
    "    cleaned_df['Confirmed'] += state_means[state]['Confirmed']\n",
    "    cleaned_df['Deaths'] += state_means[state]['Deaths']\n",
    "\n",
    "\n",
    "    cleaned_dfs[state] = cleaned_df[['Province_State', 'Date', 'Confirmed', 'Deaths']]\n",
    "\n",
    "    break\n",
    "\n",
    "kaggle_res = []\n",
    "\n",
    "for _ in range(periods):\n",
    "    for state in states:\n",
    "        kaggle_res.append(state_forecasts[state].iloc[_])\n",
    "        break"
   ]
  },
  {
   "cell_type": "code",
   "execution_count": 16,
   "metadata": {},
   "outputs": [
    {
     "output_type": "execute_result",
     "data": {
      "text/plain": [
       "            Confirmed    Deaths  Recovered    Active  Incident_Rate  \\\n",
       "Date                                                                  \n",
       "2020-04-12  -1.052775 -1.471530        NaN -0.939513      -1.052544   \n",
       "2020-04-13  -1.047588 -1.460031        NaN -0.930893      -1.047108   \n",
       "2020-04-14  -1.040945 -1.431285        NaN -0.920234      -1.040146   \n",
       "2020-04-15  -1.037245 -1.423619        NaN -0.914070      -1.036268   \n",
       "2020-04-16  -1.029055 -1.394873        NaN -0.900747      -1.027685   \n",
       "...               ...       ...        ...       ...            ...   \n",
       "2020-08-13   2.040889  1.972286   1.666994  2.125945       2.043060   \n",
       "2020-08-14   2.063699  1.978035   1.666994  2.165077       2.065921   \n",
       "2020-08-15   2.102250  1.983784   1.666994  2.231325       2.104558   \n",
       "2020-08-16   2.128123  1.987617   1.666994  2.275786       2.130489   \n",
       "2020-08-17   2.145443  2.039360   1.666994  2.304207       2.147847   \n",
       "\n",
       "            People_Tested  People_Hospitalized  Mortality_Rate  Testing_Rate  \\\n",
       "Date                                                                           \n",
       "2020-04-12      -1.351007            -0.940580       -0.322742     -1.355781   \n",
       "2020-04-13      -1.319982            -0.935523       -0.273013     -1.323213   \n",
       "2020-04-14      -1.303916            -0.926421        0.008032     -1.306349   \n",
       "2020-04-15      -1.299997            -0.918330        0.022315     -1.302234   \n",
       "2020-04-16      -1.290549            -0.911250        0.222047     -1.292317   \n",
       "...                   ...                  ...             ...           ...   \n",
       "2020-08-13       1.837541             2.098405       -1.313228      1.840986   \n",
       "2020-08-14       1.929084             2.098405       -1.325123      1.932881   \n",
       "2020-08-15       1.978212             2.136585       -1.347175      1.982198   \n",
       "2020-08-16       2.016619             2.136585       -1.361700      2.020752   \n",
       "2020-08-17       2.043153             2.225334       -1.342848      2.047388   \n",
       "\n",
       "            Hospitalization_Rate  \n",
       "Date                              \n",
       "2020-04-12              0.638766  \n",
       "2020-04-13              0.626093  \n",
       "2020-04-14              0.739237  \n",
       "2020-04-15              0.939550  \n",
       "2020-04-16              0.863605  \n",
       "...                          ...  \n",
       "2020-08-13              0.412781  \n",
       "2020-08-14              0.372187  \n",
       "2020-08-15              0.373127  \n",
       "2020-08-16              0.328295  \n",
       "2020-08-17              0.455274  \n",
       "\n",
       "[128 rows x 10 columns]"
      ],
      "text/html": "<div>\n<style scoped>\n    .dataframe tbody tr th:only-of-type {\n        vertical-align: middle;\n    }\n\n    .dataframe tbody tr th {\n        vertical-align: top;\n    }\n\n    .dataframe thead th {\n        text-align: right;\n    }\n</style>\n<table border=\"1\" class=\"dataframe\">\n  <thead>\n    <tr style=\"text-align: right;\">\n      <th></th>\n      <th>Confirmed</th>\n      <th>Deaths</th>\n      <th>Recovered</th>\n      <th>Active</th>\n      <th>Incident_Rate</th>\n      <th>People_Tested</th>\n      <th>People_Hospitalized</th>\n      <th>Mortality_Rate</th>\n      <th>Testing_Rate</th>\n      <th>Hospitalization_Rate</th>\n    </tr>\n    <tr>\n      <th>Date</th>\n      <th></th>\n      <th></th>\n      <th></th>\n      <th></th>\n      <th></th>\n      <th></th>\n      <th></th>\n      <th></th>\n      <th></th>\n      <th></th>\n    </tr>\n  </thead>\n  <tbody>\n    <tr>\n      <th>2020-04-12</th>\n      <td>-1.052775</td>\n      <td>-1.471530</td>\n      <td>NaN</td>\n      <td>-0.939513</td>\n      <td>-1.052544</td>\n      <td>-1.351007</td>\n      <td>-0.940580</td>\n      <td>-0.322742</td>\n      <td>-1.355781</td>\n      <td>0.638766</td>\n    </tr>\n    <tr>\n      <th>2020-04-13</th>\n      <td>-1.047588</td>\n      <td>-1.460031</td>\n      <td>NaN</td>\n      <td>-0.930893</td>\n      <td>-1.047108</td>\n      <td>-1.319982</td>\n      <td>-0.935523</td>\n      <td>-0.273013</td>\n      <td>-1.323213</td>\n      <td>0.626093</td>\n    </tr>\n    <tr>\n      <th>2020-04-14</th>\n      <td>-1.040945</td>\n      <td>-1.431285</td>\n      <td>NaN</td>\n      <td>-0.920234</td>\n      <td>-1.040146</td>\n      <td>-1.303916</td>\n      <td>-0.926421</td>\n      <td>0.008032</td>\n      <td>-1.306349</td>\n      <td>0.739237</td>\n    </tr>\n    <tr>\n      <th>2020-04-15</th>\n      <td>-1.037245</td>\n      <td>-1.423619</td>\n      <td>NaN</td>\n      <td>-0.914070</td>\n      <td>-1.036268</td>\n      <td>-1.299997</td>\n      <td>-0.918330</td>\n      <td>0.022315</td>\n      <td>-1.302234</td>\n      <td>0.939550</td>\n    </tr>\n    <tr>\n      <th>2020-04-16</th>\n      <td>-1.029055</td>\n      <td>-1.394873</td>\n      <td>NaN</td>\n      <td>-0.900747</td>\n      <td>-1.027685</td>\n      <td>-1.290549</td>\n      <td>-0.911250</td>\n      <td>0.222047</td>\n      <td>-1.292317</td>\n      <td>0.863605</td>\n    </tr>\n    <tr>\n      <th>...</th>\n      <td>...</td>\n      <td>...</td>\n      <td>...</td>\n      <td>...</td>\n      <td>...</td>\n      <td>...</td>\n      <td>...</td>\n      <td>...</td>\n      <td>...</td>\n      <td>...</td>\n    </tr>\n    <tr>\n      <th>2020-08-13</th>\n      <td>2.040889</td>\n      <td>1.972286</td>\n      <td>1.666994</td>\n      <td>2.125945</td>\n      <td>2.043060</td>\n      <td>1.837541</td>\n      <td>2.098405</td>\n      <td>-1.313228</td>\n      <td>1.840986</td>\n      <td>0.412781</td>\n    </tr>\n    <tr>\n      <th>2020-08-14</th>\n      <td>2.063699</td>\n      <td>1.978035</td>\n      <td>1.666994</td>\n      <td>2.165077</td>\n      <td>2.065921</td>\n      <td>1.929084</td>\n      <td>2.098405</td>\n      <td>-1.325123</td>\n      <td>1.932881</td>\n      <td>0.372187</td>\n    </tr>\n    <tr>\n      <th>2020-08-15</th>\n      <td>2.102250</td>\n      <td>1.983784</td>\n      <td>1.666994</td>\n      <td>2.231325</td>\n      <td>2.104558</td>\n      <td>1.978212</td>\n      <td>2.136585</td>\n      <td>-1.347175</td>\n      <td>1.982198</td>\n      <td>0.373127</td>\n    </tr>\n    <tr>\n      <th>2020-08-16</th>\n      <td>2.128123</td>\n      <td>1.987617</td>\n      <td>1.666994</td>\n      <td>2.275786</td>\n      <td>2.130489</td>\n      <td>2.016619</td>\n      <td>2.136585</td>\n      <td>-1.361700</td>\n      <td>2.020752</td>\n      <td>0.328295</td>\n    </tr>\n    <tr>\n      <th>2020-08-17</th>\n      <td>2.145443</td>\n      <td>2.039360</td>\n      <td>1.666994</td>\n      <td>2.304207</td>\n      <td>2.147847</td>\n      <td>2.043153</td>\n      <td>2.225334</td>\n      <td>-1.342848</td>\n      <td>2.047388</td>\n      <td>0.455274</td>\n    </tr>\n  </tbody>\n</table>\n<p>128 rows × 10 columns</p>\n</div>"
     },
     "metadata": {},
     "execution_count": 16
    }
   ],
   "source": [
    "state_dfs['Alabama']"
   ]
  },
  {
   "cell_type": "code",
   "execution_count": 17,
   "metadata": {},
   "outputs": [
    {
     "output_type": "execute_result",
     "data": {
      "text/plain": [
       "            Confirmed    Deaths  Recovered    Active  Incident_Rate  \\\n",
       "2020-08-18   0.904821  0.874941   0.777975  0.785305       0.902831   \n",
       "2020-08-19   0.904819  0.874940   0.777972  0.785301       0.902829   \n",
       "2020-08-20   0.904816  0.874937   0.777966  0.785295       0.902826   \n",
       "2020-08-21   0.904813  0.874934   0.777961  0.785289       0.902824   \n",
       "2020-08-22   0.904803  0.874925   0.777943  0.785270       0.902814   \n",
       "2020-08-23   0.904786  0.874909   0.777912  0.785238       0.902798   \n",
       "2020-08-24   0.904767  0.874891   0.777876  0.785199       0.902778   \n",
       "2020-08-25   0.904691  0.874820   0.777738  0.785052       0.902705   \n",
       "2020-08-26   0.904691  0.874820   0.777738  0.785052       0.902705   \n",
       "2020-08-27   0.904691  0.874820   0.777738  0.785052       0.902705   \n",
       "2020-08-28   0.904691  0.874820   0.777738  0.785052       0.902705   \n",
       "2020-08-29   0.904691  0.874820   0.777738  0.785052       0.902705   \n",
       "2020-08-30   0.904691  0.874820   0.777738  0.785051       0.902705   \n",
       "2020-08-31   0.904691  0.874820   0.777738  0.785051       0.902705   \n",
       "2020-09-01   0.904691  0.874820   0.777738  0.785051       0.902705   \n",
       "2020-09-02   0.904691  0.874820   0.777738  0.785051       0.902705   \n",
       "2020-09-03   0.904691  0.874820   0.777738  0.785051       0.902705   \n",
       "2020-09-04   0.904691  0.874820   0.777738  0.785051       0.902705   \n",
       "2020-09-05   0.904691  0.874820   0.777738  0.785051       0.902705   \n",
       "2020-09-06   0.904691  0.874820   0.777738  0.785051       0.902705   \n",
       "2020-09-07   0.904691  0.874820   0.777738  0.785051       0.902705   \n",
       "2020-09-08   0.904691  0.874820   0.777738  0.785051       0.902705   \n",
       "2020-09-09   0.904691  0.874820   0.777738  0.785051       0.902705   \n",
       "2020-09-10   0.904691  0.874820   0.777738  0.785051       0.902705   \n",
       "2020-09-11   0.904691  0.874820   0.777738  0.785051       0.902705   \n",
       "2020-09-12   0.904691  0.874820   0.777738  0.785051       0.902705   \n",
       "\n",
       "            People_Tested  People_Hospitalized  Mortality_Rate  Testing_Rate  \\\n",
       "2020-08-18       0.946600             0.938818        0.000016      0.945220   \n",
       "2020-08-19       0.946599             0.938816        0.000016      0.945219   \n",
       "2020-08-20       0.946598             0.938813        0.000016      0.945217   \n",
       "2020-08-21       0.946596             0.938811        0.000016      0.945216   \n",
       "2020-08-22       0.946592             0.938803        0.000016      0.945211   \n",
       "2020-08-23       0.946584             0.938789        0.000016      0.945203   \n",
       "2020-08-24       0.946575             0.938772        0.000016      0.945193   \n",
       "2020-08-25       0.946540             0.938709        0.000016      0.945157   \n",
       "2020-08-26       0.946540             0.938709        0.000016      0.945157   \n",
       "2020-08-27       0.946540             0.938709        0.000016      0.945157   \n",
       "2020-08-28       0.946540             0.938709        0.000016      0.945157   \n",
       "2020-08-29       0.946540             0.938709        0.000016      0.945157   \n",
       "2020-08-30       0.946540             0.938708        0.000016      0.945157   \n",
       "2020-08-31       0.946540             0.938708        0.000016      0.945157   \n",
       "2020-09-01       0.946540             0.938708        0.000016      0.945157   \n",
       "2020-09-02       0.946540             0.938708        0.000016      0.945157   \n",
       "2020-09-03       0.946540             0.938708        0.000016      0.945157   \n",
       "2020-09-04       0.946540             0.938708        0.000016      0.945157   \n",
       "2020-09-05       0.946540             0.938708        0.000016      0.945157   \n",
       "2020-09-06       0.946540             0.938708        0.000016      0.945157   \n",
       "2020-09-07       0.946540             0.938708        0.000016      0.945157   \n",
       "2020-09-08       0.946540             0.938708        0.000016      0.945157   \n",
       "2020-09-09       0.946540             0.938708        0.000016      0.945157   \n",
       "2020-09-10       0.946540             0.938708        0.000016      0.945157   \n",
       "2020-09-11       0.946540             0.938708        0.000016      0.945157   \n",
       "2020-09-12       0.946540             0.938708        0.000016      0.945157   \n",
       "\n",
       "            Hospitalization_Rate  \n",
       "2020-08-18              0.077989  \n",
       "2020-08-19              0.077989  \n",
       "2020-08-20              0.077988  \n",
       "2020-08-21              0.077988  \n",
       "2020-08-22              0.077987  \n",
       "2020-08-23              0.077984  \n",
       "2020-08-24              0.077982  \n",
       "2020-08-25              0.077972  \n",
       "2020-08-26              0.077972  \n",
       "2020-08-27              0.077972  \n",
       "2020-08-28              0.077972  \n",
       "2020-08-29              0.077972  \n",
       "2020-08-30              0.077972  \n",
       "2020-08-31              0.077972  \n",
       "2020-09-01              0.077972  \n",
       "2020-09-02              0.077972  \n",
       "2020-09-03              0.077972  \n",
       "2020-09-04              0.077972  \n",
       "2020-09-05              0.077972  \n",
       "2020-09-06              0.077972  \n",
       "2020-09-07              0.077972  \n",
       "2020-09-08              0.077972  \n",
       "2020-09-09              0.077972  \n",
       "2020-09-10              0.077972  \n",
       "2020-09-11              0.077972  \n",
       "2020-09-12              0.077972  "
      ],
      "text/html": "<div>\n<style scoped>\n    .dataframe tbody tr th:only-of-type {\n        vertical-align: middle;\n    }\n\n    .dataframe tbody tr th {\n        vertical-align: top;\n    }\n\n    .dataframe thead th {\n        text-align: right;\n    }\n</style>\n<table border=\"1\" class=\"dataframe\">\n  <thead>\n    <tr style=\"text-align: right;\">\n      <th></th>\n      <th>Confirmed</th>\n      <th>Deaths</th>\n      <th>Recovered</th>\n      <th>Active</th>\n      <th>Incident_Rate</th>\n      <th>People_Tested</th>\n      <th>People_Hospitalized</th>\n      <th>Mortality_Rate</th>\n      <th>Testing_Rate</th>\n      <th>Hospitalization_Rate</th>\n    </tr>\n  </thead>\n  <tbody>\n    <tr>\n      <th>2020-08-18</th>\n      <td>0.904821</td>\n      <td>0.874941</td>\n      <td>0.777975</td>\n      <td>0.785305</td>\n      <td>0.902831</td>\n      <td>0.946600</td>\n      <td>0.938818</td>\n      <td>0.000016</td>\n      <td>0.945220</td>\n      <td>0.077989</td>\n    </tr>\n    <tr>\n      <th>2020-08-19</th>\n      <td>0.904819</td>\n      <td>0.874940</td>\n      <td>0.777972</td>\n      <td>0.785301</td>\n      <td>0.902829</td>\n      <td>0.946599</td>\n      <td>0.938816</td>\n      <td>0.000016</td>\n      <td>0.945219</td>\n      <td>0.077989</td>\n    </tr>\n    <tr>\n      <th>2020-08-20</th>\n      <td>0.904816</td>\n      <td>0.874937</td>\n      <td>0.777966</td>\n      <td>0.785295</td>\n      <td>0.902826</td>\n      <td>0.946598</td>\n      <td>0.938813</td>\n      <td>0.000016</td>\n      <td>0.945217</td>\n      <td>0.077988</td>\n    </tr>\n    <tr>\n      <th>2020-08-21</th>\n      <td>0.904813</td>\n      <td>0.874934</td>\n      <td>0.777961</td>\n      <td>0.785289</td>\n      <td>0.902824</td>\n      <td>0.946596</td>\n      <td>0.938811</td>\n      <td>0.000016</td>\n      <td>0.945216</td>\n      <td>0.077988</td>\n    </tr>\n    <tr>\n      <th>2020-08-22</th>\n      <td>0.904803</td>\n      <td>0.874925</td>\n      <td>0.777943</td>\n      <td>0.785270</td>\n      <td>0.902814</td>\n      <td>0.946592</td>\n      <td>0.938803</td>\n      <td>0.000016</td>\n      <td>0.945211</td>\n      <td>0.077987</td>\n    </tr>\n    <tr>\n      <th>2020-08-23</th>\n      <td>0.904786</td>\n      <td>0.874909</td>\n      <td>0.777912</td>\n      <td>0.785238</td>\n      <td>0.902798</td>\n      <td>0.946584</td>\n      <td>0.938789</td>\n      <td>0.000016</td>\n      <td>0.945203</td>\n      <td>0.077984</td>\n    </tr>\n    <tr>\n      <th>2020-08-24</th>\n      <td>0.904767</td>\n      <td>0.874891</td>\n      <td>0.777876</td>\n      <td>0.785199</td>\n      <td>0.902778</td>\n      <td>0.946575</td>\n      <td>0.938772</td>\n      <td>0.000016</td>\n      <td>0.945193</td>\n      <td>0.077982</td>\n    </tr>\n    <tr>\n      <th>2020-08-25</th>\n      <td>0.904691</td>\n      <td>0.874820</td>\n      <td>0.777738</td>\n      <td>0.785052</td>\n      <td>0.902705</td>\n      <td>0.946540</td>\n      <td>0.938709</td>\n      <td>0.000016</td>\n      <td>0.945157</td>\n      <td>0.077972</td>\n    </tr>\n    <tr>\n      <th>2020-08-26</th>\n      <td>0.904691</td>\n      <td>0.874820</td>\n      <td>0.777738</td>\n      <td>0.785052</td>\n      <td>0.902705</td>\n      <td>0.946540</td>\n      <td>0.938709</td>\n      <td>0.000016</td>\n      <td>0.945157</td>\n      <td>0.077972</td>\n    </tr>\n    <tr>\n      <th>2020-08-27</th>\n      <td>0.904691</td>\n      <td>0.874820</td>\n      <td>0.777738</td>\n      <td>0.785052</td>\n      <td>0.902705</td>\n      <td>0.946540</td>\n      <td>0.938709</td>\n      <td>0.000016</td>\n      <td>0.945157</td>\n      <td>0.077972</td>\n    </tr>\n    <tr>\n      <th>2020-08-28</th>\n      <td>0.904691</td>\n      <td>0.874820</td>\n      <td>0.777738</td>\n      <td>0.785052</td>\n      <td>0.902705</td>\n      <td>0.946540</td>\n      <td>0.938709</td>\n      <td>0.000016</td>\n      <td>0.945157</td>\n      <td>0.077972</td>\n    </tr>\n    <tr>\n      <th>2020-08-29</th>\n      <td>0.904691</td>\n      <td>0.874820</td>\n      <td>0.777738</td>\n      <td>0.785052</td>\n      <td>0.902705</td>\n      <td>0.946540</td>\n      <td>0.938709</td>\n      <td>0.000016</td>\n      <td>0.945157</td>\n      <td>0.077972</td>\n    </tr>\n    <tr>\n      <th>2020-08-30</th>\n      <td>0.904691</td>\n      <td>0.874820</td>\n      <td>0.777738</td>\n      <td>0.785051</td>\n      <td>0.902705</td>\n      <td>0.946540</td>\n      <td>0.938708</td>\n      <td>0.000016</td>\n      <td>0.945157</td>\n      <td>0.077972</td>\n    </tr>\n    <tr>\n      <th>2020-08-31</th>\n      <td>0.904691</td>\n      <td>0.874820</td>\n      <td>0.777738</td>\n      <td>0.785051</td>\n      <td>0.902705</td>\n      <td>0.946540</td>\n      <td>0.938708</td>\n      <td>0.000016</td>\n      <td>0.945157</td>\n      <td>0.077972</td>\n    </tr>\n    <tr>\n      <th>2020-09-01</th>\n      <td>0.904691</td>\n      <td>0.874820</td>\n      <td>0.777738</td>\n      <td>0.785051</td>\n      <td>0.902705</td>\n      <td>0.946540</td>\n      <td>0.938708</td>\n      <td>0.000016</td>\n      <td>0.945157</td>\n      <td>0.077972</td>\n    </tr>\n    <tr>\n      <th>2020-09-02</th>\n      <td>0.904691</td>\n      <td>0.874820</td>\n      <td>0.777738</td>\n      <td>0.785051</td>\n      <td>0.902705</td>\n      <td>0.946540</td>\n      <td>0.938708</td>\n      <td>0.000016</td>\n      <td>0.945157</td>\n      <td>0.077972</td>\n    </tr>\n    <tr>\n      <th>2020-09-03</th>\n      <td>0.904691</td>\n      <td>0.874820</td>\n      <td>0.777738</td>\n      <td>0.785051</td>\n      <td>0.902705</td>\n      <td>0.946540</td>\n      <td>0.938708</td>\n      <td>0.000016</td>\n      <td>0.945157</td>\n      <td>0.077972</td>\n    </tr>\n    <tr>\n      <th>2020-09-04</th>\n      <td>0.904691</td>\n      <td>0.874820</td>\n      <td>0.777738</td>\n      <td>0.785051</td>\n      <td>0.902705</td>\n      <td>0.946540</td>\n      <td>0.938708</td>\n      <td>0.000016</td>\n      <td>0.945157</td>\n      <td>0.077972</td>\n    </tr>\n    <tr>\n      <th>2020-09-05</th>\n      <td>0.904691</td>\n      <td>0.874820</td>\n      <td>0.777738</td>\n      <td>0.785051</td>\n      <td>0.902705</td>\n      <td>0.946540</td>\n      <td>0.938708</td>\n      <td>0.000016</td>\n      <td>0.945157</td>\n      <td>0.077972</td>\n    </tr>\n    <tr>\n      <th>2020-09-06</th>\n      <td>0.904691</td>\n      <td>0.874820</td>\n      <td>0.777738</td>\n      <td>0.785051</td>\n      <td>0.902705</td>\n      <td>0.946540</td>\n      <td>0.938708</td>\n      <td>0.000016</td>\n      <td>0.945157</td>\n      <td>0.077972</td>\n    </tr>\n    <tr>\n      <th>2020-09-07</th>\n      <td>0.904691</td>\n      <td>0.874820</td>\n      <td>0.777738</td>\n      <td>0.785051</td>\n      <td>0.902705</td>\n      <td>0.946540</td>\n      <td>0.938708</td>\n      <td>0.000016</td>\n      <td>0.945157</td>\n      <td>0.077972</td>\n    </tr>\n    <tr>\n      <th>2020-09-08</th>\n      <td>0.904691</td>\n      <td>0.874820</td>\n      <td>0.777738</td>\n      <td>0.785051</td>\n      <td>0.902705</td>\n      <td>0.946540</td>\n      <td>0.938708</td>\n      <td>0.000016</td>\n      <td>0.945157</td>\n      <td>0.077972</td>\n    </tr>\n    <tr>\n      <th>2020-09-09</th>\n      <td>0.904691</td>\n      <td>0.874820</td>\n      <td>0.777738</td>\n      <td>0.785051</td>\n      <td>0.902705</td>\n      <td>0.946540</td>\n      <td>0.938708</td>\n      <td>0.000016</td>\n      <td>0.945157</td>\n      <td>0.077972</td>\n    </tr>\n    <tr>\n      <th>2020-09-10</th>\n      <td>0.904691</td>\n      <td>0.874820</td>\n      <td>0.777738</td>\n      <td>0.785051</td>\n      <td>0.902705</td>\n      <td>0.946540</td>\n      <td>0.938708</td>\n      <td>0.000016</td>\n      <td>0.945157</td>\n      <td>0.077972</td>\n    </tr>\n    <tr>\n      <th>2020-09-11</th>\n      <td>0.904691</td>\n      <td>0.874820</td>\n      <td>0.777738</td>\n      <td>0.785051</td>\n      <td>0.902705</td>\n      <td>0.946540</td>\n      <td>0.938708</td>\n      <td>0.000016</td>\n      <td>0.945157</td>\n      <td>0.077972</td>\n    </tr>\n    <tr>\n      <th>2020-09-12</th>\n      <td>0.904691</td>\n      <td>0.874820</td>\n      <td>0.777738</td>\n      <td>0.785051</td>\n      <td>0.902705</td>\n      <td>0.946540</td>\n      <td>0.938708</td>\n      <td>0.000016</td>\n      <td>0.945157</td>\n      <td>0.077972</td>\n    </tr>\n  </tbody>\n</table>\n</div>"
     },
     "metadata": {},
     "execution_count": 17
    }
   ],
   "source": [
    "state_forecasts['Alabama']"
   ]
  },
  {
   "cell_type": "code",
   "execution_count": 43,
   "metadata": {},
   "outputs": [
    {
     "output_type": "execute_result",
     "data": {
      "text/plain": [
       "array([[ 1.98914303,  1.88987935,  1.36017189,  2.22714522,  1.991199  ,\n",
       "         1.76048704,  2.00080512, -1.32771935,  1.7636355 ,  0.3262941 ],\n",
       "       [ 2.01750328,  1.95695422,  1.66699391,  2.08608209,  2.01962242,\n",
       "         1.80981491,  2.05693746, -1.30653362,  1.81315306,  0.3788915 ],\n",
       "       [ 2.04088911,  1.97228562,  1.66699391,  2.12594548,  2.04306034,\n",
       "         1.83754091,  2.0984046 , -1.31322779,  1.84098568,  0.41278058],\n",
       "       [ 2.06369864,  1.97803489,  1.66699391,  2.16507744,  2.06592067,\n",
       "         1.92908449,  2.0984046 , -1.32512287,  1.93288128,  0.3721867 ],\n",
       "       [ 2.10225039,  1.98378417,  1.66699391,  2.23132487,  2.10455828,\n",
       "         1.97821231,  2.1365847 , -1.34717508,  1.98219802,  0.3731268 ],\n",
       "       [ 2.12812343,  1.98761702,  1.66699391,  2.27578588,  2.13048895,\n",
       "         2.0166188 ,  2.1365847 , -1.36169989,  2.0207522 ,  0.32829471],\n",
       "       [ 2.1454429 ,  2.03936049,  1.66699391,  2.30420748,  2.147847  ,\n",
       "         2.04315264,  2.22533449, -1.34284791,  2.04738808,  0.45527395]])"
      ]
     },
     "metadata": {},
     "execution_count": 43
    }
   ],
   "source": [
    "data"
   ]
  },
  {
   "cell_type": "code",
   "execution_count": 45,
   "metadata": {},
   "outputs": [
    {
     "output_type": "execute_result",
     "data": {
      "text/plain": [
       "array([[7.8575581e-02, 2.1269998e-01, 1.9072860e-02, 3.7107766e-03,\n",
       "        7.7775538e-02, 2.8666687e-01, 6.7725182e-03, 1.6045570e-04,\n",
       "        2.6910794e-01, 2.1868646e-03]], dtype=float32)"
      ]
     },
     "metadata": {},
     "execution_count": 45
    }
   ],
   "source": [
    "model.predict(np.zeros((1, lag_order, n_features)))"
   ]
  },
  {
   "cell_type": "code",
   "execution_count": 47,
   "metadata": {},
   "outputs": [
    {
     "output_type": "execute_result",
     "data": {
      "text/plain": [
       "array([[8.7328923e-01, 8.3507824e-01, 7.6038605e-01, 8.1728578e-01,\n",
       "        8.7057137e-01, 9.1755855e-01, 9.5172745e-01, 4.5900210e-06,\n",
       "        9.3304586e-01, 8.1912458e-01]], dtype=float32)"
      ]
     },
     "metadata": {},
     "execution_count": 47
    }
   ],
   "source": [
    "data = state_dfs['Alabama'].iloc[-lag_order:]\n",
    "\n",
    "model.predict(np.reshape(np.nan_to_num(data.values), (1, lag_order, n_features)))"
   ]
  },
  {
   "cell_type": "code",
   "execution_count": 18,
   "metadata": {},
   "outputs": [
    {
     "output_type": "display_data",
     "data": {
      "application/vnd.plotly.v1+json": {
       "config": {
        "plotlyServerURL": "https://plot.ly"
       },
       "data": [
        {
         "hovertemplate": "variable=Confirmed<br>index=%{x}<br>value=%{y}<extra></extra>",
         "legendgroup": "Confirmed",
         "line": {
          "color": "#636efa",
          "dash": "solid"
         },
         "mode": "lines",
         "name": "Confirmed",
         "showlegend": true,
         "type": "scattergl",
         "x": [
          "2020-04-12T00:00:00",
          "2020-04-13T00:00:00",
          "2020-04-14T00:00:00",
          "2020-04-15T00:00:00",
          "2020-04-16T00:00:00",
          "2020-04-17T00:00:00",
          "2020-04-18T00:00:00",
          "2020-04-19T00:00:00",
          "2020-04-20T00:00:00",
          "2020-04-21T00:00:00",
          "2020-04-22T00:00:00",
          "2020-04-23T00:00:00",
          "2020-04-24T00:00:00",
          "2020-04-25T00:00:00",
          "2020-04-26T00:00:00",
          "2020-04-27T00:00:00",
          "2020-04-28T00:00:00",
          "2020-04-29T00:00:00",
          "2020-04-30T00:00:00",
          "2020-05-01T00:00:00",
          "2020-05-02T00:00:00",
          "2020-05-03T00:00:00",
          "2020-05-04T00:00:00",
          "2020-05-05T00:00:00",
          "2020-05-06T00:00:00",
          "2020-05-07T00:00:00",
          "2020-05-08T00:00:00",
          "2020-05-09T00:00:00",
          "2020-05-10T00:00:00",
          "2020-05-11T00:00:00",
          "2020-05-12T00:00:00",
          "2020-05-13T00:00:00",
          "2020-05-14T00:00:00",
          "2020-05-15T00:00:00",
          "2020-05-16T00:00:00",
          "2020-05-17T00:00:00",
          "2020-05-18T00:00:00",
          "2020-05-19T00:00:00",
          "2020-05-20T00:00:00",
          "2020-05-21T00:00:00",
          "2020-05-22T00:00:00",
          "2020-05-23T00:00:00",
          "2020-05-24T00:00:00",
          "2020-05-25T00:00:00",
          "2020-05-26T00:00:00",
          "2020-05-27T00:00:00",
          "2020-05-28T00:00:00",
          "2020-05-29T00:00:00",
          "2020-05-30T00:00:00",
          "2020-05-31T00:00:00",
          "2020-06-01T00:00:00",
          "2020-06-02T00:00:00",
          "2020-06-03T00:00:00",
          "2020-06-04T00:00:00",
          "2020-06-05T00:00:00",
          "2020-06-06T00:00:00",
          "2020-06-07T00:00:00",
          "2020-06-08T00:00:00",
          "2020-06-09T00:00:00",
          "2020-06-10T00:00:00",
          "2020-06-11T00:00:00",
          "2020-06-12T00:00:00",
          "2020-06-13T00:00:00",
          "2020-06-14T00:00:00",
          "2020-06-15T00:00:00",
          "2020-06-16T00:00:00",
          "2020-06-17T00:00:00",
          "2020-06-18T00:00:00",
          "2020-06-19T00:00:00",
          "2020-06-20T00:00:00",
          "2020-06-21T00:00:00",
          "2020-06-22T00:00:00",
          "2020-06-23T00:00:00",
          "2020-06-24T00:00:00",
          "2020-06-25T00:00:00",
          "2020-06-26T00:00:00",
          "2020-06-27T00:00:00",
          "2020-06-28T00:00:00",
          "2020-06-29T00:00:00",
          "2020-06-30T00:00:00",
          "2020-07-01T00:00:00",
          "2020-07-02T00:00:00",
          "2020-07-03T00:00:00",
          "2020-07-04T00:00:00",
          "2020-07-05T00:00:00",
          "2020-07-06T00:00:00",
          "2020-07-07T00:00:00",
          "2020-07-08T00:00:00",
          "2020-07-09T00:00:00",
          "2020-07-10T00:00:00",
          "2020-07-11T00:00:00",
          "2020-07-12T00:00:00",
          "2020-07-13T00:00:00",
          "2020-07-14T00:00:00",
          "2020-07-15T00:00:00",
          "2020-07-16T00:00:00",
          "2020-07-17T00:00:00",
          "2020-07-18T00:00:00",
          "2020-07-19T00:00:00",
          "2020-07-20T00:00:00",
          "2020-07-21T00:00:00",
          "2020-07-22T00:00:00",
          "2020-07-23T00:00:00",
          "2020-07-24T00:00:00",
          "2020-07-25T00:00:00",
          "2020-07-26T00:00:00",
          "2020-07-27T00:00:00",
          "2020-07-28T00:00:00",
          "2020-07-29T00:00:00",
          "2020-07-30T00:00:00",
          "2020-07-31T00:00:00",
          "2020-08-01T00:00:00",
          "2020-08-02T00:00:00",
          "2020-08-03T00:00:00",
          "2020-08-04T00:00:00",
          "2020-08-05T00:00:00",
          "2020-08-06T00:00:00",
          "2020-08-07T00:00:00",
          "2020-08-08T00:00:00",
          "2020-08-09T00:00:00",
          "2020-08-10T00:00:00",
          "2020-08-11T00:00:00",
          "2020-08-12T00:00:00",
          "2020-08-13T00:00:00",
          "2020-08-14T00:00:00",
          "2020-08-15T00:00:00",
          "2020-08-16T00:00:00",
          "2020-08-17T00:00:00",
          "2020-08-18T00:00:00",
          "2020-08-19T00:00:00",
          "2020-08-20T00:00:00",
          "2020-08-21T00:00:00",
          "2020-08-22T00:00:00",
          "2020-08-23T00:00:00",
          "2020-08-24T00:00:00",
          "2020-08-25T00:00:00",
          "2020-08-26T00:00:00",
          "2020-08-27T00:00:00",
          "2020-08-28T00:00:00",
          "2020-08-29T00:00:00",
          "2020-08-30T00:00:00",
          "2020-08-31T00:00:00",
          "2020-09-01T00:00:00",
          "2020-09-02T00:00:00",
          "2020-09-03T00:00:00",
          "2020-09-04T00:00:00",
          "2020-09-05T00:00:00",
          "2020-09-06T00:00:00",
          "2020-09-07T00:00:00",
          "2020-09-08T00:00:00",
          "2020-09-09T00:00:00",
          "2020-09-10T00:00:00",
          "2020-09-11T00:00:00",
          "2020-09-12T00:00:00"
         ],
         "xaxis": "x",
         "y": [
          -1.05277460439246,
          -1.0475878630577573,
          -1.0409451943308574,
          -1.0372447122090227,
          -1.0290551206279133,
          -1.0222001291563179,
          -1.0179233424417387,
          -1.012584942003682,
          -1.0067915642555638,
          -0.9995725909359192,
          -0.9912010084307851,
          -0.9839517032904697,
          -0.9780673300803392,
          -0.9780673300803392,
          -0.9660862609153827,
          -0.9625071060762312,
          -0.9561070919146976,
          -0.9511933369660318,
          -0.9458549365279754,
          -0.9396065814697955,
          -0.9299913943171596,
          -0.9215894799913547,
          -0.914795152161101,
          -0.9049373104430988,
          -0.8972330279927218,
          -0.8864652316545963,
          -0.8761827444472033,
          -0.8675988391973738,
          -0.8608955068291324,
          -0.8525542561446691,
          -0.8434547099434363,
          -0.8362964002651332,
          -0.8241333401761521,
          -0.8158830849537011,
          -0.8067532069317976,
          -0.8038110203267324,
          -0.794256496815438,
          -0.785460268820913,
          -0.7649559580474686,
          -0.7577976483691655,
          -0.7462108928729292,
          -0.7326525690330924,
          -0.7217027817709424,
          -0.7062942168701882,
          -0.6861538879447932,
          -0.6745671324485568,
          -0.6594618857545105,
          -0.6442656435984517,
          -0.6343168064184374,
          -0.6163300367606673,
          -0.5957650623458813,
          -0.5916399347346558,
          -0.5890617299776398,
          -0.5823583976093984,
          -0.5728038740981041,
          -0.5529061997380751,
          -0.5390445576915306,
          -0.5261535339064509,
          -0.5110786190330754,
          -0.4938804767127455,
          -0.46791643821856144,
          -0.4416794133383404,
          -0.41465376112067914,
          -0.3838972949605125,
          -0.3639692887798128,
          -0.3445569235505163,
          -0.332424195282206,
          -0.3053075476025325,
          -0.28116341834859493,
          -0.2645719124416806,
          -0.25025529308507444,
          -0.23712161473462853,
          -0.2176182540433197,
          -0.18828738345467952,
          -0.1536484442486536,
          -0.12401425545330566,
          -0.09671561684960746,
          -0.08585682504946973,
          -0.033261448006344535,
          -0.006872764022769608,
          0.02094151553233178,
          0.05579277748305315,
          0.10899479093959386,
          0.1392356161483573,
          0.1723276325001737,
          0.20038456662064127,
          0.2278955279690349,
          0.263596080898538,
          0.330690068222294,
          0.3711527169971089,
          0.41480020694235525,
          0.4645443928424275,
          0.5239340977158065,
          0.5758015110628331,
          0.6307627701182787,
          0.6920633796939166,
          0.7528180164974805,
          0.817819108194953,
          0.8717187535269215,
          0.92874257638798,
          0.9732393573120081,
          1.0173721563879867,
          1.090138194177178,
          1.1445231486398788,
          1.2089782675652774,
          1.2442845068260604,
          1.299518752267543,
          1.3374638599266835,
          1.3804137179965021,
          1.440470722924638,
          1.4999514232600295,
          1.549270963670711,
          1.612816127975986,
          1.6497299537323202,
          1.6813053790505978,
          1.7101812723291763,
          1.7689643407891398,
          1.8208014223154956,
          1.8775825906111878,
          1.9127978344099585,
          1.9639372840608864,
          1.989143027038301,
          2.0175032793654766,
          2.0408891131026445,
          2.063698642247068,
          2.102250386319624,
          2.128123429351796,
          2.145442898954809,
          0.9048211574554443,
          0.9048191905021667,
          0.9048160314559937,
          0.9048131108283997,
          0.9048033952713013,
          0.9047864675521851,
          0.9047665596008301,
          0.9046908617019653,
          0.9046907424926758,
          0.9046907424926758,
          0.9046907424926758,
          0.9046907424926758,
          0.9046906232833862,
          0.9046906232833862,
          0.9046906232833862,
          0.9046906232833862,
          0.9046906232833862,
          0.9046906232833862,
          0.9046906232833862,
          0.9046906232833862,
          0.9046906232833862,
          0.9046906232833862,
          0.9046906232833862,
          0.9046906232833862,
          0.9046906232833862,
          0.9046906232833862
         ],
         "yaxis": "y"
        },
        {
         "hovertemplate": "variable=Deaths<br>index=%{x}<br>value=%{y}<extra></extra>",
         "legendgroup": "Deaths",
         "line": {
          "color": "#EF553B",
          "dash": "solid"
         },
         "mode": "lines",
         "name": "Deaths",
         "showlegend": true,
         "type": "scattergl",
         "x": [
          "2020-04-12T00:00:00",
          "2020-04-13T00:00:00",
          "2020-04-14T00:00:00",
          "2020-04-15T00:00:00",
          "2020-04-16T00:00:00",
          "2020-04-17T00:00:00",
          "2020-04-18T00:00:00",
          "2020-04-19T00:00:00",
          "2020-04-20T00:00:00",
          "2020-04-21T00:00:00",
          "2020-04-22T00:00:00",
          "2020-04-23T00:00:00",
          "2020-04-24T00:00:00",
          "2020-04-25T00:00:00",
          "2020-04-26T00:00:00",
          "2020-04-27T00:00:00",
          "2020-04-28T00:00:00",
          "2020-04-29T00:00:00",
          "2020-04-30T00:00:00",
          "2020-05-01T00:00:00",
          "2020-05-02T00:00:00",
          "2020-05-03T00:00:00",
          "2020-05-04T00:00:00",
          "2020-05-05T00:00:00",
          "2020-05-06T00:00:00",
          "2020-05-07T00:00:00",
          "2020-05-08T00:00:00",
          "2020-05-09T00:00:00",
          "2020-05-10T00:00:00",
          "2020-05-11T00:00:00",
          "2020-05-12T00:00:00",
          "2020-05-13T00:00:00",
          "2020-05-14T00:00:00",
          "2020-05-15T00:00:00",
          "2020-05-16T00:00:00",
          "2020-05-17T00:00:00",
          "2020-05-18T00:00:00",
          "2020-05-19T00:00:00",
          "2020-05-20T00:00:00",
          "2020-05-21T00:00:00",
          "2020-05-22T00:00:00",
          "2020-05-23T00:00:00",
          "2020-05-24T00:00:00",
          "2020-05-25T00:00:00",
          "2020-05-26T00:00:00",
          "2020-05-27T00:00:00",
          "2020-05-28T00:00:00",
          "2020-05-29T00:00:00",
          "2020-05-30T00:00:00",
          "2020-05-31T00:00:00",
          "2020-06-01T00:00:00",
          "2020-06-02T00:00:00",
          "2020-06-03T00:00:00",
          "2020-06-04T00:00:00",
          "2020-06-05T00:00:00",
          "2020-06-06T00:00:00",
          "2020-06-07T00:00:00",
          "2020-06-08T00:00:00",
          "2020-06-09T00:00:00",
          "2020-06-10T00:00:00",
          "2020-06-11T00:00:00",
          "2020-06-12T00:00:00",
          "2020-06-13T00:00:00",
          "2020-06-14T00:00:00",
          "2020-06-15T00:00:00",
          "2020-06-16T00:00:00",
          "2020-06-17T00:00:00",
          "2020-06-18T00:00:00",
          "2020-06-19T00:00:00",
          "2020-06-20T00:00:00",
          "2020-06-21T00:00:00",
          "2020-06-22T00:00:00",
          "2020-06-23T00:00:00",
          "2020-06-24T00:00:00",
          "2020-06-25T00:00:00",
          "2020-06-26T00:00:00",
          "2020-06-27T00:00:00",
          "2020-06-28T00:00:00",
          "2020-06-29T00:00:00",
          "2020-06-30T00:00:00",
          "2020-07-01T00:00:00",
          "2020-07-02T00:00:00",
          "2020-07-03T00:00:00",
          "2020-07-04T00:00:00",
          "2020-07-05T00:00:00",
          "2020-07-06T00:00:00",
          "2020-07-07T00:00:00",
          "2020-07-08T00:00:00",
          "2020-07-09T00:00:00",
          "2020-07-10T00:00:00",
          "2020-07-11T00:00:00",
          "2020-07-12T00:00:00",
          "2020-07-13T00:00:00",
          "2020-07-14T00:00:00",
          "2020-07-15T00:00:00",
          "2020-07-16T00:00:00",
          "2020-07-17T00:00:00",
          "2020-07-18T00:00:00",
          "2020-07-19T00:00:00",
          "2020-07-20T00:00:00",
          "2020-07-21T00:00:00",
          "2020-07-22T00:00:00",
          "2020-07-23T00:00:00",
          "2020-07-24T00:00:00",
          "2020-07-25T00:00:00",
          "2020-07-26T00:00:00",
          "2020-07-27T00:00:00",
          "2020-07-28T00:00:00",
          "2020-07-29T00:00:00",
          "2020-07-30T00:00:00",
          "2020-07-31T00:00:00",
          "2020-08-01T00:00:00",
          "2020-08-02T00:00:00",
          "2020-08-03T00:00:00",
          "2020-08-04T00:00:00",
          "2020-08-05T00:00:00",
          "2020-08-06T00:00:00",
          "2020-08-07T00:00:00",
          "2020-08-08T00:00:00",
          "2020-08-09T00:00:00",
          "2020-08-10T00:00:00",
          "2020-08-11T00:00:00",
          "2020-08-12T00:00:00",
          "2020-08-13T00:00:00",
          "2020-08-14T00:00:00",
          "2020-08-15T00:00:00",
          "2020-08-16T00:00:00",
          "2020-08-17T00:00:00",
          "2020-08-18T00:00:00",
          "2020-08-19T00:00:00",
          "2020-08-20T00:00:00",
          "2020-08-21T00:00:00",
          "2020-08-22T00:00:00",
          "2020-08-23T00:00:00",
          "2020-08-24T00:00:00",
          "2020-08-25T00:00:00",
          "2020-08-26T00:00:00",
          "2020-08-27T00:00:00",
          "2020-08-28T00:00:00",
          "2020-08-29T00:00:00",
          "2020-08-30T00:00:00",
          "2020-08-31T00:00:00",
          "2020-09-01T00:00:00",
          "2020-09-02T00:00:00",
          "2020-09-03T00:00:00",
          "2020-09-04T00:00:00",
          "2020-09-05T00:00:00",
          "2020-09-06T00:00:00",
          "2020-09-07T00:00:00",
          "2020-09-08T00:00:00",
          "2020-09-09T00:00:00",
          "2020-09-10T00:00:00",
          "2020-09-11T00:00:00",
          "2020-09-12T00:00:00"
         ],
         "xaxis": "x",
         "y": [
          -1.4715297990512386,
          -1.4600312500796624,
          -1.4312848776507223,
          -1.4236191783363383,
          -1.3948728059073983,
          -1.3661264334784582,
          -1.356544309335478,
          -1.348878610021094,
          -1.3373800610495181,
          -1.299051564477598,
          -1.2741380417058499,
          -1.2626394927342737,
          -1.2492245189341018,
          -1.2492245189341018,
          -1.2300602706481416,
          -1.2128124471907775,
          -1.1859824995904336,
          -1.1591525519900894,
          -1.1284897547325532,
          -1.0959105326464211,
          -1.0978269574750172,
          -1.0939941078178252,
          -1.078662709189057,
          -1.046083487102925,
          -0.9924235919022368,
          -0.9425965463587407,
          -0.9157665987583965,
          -0.9023516249582245,
          -0.8966023504724364,
          -0.8774381021864764,
          -0.8161125076714042,
          -0.7873661352424641,
          -0.743288364184756,
          -0.7241241158987959,
          -0.7202912662416039,
          -0.7145419917558158,
          -0.7126255669272198,
          -0.6838791944982797,
          -0.6493835475835515,
          -0.6359685737833796,
          -0.6129714758402275,
          -0.5976400772114594,
          -0.5938072275542674,
          -0.5650608551253273,
          -0.5382309075249831,
          -0.5324816330391952,
          -0.5171502344104271,
          -0.480738162667103,
          -0.4654067640383349,
          -0.44240966609518284,
          -0.4117468688376467,
          -0.3983318950374747,
          -0.3983318950374747,
          -0.3983318950374747,
          -0.3542541239797665,
          -0.32934060120801845,
          -0.32359132672223045,
          -0.27376428117873425,
          -0.25268360806417817,
          -0.22393723563523807,
          -0.20285656252068202,
          -0.17602661492033791,
          -0.16836091560595387,
          -0.16836091560595387,
          -0.16644449077735787,
          -0.1453638176628018,
          -0.13578169351982175,
          -0.09745319694790162,
          -0.07445609900474955,
          -0.04379330174721344,
          -0.04187687691861743,
          -0.03804402726142542,
          0.0060337437962827405,
          0.057777214168374925,
          0.06735933831135496,
          0.08844001142591103,
          0.11143710936906312,
          0.11143710936906312,
          0.13060135765502318,
          0.1708462790555393,
          0.21300762528465148,
          0.23792114805639955,
          0.2781660694569157,
          0.28008249428551174,
          0.28008249428551174,
          0.28008249428551174,
          0.3299095398290079,
          0.37782016054390805,
          0.39698440882986813,
          0.46597570265932436,
          0.48513995094528445,
          0.4985549247454565,
          0.5043041992312445,
          0.5809611923750848,
          0.6710331593190971,
          0.7074452310624212,
          0.7745201000632814,
          0.8147650214637976,
          0.8166814462923936,
          0.8243471456067777,
          0.8473442435499298,
          0.9642461580942862,
          1.0274881774379543,
          1.1060615954103907,
          1.1405572423251187,
          1.173136464411251,
          1.207632111325979,
          1.207632111325979,
          1.2977040782699913,
          1.3494475486420836,
          1.3781939210710237,
          1.4222716921287317,
          1.4682658880150359,
          1.479764436986612,
          1.54300645633028,
          1.5985827763595644,
          1.6349948481028884,
          1.6752397695034047,
          1.7135682660753249,
          1.738481788847073,
          1.7940581088763572,
          1.8898793503061575,
          1.9569542193070177,
          1.9722856179357857,
          1.9780348924215738,
          1.9837841669073617,
          1.9876170165645537,
          2.039360486936646,
          0.8749414682388306,
          0.8749397993087769,
          0.8749368190765381,
          0.8749341368675232,
          0.8749250769615173,
          0.8749094009399414,
          0.8748908042907715,
          0.874820351600647,
          0.874820351600647,
          0.874820351600647,
          0.874820351600647,
          0.874820351600647,
          0.8748202323913574,
          0.8748202323913574,
          0.8748202323913574,
          0.8748202323913574,
          0.8748202323913574,
          0.8748202323913574,
          0.8748202323913574,
          0.8748202323913574,
          0.8748202323913574,
          0.8748202323913574,
          0.8748202323913574,
          0.8748202323913574,
          0.8748202323913574,
          0.8748202323913574
         ],
         "yaxis": "y"
        },
        {
         "hovertemplate": "variable=Recovered<br>index=%{x}<br>value=%{y}<extra></extra>",
         "legendgroup": "Recovered",
         "line": {
          "color": "#00cc96",
          "dash": "solid"
         },
         "mode": "lines",
         "name": "Recovered",
         "showlegend": true,
         "type": "scattergl",
         "x": [
          "2020-04-12T00:00:00",
          "2020-04-13T00:00:00",
          "2020-04-14T00:00:00",
          "2020-04-15T00:00:00",
          "2020-04-16T00:00:00",
          "2020-04-17T00:00:00",
          "2020-04-18T00:00:00",
          "2020-04-19T00:00:00",
          "2020-04-20T00:00:00",
          "2020-04-21T00:00:00",
          "2020-04-22T00:00:00",
          "2020-04-23T00:00:00",
          "2020-04-24T00:00:00",
          "2020-04-25T00:00:00",
          "2020-04-26T00:00:00",
          "2020-04-27T00:00:00",
          "2020-04-28T00:00:00",
          "2020-04-29T00:00:00",
          "2020-04-30T00:00:00",
          "2020-05-01T00:00:00",
          "2020-05-02T00:00:00",
          "2020-05-03T00:00:00",
          "2020-05-04T00:00:00",
          "2020-05-05T00:00:00",
          "2020-05-06T00:00:00",
          "2020-05-07T00:00:00",
          "2020-05-08T00:00:00",
          "2020-05-09T00:00:00",
          "2020-05-10T00:00:00",
          "2020-05-11T00:00:00",
          "2020-05-12T00:00:00",
          "2020-05-13T00:00:00",
          "2020-05-14T00:00:00",
          "2020-05-15T00:00:00",
          "2020-05-16T00:00:00",
          "2020-05-17T00:00:00",
          "2020-05-18T00:00:00",
          "2020-05-19T00:00:00",
          "2020-05-20T00:00:00",
          "2020-05-21T00:00:00",
          "2020-05-22T00:00:00",
          "2020-05-23T00:00:00",
          "2020-05-24T00:00:00",
          "2020-05-25T00:00:00",
          "2020-05-26T00:00:00",
          "2020-05-27T00:00:00",
          "2020-05-28T00:00:00",
          "2020-05-29T00:00:00",
          "2020-05-30T00:00:00",
          "2020-05-31T00:00:00",
          "2020-06-01T00:00:00",
          "2020-06-02T00:00:00",
          "2020-06-03T00:00:00",
          "2020-06-04T00:00:00",
          "2020-06-05T00:00:00",
          "2020-06-06T00:00:00",
          "2020-06-07T00:00:00",
          "2020-06-08T00:00:00",
          "2020-06-09T00:00:00",
          "2020-06-10T00:00:00",
          "2020-06-11T00:00:00",
          "2020-06-12T00:00:00",
          "2020-06-13T00:00:00",
          "2020-06-14T00:00:00",
          "2020-06-15T00:00:00",
          "2020-06-16T00:00:00",
          "2020-06-17T00:00:00",
          "2020-06-18T00:00:00",
          "2020-06-19T00:00:00",
          "2020-06-20T00:00:00",
          "2020-06-21T00:00:00",
          "2020-06-22T00:00:00",
          "2020-06-23T00:00:00",
          "2020-06-24T00:00:00",
          "2020-06-25T00:00:00",
          "2020-06-26T00:00:00",
          "2020-06-27T00:00:00",
          "2020-06-28T00:00:00",
          "2020-06-29T00:00:00",
          "2020-06-30T00:00:00",
          "2020-07-01T00:00:00",
          "2020-07-02T00:00:00",
          "2020-07-03T00:00:00",
          "2020-07-04T00:00:00",
          "2020-07-05T00:00:00",
          "2020-07-06T00:00:00",
          "2020-07-07T00:00:00",
          "2020-07-08T00:00:00",
          "2020-07-09T00:00:00",
          "2020-07-10T00:00:00",
          "2020-07-11T00:00:00",
          "2020-07-12T00:00:00",
          "2020-07-13T00:00:00",
          "2020-07-14T00:00:00",
          "2020-07-15T00:00:00",
          "2020-07-16T00:00:00",
          "2020-07-17T00:00:00",
          "2020-07-18T00:00:00",
          "2020-07-19T00:00:00",
          "2020-07-20T00:00:00",
          "2020-07-21T00:00:00",
          "2020-07-22T00:00:00",
          "2020-07-23T00:00:00",
          "2020-07-24T00:00:00",
          "2020-07-25T00:00:00",
          "2020-07-26T00:00:00",
          "2020-07-27T00:00:00",
          "2020-07-28T00:00:00",
          "2020-07-29T00:00:00",
          "2020-07-30T00:00:00",
          "2020-07-31T00:00:00",
          "2020-08-01T00:00:00",
          "2020-08-02T00:00:00",
          "2020-08-03T00:00:00",
          "2020-08-04T00:00:00",
          "2020-08-05T00:00:00",
          "2020-08-06T00:00:00",
          "2020-08-07T00:00:00",
          "2020-08-08T00:00:00",
          "2020-08-09T00:00:00",
          "2020-08-10T00:00:00",
          "2020-08-11T00:00:00",
          "2020-08-12T00:00:00",
          "2020-08-13T00:00:00",
          "2020-08-14T00:00:00",
          "2020-08-15T00:00:00",
          "2020-08-16T00:00:00",
          "2020-08-17T00:00:00",
          "2020-08-18T00:00:00",
          "2020-08-19T00:00:00",
          "2020-08-20T00:00:00",
          "2020-08-21T00:00:00",
          "2020-08-22T00:00:00",
          "2020-08-23T00:00:00",
          "2020-08-24T00:00:00",
          "2020-08-25T00:00:00",
          "2020-08-26T00:00:00",
          "2020-08-27T00:00:00",
          "2020-08-28T00:00:00",
          "2020-08-29T00:00:00",
          "2020-08-30T00:00:00",
          "2020-08-31T00:00:00",
          "2020-09-01T00:00:00",
          "2020-09-02T00:00:00",
          "2020-09-03T00:00:00",
          "2020-09-04T00:00:00",
          "2020-09-05T00:00:00",
          "2020-09-06T00:00:00",
          "2020-09-07T00:00:00",
          "2020-09-08T00:00:00",
          "2020-09-09T00:00:00",
          "2020-09-10T00:00:00",
          "2020-09-11T00:00:00",
          "2020-09-12T00:00:00"
         ],
         "xaxis": "x",
         "y": [
          null,
          null,
          null,
          null,
          null,
          null,
          null,
          null,
          null,
          null,
          null,
          null,
          null,
          null,
          null,
          null,
          null,
          null,
          -1.8719424028286404,
          -1.8719424028286404,
          -1.8719424028286404,
          -1.8719424028286404,
          -1.8719424028286404,
          null,
          null,
          null,
          null,
          null,
          null,
          null,
          null,
          null,
          null,
          null,
          null,
          null,
          null,
          null,
          null,
          null,
          -1.1942918812115852,
          -1.1942918812115852,
          -1.1942918812115852,
          -1.1942918812115852,
          -1.1942918812115852,
          -1.1942918812115852,
          -1.074631293568478,
          -1.074631293568478,
          -1.074631293568478,
          -1.074631293568478,
          -1.074631293568478,
          -1.074631293568478,
          -0.9007654824631085,
          -0.9007654824631085,
          -0.9007654824631085,
          -0.9007654824631085,
          -0.9007654824631085,
          -0.9007654824631085,
          -0.9007654824631085,
          -0.7206780026270077,
          -0.7206780026270077,
          -0.7206780026270077,
          -0.7206780026270077,
          -0.7206780026270077,
          -0.7206780026270077,
          -0.7206780026270077,
          -0.5105049192025758,
          -0.5105049192025758,
          -0.5105049192025758,
          -0.5105049192025758,
          -0.5105049192025758,
          -0.5105049192025758,
          -0.5105049192025758,
          -0.2640245634590814,
          -0.2640245634590814,
          -0.2640245634590814,
          -0.2640245634590814,
          -0.2640245634590814,
          -0.2640245634590814,
          -0.2640245634590814,
          -0.2640245634590814,
          0.010069774048206973,
          0.010069774048206973,
          0.010069774048206973,
          0.010069774048206973,
          0.010069774048206973,
          0.010069774048206973,
          0.010069774048206973,
          0.32549985586240915,
          0.32549985586240915,
          0.32549985586240915,
          0.32549985586240915,
          0.32549985586240915,
          0.32549985586240915,
          0.6624074790484511,
          0.6624074790484511,
          0.6624074790484511,
          0.6624074790484511,
          0.6624074790484511,
          0.6624074790484511,
          0.6624074790484511,
          0.6624074790484511,
          0.8988308908162427,
          0.8988308908162427,
          0.8988308908162427,
          0.8988308908162427,
          0.8988308908162427,
          0.8988308908162427,
          0.8988308908162427,
          1.14522601822096,
          1.14522601822096,
          1.14522601822096,
          1.14522601822096,
          1.14522601822096,
          1.14522601822096,
          1.3601718886169119,
          1.3601718886169119,
          1.3601718886169119,
          1.3601718886169119,
          1.3601718886169119,
          1.3601718886169119,
          1.3601718886169119,
          1.6669939082146228,
          1.6669939082146228,
          1.6669939082146228,
          1.6669939082146228,
          1.6669939082146228,
          1.6669939082146228,
          0.7779754400253296,
          0.7779719829559326,
          0.777966320514679,
          0.7779609560966492,
          0.7779432535171509,
          0.7779124975204468,
          0.7778760194778442,
          0.777738094329834,
          0.777738094329834,
          0.777738094329834,
          0.7777380347251892,
          0.7777379155158997,
          0.7777378559112549,
          0.7777378559112549,
          0.7777378559112549,
          0.7777378559112549,
          0.7777378559112549,
          0.7777378559112549,
          0.7777378559112549,
          0.7777378559112549,
          0.7777378559112549,
          0.7777378559112549,
          0.7777378559112549,
          0.7777378559112549,
          0.7777378559112549,
          0.7777378559112549
         ],
         "yaxis": "y"
        },
        {
         "hovertemplate": "variable=Active<br>index=%{x}<br>value=%{y}<extra></extra>",
         "legendgroup": "Active",
         "line": {
          "color": "#ab63fa",
          "dash": "solid"
         },
         "mode": "lines",
         "name": "Active",
         "showlegend": true,
         "type": "scattergl",
         "x": [
          "2020-04-12T00:00:00",
          "2020-04-13T00:00:00",
          "2020-04-14T00:00:00",
          "2020-04-15T00:00:00",
          "2020-04-16T00:00:00",
          "2020-04-17T00:00:00",
          "2020-04-18T00:00:00",
          "2020-04-19T00:00:00",
          "2020-04-20T00:00:00",
          "2020-04-21T00:00:00",
          "2020-04-22T00:00:00",
          "2020-04-23T00:00:00",
          "2020-04-24T00:00:00",
          "2020-04-25T00:00:00",
          "2020-04-26T00:00:00",
          "2020-04-27T00:00:00",
          "2020-04-28T00:00:00",
          "2020-04-29T00:00:00",
          "2020-04-30T00:00:00",
          "2020-05-01T00:00:00",
          "2020-05-02T00:00:00",
          "2020-05-03T00:00:00",
          "2020-05-04T00:00:00",
          "2020-05-05T00:00:00",
          "2020-05-06T00:00:00",
          "2020-05-07T00:00:00",
          "2020-05-08T00:00:00",
          "2020-05-09T00:00:00",
          "2020-05-10T00:00:00",
          "2020-05-11T00:00:00",
          "2020-05-12T00:00:00",
          "2020-05-13T00:00:00",
          "2020-05-14T00:00:00",
          "2020-05-15T00:00:00",
          "2020-05-16T00:00:00",
          "2020-05-17T00:00:00",
          "2020-05-18T00:00:00",
          "2020-05-19T00:00:00",
          "2020-05-20T00:00:00",
          "2020-05-21T00:00:00",
          "2020-05-22T00:00:00",
          "2020-05-23T00:00:00",
          "2020-05-24T00:00:00",
          "2020-05-25T00:00:00",
          "2020-05-26T00:00:00",
          "2020-05-27T00:00:00",
          "2020-05-28T00:00:00",
          "2020-05-29T00:00:00",
          "2020-05-30T00:00:00",
          "2020-05-31T00:00:00",
          "2020-06-01T00:00:00",
          "2020-06-02T00:00:00",
          "2020-06-03T00:00:00",
          "2020-06-04T00:00:00",
          "2020-06-05T00:00:00",
          "2020-06-06T00:00:00",
          "2020-06-07T00:00:00",
          "2020-06-08T00:00:00",
          "2020-06-09T00:00:00",
          "2020-06-10T00:00:00",
          "2020-06-11T00:00:00",
          "2020-06-12T00:00:00",
          "2020-06-13T00:00:00",
          "2020-06-14T00:00:00",
          "2020-06-15T00:00:00",
          "2020-06-16T00:00:00",
          "2020-06-17T00:00:00",
          "2020-06-18T00:00:00",
          "2020-06-19T00:00:00",
          "2020-06-20T00:00:00",
          "2020-06-21T00:00:00",
          "2020-06-22T00:00:00",
          "2020-06-23T00:00:00",
          "2020-06-24T00:00:00",
          "2020-06-25T00:00:00",
          "2020-06-26T00:00:00",
          "2020-06-27T00:00:00",
          "2020-06-28T00:00:00",
          "2020-06-29T00:00:00",
          "2020-06-30T00:00:00",
          "2020-07-01T00:00:00",
          "2020-07-02T00:00:00",
          "2020-07-03T00:00:00",
          "2020-07-04T00:00:00",
          "2020-07-05T00:00:00",
          "2020-07-06T00:00:00",
          "2020-07-07T00:00:00",
          "2020-07-08T00:00:00",
          "2020-07-09T00:00:00",
          "2020-07-10T00:00:00",
          "2020-07-11T00:00:00",
          "2020-07-12T00:00:00",
          "2020-07-13T00:00:00",
          "2020-07-14T00:00:00",
          "2020-07-15T00:00:00",
          "2020-07-16T00:00:00",
          "2020-07-17T00:00:00",
          "2020-07-18T00:00:00",
          "2020-07-19T00:00:00",
          "2020-07-20T00:00:00",
          "2020-07-21T00:00:00",
          "2020-07-22T00:00:00",
          "2020-07-23T00:00:00",
          "2020-07-24T00:00:00",
          "2020-07-25T00:00:00",
          "2020-07-26T00:00:00",
          "2020-07-27T00:00:00",
          "2020-07-28T00:00:00",
          "2020-07-29T00:00:00",
          "2020-07-30T00:00:00",
          "2020-07-31T00:00:00",
          "2020-08-01T00:00:00",
          "2020-08-02T00:00:00",
          "2020-08-03T00:00:00",
          "2020-08-04T00:00:00",
          "2020-08-05T00:00:00",
          "2020-08-06T00:00:00",
          "2020-08-07T00:00:00",
          "2020-08-08T00:00:00",
          "2020-08-09T00:00:00",
          "2020-08-10T00:00:00",
          "2020-08-11T00:00:00",
          "2020-08-12T00:00:00",
          "2020-08-13T00:00:00",
          "2020-08-14T00:00:00",
          "2020-08-15T00:00:00",
          "2020-08-16T00:00:00",
          "2020-08-17T00:00:00",
          "2020-08-18T00:00:00",
          "2020-08-19T00:00:00",
          "2020-08-20T00:00:00",
          "2020-08-21T00:00:00",
          "2020-08-22T00:00:00",
          "2020-08-23T00:00:00",
          "2020-08-24T00:00:00",
          "2020-08-25T00:00:00",
          "2020-08-26T00:00:00",
          "2020-08-27T00:00:00",
          "2020-08-28T00:00:00",
          "2020-08-29T00:00:00",
          "2020-08-30T00:00:00",
          "2020-08-31T00:00:00",
          "2020-09-01T00:00:00",
          "2020-09-02T00:00:00",
          "2020-09-03T00:00:00",
          "2020-09-04T00:00:00",
          "2020-09-05T00:00:00",
          "2020-09-06T00:00:00",
          "2020-09-07T00:00:00",
          "2020-09-08T00:00:00",
          "2020-09-09T00:00:00",
          "2020-09-10T00:00:00",
          "2020-09-11T00:00:00",
          "2020-09-12T00:00:00"
         ],
         "xaxis": "x",
         "y": [
          -0.9395131122731878,
          -0.9308925875430621,
          -0.9202344842403614,
          -0.9140695029182109,
          -0.9007468737898349,
          -0.889723051256159,
          -0.8826176490543585,
          -0.8736314050932578,
          -0.863965968274632,
          -0.8525764265099811,
          -0.8388358325462051,
          -0.8266626067151792,
          -0.8168926786877034,
          -0.8168926786877034,
          -0.7967781209840769,
          -0.7910833501017515,
          -0.7807909660300256,
          -0.7730586165751251,
          -0.7646993198671244,
          -0.7548249006307987,
          -0.7382107984236473,
          -0.7238432572067712,
          -0.7125582066509704,
          -0.6964665604880692,
          -0.6846590538880183,
          -0.667470250032192,
          -0.6504904285940656,
          -0.6360706417727645,
          -0.6246811000081136,
          -0.6108360148354876,
          -0.5968341928495865,
          -0.5852879142716606,
          -0.5655390757990091,
          -0.551850727439658,
          -0.5362292917165818,
          -0.5313182049006314,
          -0.5149130851111802,
          -0.5005455438943041,
          -0.46616793618265145,
          -0.45420369276932554,
          -0.850277619915281,
          -0.8273417995727043,
          -0.8085856275841278,
          -0.7828285446026008,
          -0.7488689017263482,
          -0.7290678176492716,
          -0.7768203000937254,
          -0.7516379187608734,
          -0.7349193253448721,
          -0.7045646291739448,
          -0.6699780390445921,
          -0.6632383560737666,
          -0.7653785127246494,
          -0.7538322341467235,
          -0.7385765176546224,
          -0.7049825940093448,
          -0.681263089600393,
          -0.6604170934348164,
          -0.6350257296842644,
          -0.7165811181916957,
          -0.6724335824525673,
          -0.6279725730868889,
          -0.5816307219619103,
          -0.5286536790749563,
          -0.4943805625721536,
          -0.4615180773888261,
          -0.5697187241530094,
          -0.5240560658855559,
          -0.48309551201635276,
          -0.4553530960666756,
          -0.43074541638249875,
          -0.408227560875322,
          -0.3758352861318195,
          -0.4778187059694273,
          -0.4184154537381978,
          -0.3679461998636439,
          -0.3215521031342403,
          -0.3028481767500889,
          -0.21277675472138197,
          -0.16842023656455357,
          -0.12166042060417498,
          -0.23033127780818333,
          -0.13978964533965138,
          -0.08775302333234737,
          -0.030753068904667988,
          0.017574115188460727,
          0.06360249268688926,
          0.1237894289844939,
          0.04547326795141287,
          0.11328806249506808,
          0.1879470312183988,
          0.2732641032444304,
          0.37540425989531323,
          0.46265441928506995,
          0.34834103680316114,
          0.4529367368620192,
          0.5557560863704271,
          0.6666212589602856,
          0.7594094524190927,
          0.8574222063204002,
          0.9334395607587811,
          1.0062699333272367,
          0.9849537267218351,
          1.076488025674442,
          1.1865695141979256,
          1.2464952224734052,
          1.3406940472516875,
          1.4060532983873675,
          1.477577530845198,
          1.4285711538945443,
          1.530241100105602,
          1.6139908039988835,
          1.7221914507630667,
          1.7854608777217467,
          1.8381244469821507,
          1.7545837255065693,
          1.854843040398152,
          1.9430336206675587,
          2.0397924800626663,
          2.0997704339425707,
          2.1863414004748023,
          2.2271452175307305,
          2.08608208558322,
          2.125945481759498,
          2.165077439473826,
          2.231324865884731,
          2.2757858752504094,
          2.3042074840576117,
          0.7853046655654907,
          0.7853008508682251,
          0.7852948904037476,
          0.7852892875671387,
          0.7852703332901001,
          0.7852375507354736,
          0.7851987481117249,
          0.785051703453064,
          0.7850516438484192,
          0.7850516438484192,
          0.7850515842437744,
          0.7850515246391296,
          0.7850514650344849,
          0.7850514650344849,
          0.7850514650344849,
          0.7850514650344849,
          0.7850514650344849,
          0.7850514650344849,
          0.7850514650344849,
          0.7850514650344849,
          0.7850514650344849,
          0.7850514650344849,
          0.7850514650344849,
          0.7850514650344849,
          0.7850514650344849,
          0.7850514650344849
         ],
         "yaxis": "y"
        },
        {
         "hovertemplate": "variable=Incident_Rate<br>index=%{x}<br>value=%{y}<extra></extra>",
         "legendgroup": "Incident_Rate",
         "line": {
          "color": "#FFA15A",
          "dash": "solid"
         },
         "mode": "lines",
         "name": "Incident_Rate",
         "showlegend": true,
         "type": "scattergl",
         "x": [
          "2020-04-12T00:00:00",
          "2020-04-13T00:00:00",
          "2020-04-14T00:00:00",
          "2020-04-15T00:00:00",
          "2020-04-16T00:00:00",
          "2020-04-17T00:00:00",
          "2020-04-18T00:00:00",
          "2020-04-19T00:00:00",
          "2020-04-20T00:00:00",
          "2020-04-21T00:00:00",
          "2020-04-22T00:00:00",
          "2020-04-23T00:00:00",
          "2020-04-24T00:00:00",
          "2020-04-25T00:00:00",
          "2020-04-26T00:00:00",
          "2020-04-27T00:00:00",
          "2020-04-28T00:00:00",
          "2020-04-29T00:00:00",
          "2020-04-30T00:00:00",
          "2020-05-01T00:00:00",
          "2020-05-02T00:00:00",
          "2020-05-03T00:00:00",
          "2020-05-04T00:00:00",
          "2020-05-05T00:00:00",
          "2020-05-06T00:00:00",
          "2020-05-07T00:00:00",
          "2020-05-08T00:00:00",
          "2020-05-09T00:00:00",
          "2020-05-10T00:00:00",
          "2020-05-11T00:00:00",
          "2020-05-12T00:00:00",
          "2020-05-13T00:00:00",
          "2020-05-14T00:00:00",
          "2020-05-15T00:00:00",
          "2020-05-16T00:00:00",
          "2020-05-17T00:00:00",
          "2020-05-18T00:00:00",
          "2020-05-19T00:00:00",
          "2020-05-20T00:00:00",
          "2020-05-21T00:00:00",
          "2020-05-22T00:00:00",
          "2020-05-23T00:00:00",
          "2020-05-24T00:00:00",
          "2020-05-25T00:00:00",
          "2020-05-26T00:00:00",
          "2020-05-27T00:00:00",
          "2020-05-28T00:00:00",
          "2020-05-29T00:00:00",
          "2020-05-30T00:00:00",
          "2020-05-31T00:00:00",
          "2020-06-01T00:00:00",
          "2020-06-02T00:00:00",
          "2020-06-03T00:00:00",
          "2020-06-04T00:00:00",
          "2020-06-05T00:00:00",
          "2020-06-06T00:00:00",
          "2020-06-07T00:00:00",
          "2020-06-08T00:00:00",
          "2020-06-09T00:00:00",
          "2020-06-10T00:00:00",
          "2020-06-11T00:00:00",
          "2020-06-12T00:00:00",
          "2020-06-13T00:00:00",
          "2020-06-14T00:00:00",
          "2020-06-15T00:00:00",
          "2020-06-16T00:00:00",
          "2020-06-17T00:00:00",
          "2020-06-18T00:00:00",
          "2020-06-19T00:00:00",
          "2020-06-20T00:00:00",
          "2020-06-21T00:00:00",
          "2020-06-22T00:00:00",
          "2020-06-23T00:00:00",
          "2020-06-24T00:00:00",
          "2020-06-25T00:00:00",
          "2020-06-26T00:00:00",
          "2020-06-27T00:00:00",
          "2020-06-28T00:00:00",
          "2020-06-29T00:00:00",
          "2020-06-30T00:00:00",
          "2020-07-01T00:00:00",
          "2020-07-02T00:00:00",
          "2020-07-03T00:00:00",
          "2020-07-04T00:00:00",
          "2020-07-05T00:00:00",
          "2020-07-06T00:00:00",
          "2020-07-07T00:00:00",
          "2020-07-08T00:00:00",
          "2020-07-09T00:00:00",
          "2020-07-10T00:00:00",
          "2020-07-11T00:00:00",
          "2020-07-12T00:00:00",
          "2020-07-13T00:00:00",
          "2020-07-14T00:00:00",
          "2020-07-15T00:00:00",
          "2020-07-16T00:00:00",
          "2020-07-17T00:00:00",
          "2020-07-18T00:00:00",
          "2020-07-19T00:00:00",
          "2020-07-20T00:00:00",
          "2020-07-21T00:00:00",
          "2020-07-22T00:00:00",
          "2020-07-23T00:00:00",
          "2020-07-24T00:00:00",
          "2020-07-25T00:00:00",
          "2020-07-26T00:00:00",
          "2020-07-27T00:00:00",
          "2020-07-28T00:00:00",
          "2020-07-29T00:00:00",
          "2020-07-30T00:00:00",
          "2020-07-31T00:00:00",
          "2020-08-01T00:00:00",
          "2020-08-02T00:00:00",
          "2020-08-03T00:00:00",
          "2020-08-04T00:00:00",
          "2020-08-05T00:00:00",
          "2020-08-06T00:00:00",
          "2020-08-07T00:00:00",
          "2020-08-08T00:00:00",
          "2020-08-09T00:00:00",
          "2020-08-10T00:00:00",
          "2020-08-11T00:00:00",
          "2020-08-12T00:00:00",
          "2020-08-13T00:00:00",
          "2020-08-14T00:00:00",
          "2020-08-15T00:00:00",
          "2020-08-16T00:00:00",
          "2020-08-17T00:00:00",
          "2020-08-18T00:00:00",
          "2020-08-19T00:00:00",
          "2020-08-20T00:00:00",
          "2020-08-21T00:00:00",
          "2020-08-22T00:00:00",
          "2020-08-23T00:00:00",
          "2020-08-24T00:00:00",
          "2020-08-25T00:00:00",
          "2020-08-26T00:00:00",
          "2020-08-27T00:00:00",
          "2020-08-28T00:00:00",
          "2020-08-29T00:00:00",
          "2020-08-30T00:00:00",
          "2020-08-31T00:00:00",
          "2020-09-01T00:00:00",
          "2020-09-02T00:00:00",
          "2020-09-03T00:00:00",
          "2020-09-04T00:00:00",
          "2020-09-05T00:00:00",
          "2020-09-06T00:00:00",
          "2020-09-07T00:00:00",
          "2020-09-08T00:00:00",
          "2020-09-09T00:00:00",
          "2020-09-10T00:00:00",
          "2020-09-11T00:00:00",
          "2020-09-12T00:00:00"
         ],
         "xaxis": "x",
         "y": [
          -1.0525439763659232,
          -1.0471081143930463,
          -1.0401463964241633,
          -1.0362681791146826,
          -1.027685239158207,
          -1.020501000527972,
          -1.0160187985507014,
          -1.0104239932457393,
          -1.0043523579431954,
          -0.9967866553148949,
          -0.9880129833593865,
          -0.9804154920645802,
          -0.97424849076252,
          -0.97424849076252,
          -0.9616919674928612,
          -0.9579409048452163,
          -0.9512334962125631,
          -0.9460837322386779,
          -0.9404889269337159,
          -0.93394046163359,
          -0.9238634543513575,
          -0.9150579937293437,
          -0.9079373324321194,
          -0.8976060158178434,
          -0.889531694525455,
          -0.8782467179160149,
          -0.8674703599706621,
          -0.8584741673496156,
          -0.8514488720519078,
          -0.8427069887629048,
          -0.8331703888112652,
          -0.8256682635159756,
          -0.8283434800397892,
          -0.8200748487360302,
          -0.8109246354182673,
          -0.8079758955783239,
          -0.7984000909434559,
          -0.7895842708034186,
          -0.7690342900631941,
          -0.7618600364319914,
          -0.7502474733509772,
          -0.7366589505834024,
          -0.7256847744780458,
          -0.7102418895430841,
          -0.6900567013603782,
          -0.6784441382793639,
          -0.6633052471423345,
          -0.6480751578659255,
          -0.6381041612937454,
          -0.6200773290763592,
          -0.599466549576548,
          -0.5953322339246688,
          -0.5927482866422438,
          -0.5860300237079397,
          -0.5764542190730717,
          -0.5565122259287117,
          -0.5426197093632049,
          -0.5296999729510814,
          -0.5145914811938453,
          -0.49735503285108296,
          -0.4713331637480767,
          -0.44503770022693123,
          -0.41795185283116193,
          -0.387126881720825,
          -0.367154489196672,
          -0.3476988861290036,
          -0.33553913421171094,
          -0.3083620886765618,
          -0.28416418236114926,
          -0.2675357216142517,
          -0.2531872143518463,
          -0.24002428290137706,
          -0.22047748169432924,
          -0.19108128143427422,
          -0.15636518971040367,
          -0.12666499565241637,
          -0.0993055538385077,
          -0.08842257587253093,
          -0.03571005131106719,
          -0.009262590890955552,
          0.018613640379437843,
          0.05354252776186084,
          0.10686303991918931,
          0.137171221573041,
          0.17033694492745657,
          0.19845637123619614,
          0.2260286087086574,
          0.2618086787252908,
          0.3290521068279198,
          0.3696048794720903,
          0.4133495869945503,
          0.4632045698554504,
          0.5227265554905979,
          0.5747094949370243,
          0.6297931711223597,
          0.6912303176844806,
          0.7521202754103244,
          0.8172661463072193,
          0.8712858441997924,
          0.9284366782110677,
          0.9730325683677384,
          1.0172636659668912,
          1.090191778090853,
          1.1446978660601173,
          1.2092965481207354,
          1.2446814262000558,
          1.300038696803531,
          1.338068320924864,
          1.3811138427120804,
          1.441304614702678,
          1.5009177984772062,
          1.5503471900210004,
          1.6140338906878207,
          1.6510299358961837,
          1.6826756902609377,
          1.7116158998240942,
          1.7705298978633772,
          1.8224824379300104,
          1.8793900769029401,
          1.9146837568428816,
          1.9659371111742703,
          1.9911989957824465,
          2.0196224158891165,
          2.0430603377096994,
          2.065920671314209,
          2.1045582830314067,
          2.1304889539950334,
          2.147846999856969,
          0.9028313159942627,
          0.9028294086456299,
          0.9028264284133911,
          0.9028235673904419,
          0.9028141498565674,
          0.9027976989746094,
          0.9027782678604126,
          0.902704656124115,
          0.9027045965194702,
          0.9027045965194702,
          0.9027045965194702,
          0.9027045965194702,
          0.9027045965194702,
          0.9027045965194702,
          0.9027045965194702,
          0.9027045965194702,
          0.9027045965194702,
          0.9027045965194702,
          0.9027045965194702,
          0.9027045965194702,
          0.9027045965194702,
          0.9027045965194702,
          0.9027045965194702,
          0.9027045965194702,
          0.9027045965194702,
          0.9027045965194702
         ],
         "yaxis": "y"
        },
        {
         "hovertemplate": "variable=People_Tested<br>index=%{x}<br>value=%{y}<extra></extra>",
         "legendgroup": "People_Tested",
         "line": {
          "color": "#19d3f3",
          "dash": "solid"
         },
         "mode": "lines",
         "name": "People_Tested",
         "showlegend": true,
         "type": "scattergl",
         "x": [
          "2020-04-12T00:00:00",
          "2020-04-13T00:00:00",
          "2020-04-14T00:00:00",
          "2020-04-15T00:00:00",
          "2020-04-16T00:00:00",
          "2020-04-17T00:00:00",
          "2020-04-18T00:00:00",
          "2020-04-19T00:00:00",
          "2020-04-20T00:00:00",
          "2020-04-21T00:00:00",
          "2020-04-22T00:00:00",
          "2020-04-23T00:00:00",
          "2020-04-24T00:00:00",
          "2020-04-25T00:00:00",
          "2020-04-26T00:00:00",
          "2020-04-27T00:00:00",
          "2020-04-28T00:00:00",
          "2020-04-29T00:00:00",
          "2020-04-30T00:00:00",
          "2020-05-01T00:00:00",
          "2020-05-02T00:00:00",
          "2020-05-03T00:00:00",
          "2020-05-04T00:00:00",
          "2020-05-05T00:00:00",
          "2020-05-06T00:00:00",
          "2020-05-07T00:00:00",
          "2020-05-08T00:00:00",
          "2020-05-09T00:00:00",
          "2020-05-10T00:00:00",
          "2020-05-11T00:00:00",
          "2020-05-12T00:00:00",
          "2020-05-13T00:00:00",
          "2020-05-14T00:00:00",
          "2020-05-15T00:00:00",
          "2020-05-16T00:00:00",
          "2020-05-17T00:00:00",
          "2020-05-18T00:00:00",
          "2020-05-19T00:00:00",
          "2020-05-20T00:00:00",
          "2020-05-21T00:00:00",
          "2020-05-22T00:00:00",
          "2020-05-23T00:00:00",
          "2020-05-24T00:00:00",
          "2020-05-25T00:00:00",
          "2020-05-26T00:00:00",
          "2020-05-27T00:00:00",
          "2020-05-28T00:00:00",
          "2020-05-29T00:00:00",
          "2020-05-30T00:00:00",
          "2020-05-31T00:00:00",
          "2020-06-01T00:00:00",
          "2020-06-02T00:00:00",
          "2020-06-03T00:00:00",
          "2020-06-04T00:00:00",
          "2020-06-05T00:00:00",
          "2020-06-06T00:00:00",
          "2020-06-07T00:00:00",
          "2020-06-08T00:00:00",
          "2020-06-09T00:00:00",
          "2020-06-10T00:00:00",
          "2020-06-11T00:00:00",
          "2020-06-12T00:00:00",
          "2020-06-13T00:00:00",
          "2020-06-14T00:00:00",
          "2020-06-15T00:00:00",
          "2020-06-16T00:00:00",
          "2020-06-17T00:00:00",
          "2020-06-18T00:00:00",
          "2020-06-19T00:00:00",
          "2020-06-20T00:00:00",
          "2020-06-21T00:00:00",
          "2020-06-22T00:00:00",
          "2020-06-23T00:00:00",
          "2020-06-24T00:00:00",
          "2020-06-25T00:00:00",
          "2020-06-26T00:00:00",
          "2020-06-27T00:00:00",
          "2020-06-28T00:00:00",
          "2020-06-29T00:00:00",
          "2020-06-30T00:00:00",
          "2020-07-01T00:00:00",
          "2020-07-02T00:00:00",
          "2020-07-03T00:00:00",
          "2020-07-04T00:00:00",
          "2020-07-05T00:00:00",
          "2020-07-06T00:00:00",
          "2020-07-07T00:00:00",
          "2020-07-08T00:00:00",
          "2020-07-09T00:00:00",
          "2020-07-10T00:00:00",
          "2020-07-11T00:00:00",
          "2020-07-12T00:00:00",
          "2020-07-13T00:00:00",
          "2020-07-14T00:00:00",
          "2020-07-15T00:00:00",
          "2020-07-16T00:00:00",
          "2020-07-17T00:00:00",
          "2020-07-18T00:00:00",
          "2020-07-19T00:00:00",
          "2020-07-20T00:00:00",
          "2020-07-21T00:00:00",
          "2020-07-22T00:00:00",
          "2020-07-23T00:00:00",
          "2020-07-24T00:00:00",
          "2020-07-25T00:00:00",
          "2020-07-26T00:00:00",
          "2020-07-27T00:00:00",
          "2020-07-28T00:00:00",
          "2020-07-29T00:00:00",
          "2020-07-30T00:00:00",
          "2020-07-31T00:00:00",
          "2020-08-01T00:00:00",
          "2020-08-02T00:00:00",
          "2020-08-03T00:00:00",
          "2020-08-04T00:00:00",
          "2020-08-05T00:00:00",
          "2020-08-06T00:00:00",
          "2020-08-07T00:00:00",
          "2020-08-08T00:00:00",
          "2020-08-09T00:00:00",
          "2020-08-10T00:00:00",
          "2020-08-11T00:00:00",
          "2020-08-12T00:00:00",
          "2020-08-13T00:00:00",
          "2020-08-14T00:00:00",
          "2020-08-15T00:00:00",
          "2020-08-16T00:00:00",
          "2020-08-17T00:00:00",
          "2020-08-18T00:00:00",
          "2020-08-19T00:00:00",
          "2020-08-20T00:00:00",
          "2020-08-21T00:00:00",
          "2020-08-22T00:00:00",
          "2020-08-23T00:00:00",
          "2020-08-24T00:00:00",
          "2020-08-25T00:00:00",
          "2020-08-26T00:00:00",
          "2020-08-27T00:00:00",
          "2020-08-28T00:00:00",
          "2020-08-29T00:00:00",
          "2020-08-30T00:00:00",
          "2020-08-31T00:00:00",
          "2020-09-01T00:00:00",
          "2020-09-02T00:00:00",
          "2020-09-03T00:00:00",
          "2020-09-04T00:00:00",
          "2020-09-05T00:00:00",
          "2020-09-06T00:00:00",
          "2020-09-07T00:00:00",
          "2020-09-08T00:00:00",
          "2020-09-09T00:00:00",
          "2020-09-10T00:00:00",
          "2020-09-11T00:00:00",
          "2020-09-12T00:00:00"
         ],
         "xaxis": "x",
         "y": [
          -1.3510066031773238,
          -1.3199817323623828,
          -1.30391608337478,
          -1.2999966366077917,
          -1.2905491367965305,
          -1.2846005597762162,
          -1.2654524292166591,
          -1.2524937583433042,
          -1.2517262000181024,
          -1.2410048800075701,
          -1.2400495148581168,
          -1.224204334751157,
          -1.2231918110030184,
          -1.1478445296647188,
          -1.1388338848576949,
          -1.137012975213865,
          -1.1295415298142937,
          -1.110671026734065,
          -1.0831246649248258,
          -1.0637846447839683,
          -1.0626578038384593,
          -1.061469721537216,
          -1.0181230899485556,
          -1.0032251094769515,
          -0.9919975275923498,
          -0.9689013709664619,
          -0.9487284683876194,
          -0.9267632354642896,
          -0.9188957626309705,
          -0.9106363451209527,
          -0.8952280200182302,
          -0.8823510042858543,
          -0.8594344889701201,
          -0.8427850057245181,
          -0.8124460380937999,
          -0.8007856839620099,
          -0.7976297127631746,
          -0.7958210513904915,
          -0.7677153518655468,
          -0.742038892784725,
          -0.7133411934876832,
          -0.6933030218914559,
          -0.6805525716275973,
          -0.662114840794557,
          -0.6480538255179867,
          -0.6397454149233814,
          -0.6206095326349713,
          -0.5863062079097264,
          -0.5727596200213234,
          -0.5509087042953641,
          -0.5265346447131561,
          -0.5253955554965002,
          -0.49358271257111247,
          -0.47845609770476727,
          -0.4614146697824664,
          -0.4362199760334203,
          -0.3793798323979932,
          -0.37764466065219116,
          -0.34601145903695707,
          -0.3242993570506619,
          -0.30074593163529206,
          -0.2698843711023088,
          -0.24184807844719616,
          -0.22468825057047587,
          -0.20338034153202636,
          -0.1921527596474247,
          -0.17051823004505953,
          -0.12229678653995758,
          -0.08640526932267276,
          -0.05293482703541294,
          -0.03188821444809599,
          -0.013793435207167045,
          0.006326391530039147,
          0.025601087558113505,
          0.06928250522478742,
          0.10547614646369426,
          0.12876010991383366,
          0.13796264430215807,
          0.1665950194864168,
          0.22113657090328726,
          0.25094478011764243,
          0.27452270207530594,
          0.31903700217996483,
          0.3658131496897399,
          0.3976504891574213,
          0.4189175706253813,
          0.4445123745652242,
          0.4727977154003225,
          0.48182877399259116,
          0.5704735950393081,
          0.6105009451471752,
          0.6492299785134776,
          0.6822921450958428,
          0.7210170957050962,
          0.7698468700104911,
          0.8109194059228885,
          0.859936987052535,
          0.9063987622695411,
          0.9514642345758078,
          0.9851673940148574,
          1.0120850112385589,
          1.0492666796833106,
          1.0902534776976802,
          1.128864111109563,
          1.180417084366605,
          1.2133853475368443,
          1.2471619966027752,
          1.277537709046934,
          1.2892797183197027,
          1.3375909824798815,
          1.3758015057009678,
          1.4080716174158374,
          1.4435875209846192,
          1.4761720049922578,
          1.5098547506460627,
          1.5309176942615754,
          1.5812335921327867,
          1.620558708028235,
          1.6209098251344445,
          1.6737774461612471,
          1.747740672859954,
          1.7604870403667636,
          1.8098149110321298,
          1.8375409141515227,
          1.929084492702991,
          1.9782123082729592,
          2.0166188038323947,
          2.0431526418934953,
          0.946600079536438,
          0.9465991258621216,
          0.946597695350647,
          0.9465963840484619,
          0.946591854095459,
          0.9465839862823486,
          0.9465746879577637,
          0.9465395212173462,
          0.9465395212173462,
          0.9465395212173462,
          0.9465395212173462,
          0.9465395212173462,
          0.9465395212173462,
          0.9465395212173462,
          0.9465395212173462,
          0.9465395212173462,
          0.9465395212173462,
          0.9465395212173462,
          0.9465395212173462,
          0.9465395212173462,
          0.9465395212173462,
          0.9465395212173462,
          0.9465395212173462,
          0.9465395212173462,
          0.9465395212173462,
          0.9465395212173462
         ],
         "yaxis": "y"
        },
        {
         "hovertemplate": "variable=People_Hospitalized<br>index=%{x}<br>value=%{y}<extra></extra>",
         "legendgroup": "People_Hospitalized",
         "line": {
          "color": "#FF6692",
          "dash": "solid"
         },
         "mode": "lines",
         "name": "People_Hospitalized",
         "showlegend": true,
         "type": "scattergl",
         "x": [
          "2020-04-12T00:00:00",
          "2020-04-13T00:00:00",
          "2020-04-14T00:00:00",
          "2020-04-15T00:00:00",
          "2020-04-16T00:00:00",
          "2020-04-17T00:00:00",
          "2020-04-18T00:00:00",
          "2020-04-19T00:00:00",
          "2020-04-20T00:00:00",
          "2020-04-21T00:00:00",
          "2020-04-22T00:00:00",
          "2020-04-23T00:00:00",
          "2020-04-24T00:00:00",
          "2020-04-25T00:00:00",
          "2020-04-26T00:00:00",
          "2020-04-27T00:00:00",
          "2020-04-28T00:00:00",
          "2020-04-29T00:00:00",
          "2020-04-30T00:00:00",
          "2020-05-01T00:00:00",
          "2020-05-02T00:00:00",
          "2020-05-03T00:00:00",
          "2020-05-04T00:00:00",
          "2020-05-05T00:00:00",
          "2020-05-06T00:00:00",
          "2020-05-07T00:00:00",
          "2020-05-08T00:00:00",
          "2020-05-09T00:00:00",
          "2020-05-10T00:00:00",
          "2020-05-11T00:00:00",
          "2020-05-12T00:00:00",
          "2020-05-13T00:00:00",
          "2020-05-14T00:00:00",
          "2020-05-15T00:00:00",
          "2020-05-16T00:00:00",
          "2020-05-17T00:00:00",
          "2020-05-18T00:00:00",
          "2020-05-19T00:00:00",
          "2020-05-20T00:00:00",
          "2020-05-21T00:00:00",
          "2020-05-22T00:00:00",
          "2020-05-23T00:00:00",
          "2020-05-24T00:00:00",
          "2020-05-25T00:00:00",
          "2020-05-26T00:00:00",
          "2020-05-27T00:00:00",
          "2020-05-28T00:00:00",
          "2020-05-29T00:00:00",
          "2020-05-30T00:00:00",
          "2020-05-31T00:00:00",
          "2020-06-01T00:00:00",
          "2020-06-02T00:00:00",
          "2020-06-03T00:00:00",
          "2020-06-04T00:00:00",
          "2020-06-05T00:00:00",
          "2020-06-06T00:00:00",
          "2020-06-07T00:00:00",
          "2020-06-08T00:00:00",
          "2020-06-09T00:00:00",
          "2020-06-10T00:00:00",
          "2020-06-11T00:00:00",
          "2020-06-12T00:00:00",
          "2020-06-13T00:00:00",
          "2020-06-14T00:00:00",
          "2020-06-15T00:00:00",
          "2020-06-16T00:00:00",
          "2020-06-17T00:00:00",
          "2020-06-18T00:00:00",
          "2020-06-19T00:00:00",
          "2020-06-20T00:00:00",
          "2020-06-21T00:00:00",
          "2020-06-22T00:00:00",
          "2020-06-23T00:00:00",
          "2020-06-24T00:00:00",
          "2020-06-25T00:00:00",
          "2020-06-26T00:00:00",
          "2020-06-27T00:00:00",
          "2020-06-28T00:00:00",
          "2020-06-29T00:00:00",
          "2020-06-30T00:00:00",
          "2020-07-01T00:00:00",
          "2020-07-02T00:00:00",
          "2020-07-03T00:00:00",
          "2020-07-04T00:00:00",
          "2020-07-05T00:00:00",
          "2020-07-06T00:00:00",
          "2020-07-07T00:00:00",
          "2020-07-08T00:00:00",
          "2020-07-09T00:00:00",
          "2020-07-10T00:00:00",
          "2020-07-11T00:00:00",
          "2020-07-12T00:00:00",
          "2020-07-13T00:00:00",
          "2020-07-14T00:00:00",
          "2020-07-15T00:00:00",
          "2020-07-16T00:00:00",
          "2020-07-17T00:00:00",
          "2020-07-18T00:00:00",
          "2020-07-19T00:00:00",
          "2020-07-20T00:00:00",
          "2020-07-21T00:00:00",
          "2020-07-22T00:00:00",
          "2020-07-23T00:00:00",
          "2020-07-24T00:00:00",
          "2020-07-25T00:00:00",
          "2020-07-26T00:00:00",
          "2020-07-27T00:00:00",
          "2020-07-28T00:00:00",
          "2020-07-29T00:00:00",
          "2020-07-30T00:00:00",
          "2020-07-31T00:00:00",
          "2020-08-01T00:00:00",
          "2020-08-02T00:00:00",
          "2020-08-03T00:00:00",
          "2020-08-04T00:00:00",
          "2020-08-05T00:00:00",
          "2020-08-06T00:00:00",
          "2020-08-07T00:00:00",
          "2020-08-08T00:00:00",
          "2020-08-09T00:00:00",
          "2020-08-10T00:00:00",
          "2020-08-11T00:00:00",
          "2020-08-12T00:00:00",
          "2020-08-13T00:00:00",
          "2020-08-14T00:00:00",
          "2020-08-15T00:00:00",
          "2020-08-16T00:00:00",
          "2020-08-17T00:00:00",
          "2020-08-18T00:00:00",
          "2020-08-19T00:00:00",
          "2020-08-20T00:00:00",
          "2020-08-21T00:00:00",
          "2020-08-22T00:00:00",
          "2020-08-23T00:00:00",
          "2020-08-24T00:00:00",
          "2020-08-25T00:00:00",
          "2020-08-26T00:00:00",
          "2020-08-27T00:00:00",
          "2020-08-28T00:00:00",
          "2020-08-29T00:00:00",
          "2020-08-30T00:00:00",
          "2020-08-31T00:00:00",
          "2020-09-01T00:00:00",
          "2020-09-02T00:00:00",
          "2020-09-03T00:00:00",
          "2020-09-04T00:00:00",
          "2020-09-05T00:00:00",
          "2020-09-06T00:00:00",
          "2020-09-07T00:00:00",
          "2020-09-08T00:00:00",
          "2020-09-09T00:00:00",
          "2020-09-10T00:00:00",
          "2020-09-11T00:00:00",
          "2020-09-12T00:00:00"
         ],
         "xaxis": "x",
         "y": [
          -0.9405802095021177,
          -0.9355232416928354,
          -0.9264206996361272,
          -0.9183295511412753,
          -0.9112497962082801,
          -0.9008830121992512,
          -0.894308954047184,
          -0.8889991378474376,
          -0.8889991378474376,
          -0.8743339312005187,
          -0.866495631096131,
          -0.8568873922584945,
          -0.8566345438680304,
          -0.8389351565355421,
          -0.8374180661927574,
          -0.8305911596502261,
          -0.8207300724221255,
          -0.8121332271463455,
          -0.8037892302610296,
          -0.796203778547106,
          -0.7924110526901442,
          -0.7893768720045747,
          -0.7820442686811153,
          -0.7711717878911583,
          -0.7582765199774881,
          -0.7532195521682058,
          -0.7458869488447464,
          -0.7405771326449998,
          -0.7375429519594304,
          -0.7334973777120045,
          -0.7256590776076168,
          -0.7180736258936933,
          -0.7097296290083773,
          -0.7029027224658462,
          -0.700374238561205,
          -0.6991099966088844,
          -0.6930416352377455,
          -0.6836862447905732,
          -0.6735723091720084,
          -0.6647226155057642,
          -0.6563786186204483,
          -0.6492988636874529,
          -0.6434833507067782,
          -0.6391849280688883,
          -0.6285652956693952,
          -0.6164285729271175,
          -0.604797546965768,
          -0.5959478532995239,
          -0.5893737951474568,
          -0.5848225241191027,
          -0.5817883434335333,
          -0.5759728304528585,
          -0.570663014253112,
          -0.5633304109296526,
          -0.5582734431203702,
          -0.547148113939949,
          -0.5398155106164896,
          -0.5317243621216378,
          -0.5233803652363218,
          -0.5127607328368289,
          -0.5036581907801205,
          -0.49430280033294816,
          -0.4844417131048475,
          -0.4809018356383499,
          -0.4798904420764934,
          -0.46573093221050277,
          -0.45637554176333034,
          -0.4510657255635839,
          -0.44019324477362676,
          -0.43336633823109555,
          -0.4290679155932055,
          -0.4262865832981002,
          -0.41364416377489427,
          -0.4020131378135448,
          -0.3906349602426595,
          -0.38026817623363063,
          -0.3691428470532094,
          -0.3676257567104247,
          -0.36206309212021404,
          -0.35093776293979284,
          -0.3423409176640128,
          -0.334249769169161,
          -0.3221130464268833,
          -0.3162975334462086,
          -0.3155389882748162,
          -0.31427474632249564,
          -0.30239087197068204,
          -0.2910126943997967,
          -0.28266869751448076,
          -0.2700262779912748,
          0.6543874375455434,
          0.6543874375455434,
          0.6543874375455434,
          0.7499641291409802,
          0.7924426587389523,
          0.866527237144939,
          0.866527237144939,
          0.9165912184568346,
          0.9165912184568346,
          1.0647603752688082,
          1.1077446016477084,
          1.1077446016477084,
          1.2232963160898105,
          1.2642577553449978,
          1.2642577553449978,
          1.2642577553449978,
          1.4000373410242295,
          1.4503541707265892,
          1.4503541707265892,
          1.4951083358387383,
          1.6091429599380558,
          1.6091429599380558,
          1.6091429599380558,
          1.6961228062577127,
          1.7555421780167806,
          1.7555421780167806,
          1.809398885185638,
          1.8660369246496005,
          1.8660369246496005,
          1.8660369246496005,
          2.000805116766976,
          2.000805116766976,
          2.05693745945001,
          2.0984045954861257,
          2.0984045954861257,
          2.1365847024462075,
          2.1365847024462075,
          2.2253344874991132,
          0.9388177394866943,
          0.9388161301612854,
          0.9388134479522705,
          0.9388110637664795,
          0.93880295753479,
          0.9387887716293335,
          0.9387719631195068,
          0.9387086033821106,
          0.9387085437774658,
          0.9387085437774658,
          0.9387085437774658,
          0.9387085437774658,
          0.938708484172821,
          0.9387084245681763,
          0.938708484172821,
          0.938708484172821,
          0.938708484172821,
          0.938708484172821,
          0.938708484172821,
          0.938708484172821,
          0.938708484172821,
          0.938708484172821,
          0.938708484172821,
          0.938708484172821,
          0.938708484172821,
          0.938708484172821
         ],
         "yaxis": "y"
        },
        {
         "hovertemplate": "variable=Mortality_Rate<br>index=%{x}<br>value=%{y}<extra></extra>",
         "legendgroup": "Mortality_Rate",
         "line": {
          "color": "#B6E880",
          "dash": "solid"
         },
         "mode": "lines",
         "name": "Mortality_Rate",
         "showlegend": true,
         "type": "scattergl",
         "x": [
          "2020-04-12T00:00:00",
          "2020-04-13T00:00:00",
          "2020-04-14T00:00:00",
          "2020-04-15T00:00:00",
          "2020-04-16T00:00:00",
          "2020-04-17T00:00:00",
          "2020-04-18T00:00:00",
          "2020-04-19T00:00:00",
          "2020-04-20T00:00:00",
          "2020-04-21T00:00:00",
          "2020-04-22T00:00:00",
          "2020-04-23T00:00:00",
          "2020-04-24T00:00:00",
          "2020-04-25T00:00:00",
          "2020-04-26T00:00:00",
          "2020-04-27T00:00:00",
          "2020-04-28T00:00:00",
          "2020-04-29T00:00:00",
          "2020-04-30T00:00:00",
          "2020-05-01T00:00:00",
          "2020-05-02T00:00:00",
          "2020-05-03T00:00:00",
          "2020-05-04T00:00:00",
          "2020-05-05T00:00:00",
          "2020-05-06T00:00:00",
          "2020-05-07T00:00:00",
          "2020-05-08T00:00:00",
          "2020-05-09T00:00:00",
          "2020-05-10T00:00:00",
          "2020-05-11T00:00:00",
          "2020-05-12T00:00:00",
          "2020-05-13T00:00:00",
          "2020-05-14T00:00:00",
          "2020-05-15T00:00:00",
          "2020-05-16T00:00:00",
          "2020-05-17T00:00:00",
          "2020-05-18T00:00:00",
          "2020-05-19T00:00:00",
          "2020-05-20T00:00:00",
          "2020-05-21T00:00:00",
          "2020-05-22T00:00:00",
          "2020-05-23T00:00:00",
          "2020-05-24T00:00:00",
          "2020-05-25T00:00:00",
          "2020-05-26T00:00:00",
          "2020-05-27T00:00:00",
          "2020-05-28T00:00:00",
          "2020-05-29T00:00:00",
          "2020-05-30T00:00:00",
          "2020-05-31T00:00:00",
          "2020-06-01T00:00:00",
          "2020-06-02T00:00:00",
          "2020-06-03T00:00:00",
          "2020-06-04T00:00:00",
          "2020-06-05T00:00:00",
          "2020-06-06T00:00:00",
          "2020-06-07T00:00:00",
          "2020-06-08T00:00:00",
          "2020-06-09T00:00:00",
          "2020-06-10T00:00:00",
          "2020-06-11T00:00:00",
          "2020-06-12T00:00:00",
          "2020-06-13T00:00:00",
          "2020-06-14T00:00:00",
          "2020-06-15T00:00:00",
          "2020-06-16T00:00:00",
          "2020-06-17T00:00:00",
          "2020-06-18T00:00:00",
          "2020-06-19T00:00:00",
          "2020-06-20T00:00:00",
          "2020-06-21T00:00:00",
          "2020-06-22T00:00:00",
          "2020-06-23T00:00:00",
          "2020-06-24T00:00:00",
          "2020-06-25T00:00:00",
          "2020-06-26T00:00:00",
          "2020-06-27T00:00:00",
          "2020-06-28T00:00:00",
          "2020-06-29T00:00:00",
          "2020-06-30T00:00:00",
          "2020-07-01T00:00:00",
          "2020-07-02T00:00:00",
          "2020-07-03T00:00:00",
          "2020-07-04T00:00:00",
          "2020-07-05T00:00:00",
          "2020-07-06T00:00:00",
          "2020-07-07T00:00:00",
          "2020-07-08T00:00:00",
          "2020-07-09T00:00:00",
          "2020-07-10T00:00:00",
          "2020-07-11T00:00:00",
          "2020-07-12T00:00:00",
          "2020-07-13T00:00:00",
          "2020-07-14T00:00:00",
          "2020-07-15T00:00:00",
          "2020-07-16T00:00:00",
          "2020-07-17T00:00:00",
          "2020-07-18T00:00:00",
          "2020-07-19T00:00:00",
          "2020-07-20T00:00:00",
          "2020-07-21T00:00:00",
          "2020-07-22T00:00:00",
          "2020-07-23T00:00:00",
          "2020-07-24T00:00:00",
          "2020-07-25T00:00:00",
          "2020-07-26T00:00:00",
          "2020-07-27T00:00:00",
          "2020-07-28T00:00:00",
          "2020-07-29T00:00:00",
          "2020-07-30T00:00:00",
          "2020-07-31T00:00:00",
          "2020-08-01T00:00:00",
          "2020-08-02T00:00:00",
          "2020-08-03T00:00:00",
          "2020-08-04T00:00:00",
          "2020-08-05T00:00:00",
          "2020-08-06T00:00:00",
          "2020-08-07T00:00:00",
          "2020-08-08T00:00:00",
          "2020-08-09T00:00:00",
          "2020-08-10T00:00:00",
          "2020-08-11T00:00:00",
          "2020-08-12T00:00:00",
          "2020-08-13T00:00:00",
          "2020-08-14T00:00:00",
          "2020-08-15T00:00:00",
          "2020-08-16T00:00:00",
          "2020-08-17T00:00:00",
          "2020-08-18T00:00:00",
          "2020-08-19T00:00:00",
          "2020-08-20T00:00:00",
          "2020-08-21T00:00:00",
          "2020-08-22T00:00:00",
          "2020-08-23T00:00:00",
          "2020-08-24T00:00:00",
          "2020-08-25T00:00:00",
          "2020-08-26T00:00:00",
          "2020-08-27T00:00:00",
          "2020-08-28T00:00:00",
          "2020-08-29T00:00:00",
          "2020-08-30T00:00:00",
          "2020-08-31T00:00:00",
          "2020-09-01T00:00:00",
          "2020-09-02T00:00:00",
          "2020-09-03T00:00:00",
          "2020-09-04T00:00:00",
          "2020-09-05T00:00:00",
          "2020-09-06T00:00:00",
          "2020-09-07T00:00:00",
          "2020-09-08T00:00:00",
          "2020-09-09T00:00:00",
          "2020-09-10T00:00:00",
          "2020-09-11T00:00:00",
          "2020-09-12T00:00:00"
         ],
         "xaxis": "x",
         "y": [
          -0.3227417816104901,
          -0.27301280056383953,
          0.008032030126112574,
          0.02231531543965595,
          0.22204688386748508,
          0.43571119321411733,
          0.44685919274706637,
          0.40446655309030494,
          0.4012588690573503,
          0.68221176977975,
          0.7578463630002308,
          0.7086256963803192,
          0.7142510811689563,
          0.7142510811689563,
          0.6446219049246845,
          0.7365676533573714,
          0.8554918670423557,
          0.9987112479136875,
          1.1603584046533395,
          1.3110341539987733,
          1.0957385679265377,
          0.9658023828237678,
          0.9622972966011725,
          1.034783451819291,
          1.2922442385673039,
          1.4524068463101152,
          1.4546173750880114,
          1.397756766347849,
          1.3254770767042032,
          1.3144343148802613,
          1.5466136600415057,
          1.6052185559260432,
          1.6720074770122026,
          1.6551176690794458,
          1.54349757923265,
          1.532924648761697,
          1.4123511216138296,
          1.4442466522079878,
          1.3560190237045808,
          1.333842766875756,
          1.30548831420035,
          1.2225390860148242,
          1.1220547107703955,
          1.087112373835202,
          1.0015710598320449,
          0.91747364531896,
          0.8435677488981227,
          0.8512850973118127,
          0.8251941902519458,
          0.7638616197719861,
          0.7133103077715416,
          0.7280189098938628,
          0.7090587681662195,
          0.6605533334389525,
          0.7366896656534078,
          0.6771589783327906,
          0.60223808379427,
          0.6695376709110304,
          0.6353895118840727,
          0.6117847689975235,
          0.5167681573256547,
          0.44242234630596083,
          0.3201205775013232,
          0.16981125907219238,
          0.08321548150537238,
          0.04794439618234736,
          0.018443489725545367,
          -0.006657730761901466,
          -0.05190330557833969,
          -0.04987306730449686,
          -0.09972859238557227,
          -0.13980970131527803,
          -0.11943456397067329,
          -0.11893391355707437,
          -0.21622308170123747,
          -0.2705313929519182,
          -0.31145236547151206,
          -0.34342742966005396,
          -0.45707956706289377,
          -0.45943389755562036,
          -0.46221870139717514,
          -0.5094108631164207,
          -0.5731227400171521,
          -0.6378471811700426,
          -0.7083179231091964,
          -0.7653822585322492,
          -0.7504748947310148,
          -0.754477321108218,
          -0.8523659016986208,
          -0.8355533636556198,
          -0.885459541710322,
          -0.9489835999035601,
          -1.0315675462030984,
          -1.0201773588476652,
          -0.9993878776434194,
          -1.0437673791954525,
          -1.0539765388213707,
          -1.0946707256095454,
          -1.1560393087444067,
          -1.2123578724063186,
          -1.2389643544124647,
          -1.181660881690081,
          -1.2021225399750222,
          -1.1905992256633942,
          -1.2249424089176142,
          -1.232092623666143,
          -1.2556719825464862,
          -1.2894085880588686,
          -1.2585897527856666,
          -1.2717602325967006,
          -1.300391809510254,
          -1.3088937749392897,
          -1.326847592094035,
          -1.3472613460445895,
          -1.328362959430897,
          -1.3129489537875505,
          -1.332595928521788,
          -1.3440600813820585,
          -1.3597912544559156,
          -1.368544675549078,
          -1.369032720753938,
          -1.3277193528376952,
          -1.3065336155423992,
          -1.3132277935435037,
          -1.325122865771348,
          -1.34717508335509,
          -1.3616998855422358,
          -1.3428479126765105,
          0.000015735799024696462,
          0.000015736010027467273,
          0.000015736339264549315,
          0.000015736699424451217,
          0.00001573783993080724,
          0.000015739822629257105,
          0.000015742134564789012,
          0.00001575099304318428,
          0.00001575099304318428,
          0.00001575099304318428,
          0.00001575099304318428,
          0.00001575099304318428,
          0.00001575099304318428,
          0.00001575099304318428,
          0.00001575099304318428,
          0.00001575099304318428,
          0.00001575099304318428,
          0.00001575099304318428,
          0.00001575099304318428,
          0.00001575099304318428,
          0.00001575099304318428,
          0.00001575099304318428,
          0.00001575099304318428,
          0.00001575099304318428,
          0.00001575099304318428,
          0.00001575099304318428
         ],
         "yaxis": "y"
        },
        {
         "hovertemplate": "variable=Testing_Rate<br>index=%{x}<br>value=%{y}<extra></extra>",
         "legendgroup": "Testing_Rate",
         "line": {
          "color": "#FF97FF",
          "dash": "solid"
         },
         "mode": "lines",
         "name": "Testing_Rate",
         "showlegend": true,
         "type": "scattergl",
         "x": [
          "2020-04-12T00:00:00",
          "2020-04-13T00:00:00",
          "2020-04-14T00:00:00",
          "2020-04-15T00:00:00",
          "2020-04-16T00:00:00",
          "2020-04-17T00:00:00",
          "2020-04-18T00:00:00",
          "2020-04-19T00:00:00",
          "2020-04-20T00:00:00",
          "2020-04-21T00:00:00",
          "2020-04-22T00:00:00",
          "2020-04-23T00:00:00",
          "2020-04-24T00:00:00",
          "2020-04-25T00:00:00",
          "2020-04-26T00:00:00",
          "2020-04-27T00:00:00",
          "2020-04-28T00:00:00",
          "2020-04-29T00:00:00",
          "2020-04-30T00:00:00",
          "2020-05-01T00:00:00",
          "2020-05-02T00:00:00",
          "2020-05-03T00:00:00",
          "2020-05-04T00:00:00",
          "2020-05-05T00:00:00",
          "2020-05-06T00:00:00",
          "2020-05-07T00:00:00",
          "2020-05-08T00:00:00",
          "2020-05-09T00:00:00",
          "2020-05-10T00:00:00",
          "2020-05-11T00:00:00",
          "2020-05-12T00:00:00",
          "2020-05-13T00:00:00",
          "2020-05-14T00:00:00",
          "2020-05-15T00:00:00",
          "2020-05-16T00:00:00",
          "2020-05-17T00:00:00",
          "2020-05-18T00:00:00",
          "2020-05-19T00:00:00",
          "2020-05-20T00:00:00",
          "2020-05-21T00:00:00",
          "2020-05-22T00:00:00",
          "2020-05-23T00:00:00",
          "2020-05-24T00:00:00",
          "2020-05-25T00:00:00",
          "2020-05-26T00:00:00",
          "2020-05-27T00:00:00",
          "2020-05-28T00:00:00",
          "2020-05-29T00:00:00",
          "2020-05-30T00:00:00",
          "2020-05-31T00:00:00",
          "2020-06-01T00:00:00",
          "2020-06-02T00:00:00",
          "2020-06-03T00:00:00",
          "2020-06-04T00:00:00",
          "2020-06-05T00:00:00",
          "2020-06-06T00:00:00",
          "2020-06-07T00:00:00",
          "2020-06-08T00:00:00",
          "2020-06-09T00:00:00",
          "2020-06-10T00:00:00",
          "2020-06-11T00:00:00",
          "2020-06-12T00:00:00",
          "2020-06-13T00:00:00",
          "2020-06-14T00:00:00",
          "2020-06-15T00:00:00",
          "2020-06-16T00:00:00",
          "2020-06-17T00:00:00",
          "2020-06-18T00:00:00",
          "2020-06-19T00:00:00",
          "2020-06-20T00:00:00",
          "2020-06-21T00:00:00",
          "2020-06-22T00:00:00",
          "2020-06-23T00:00:00",
          "2020-06-24T00:00:00",
          "2020-06-25T00:00:00",
          "2020-06-26T00:00:00",
          "2020-06-27T00:00:00",
          "2020-06-28T00:00:00",
          "2020-06-29T00:00:00",
          "2020-06-30T00:00:00",
          "2020-07-01T00:00:00",
          "2020-07-02T00:00:00",
          "2020-07-03T00:00:00",
          "2020-07-04T00:00:00",
          "2020-07-05T00:00:00",
          "2020-07-06T00:00:00",
          "2020-07-07T00:00:00",
          "2020-07-08T00:00:00",
          "2020-07-09T00:00:00",
          "2020-07-10T00:00:00",
          "2020-07-11T00:00:00",
          "2020-07-12T00:00:00",
          "2020-07-13T00:00:00",
          "2020-07-14T00:00:00",
          "2020-07-15T00:00:00",
          "2020-07-16T00:00:00",
          "2020-07-17T00:00:00",
          "2020-07-18T00:00:00",
          "2020-07-19T00:00:00",
          "2020-07-20T00:00:00",
          "2020-07-21T00:00:00",
          "2020-07-22T00:00:00",
          "2020-07-23T00:00:00",
          "2020-07-24T00:00:00",
          "2020-07-25T00:00:00",
          "2020-07-26T00:00:00",
          "2020-07-27T00:00:00",
          "2020-07-28T00:00:00",
          "2020-07-29T00:00:00",
          "2020-07-30T00:00:00",
          "2020-07-31T00:00:00",
          "2020-08-01T00:00:00",
          "2020-08-02T00:00:00",
          "2020-08-03T00:00:00",
          "2020-08-04T00:00:00",
          "2020-08-05T00:00:00",
          "2020-08-06T00:00:00",
          "2020-08-07T00:00:00",
          "2020-08-08T00:00:00",
          "2020-08-09T00:00:00",
          "2020-08-10T00:00:00",
          "2020-08-11T00:00:00",
          "2020-08-12T00:00:00",
          "2020-08-13T00:00:00",
          "2020-08-14T00:00:00",
          "2020-08-15T00:00:00",
          "2020-08-16T00:00:00",
          "2020-08-17T00:00:00",
          "2020-08-18T00:00:00",
          "2020-08-19T00:00:00",
          "2020-08-20T00:00:00",
          "2020-08-21T00:00:00",
          "2020-08-22T00:00:00",
          "2020-08-23T00:00:00",
          "2020-08-24T00:00:00",
          "2020-08-25T00:00:00",
          "2020-08-26T00:00:00",
          "2020-08-27T00:00:00",
          "2020-08-28T00:00:00",
          "2020-08-29T00:00:00",
          "2020-08-30T00:00:00",
          "2020-08-31T00:00:00",
          "2020-09-01T00:00:00",
          "2020-09-02T00:00:00",
          "2020-09-03T00:00:00",
          "2020-09-04T00:00:00",
          "2020-09-05T00:00:00",
          "2020-09-06T00:00:00",
          "2020-09-07T00:00:00",
          "2020-09-08T00:00:00",
          "2020-09-09T00:00:00",
          "2020-09-10T00:00:00",
          "2020-09-11T00:00:00",
          "2020-09-12T00:00:00"
         ],
         "xaxis": "x",
         "y": [
          -1.3557806697016646,
          -1.3232131693765468,
          -1.3063486985524073,
          -1.302234367681825,
          -1.292317115971593,
          -1.2860727617184349,
          -1.2659725410957086,
          -1.2523695346444224,
          -1.2515638115149825,
          -1.2403094022707866,
          -1.2393065341203138,
          -1.2226734944109747,
          -1.2216106256019263,
          -1.1425169003156979,
          -1.1330582250674344,
          -1.1311467755156783,
          -1.1233038322876208,
          -1.1034950434351176,
          -1.0745790117631489,
          -1.0542773603580626,
          -1.0530944902318637,
          -1.051847333685763,
          -1.00634540567905,
          -0.9907066625975302,
          -0.9789208189488102,
          -0.9546762671230611,
          -0.9335003204073066,
          -0.9104429244690835,
          -0.9021842623923256,
          -0.8935141672281944,
          -0.877339703980824,
          -0.8638224127560737,
          -0.8663608235626843,
          -0.8496473154655364,
          -0.8191916806764474,
          -0.807486487168489,
          -0.8043183798219724,
          -0.8025027633219635,
          -0.7742889845723888,
          -0.7485137878036389,
          -0.7197057327730229,
          -0.6995905052740525,
          -0.6867910237175562,
          -0.6682823914059525,
          -0.6541673051169439,
          -0.6458269448968126,
          -0.6266174764192913,
          -0.592182239775781,
          -0.5785835590827115,
          -0.5566486166266217,
          -0.5321808276761628,
          -0.5310373581422969,
          -0.49910218033627074,
          -0.48391739674138773,
          -0.46681043676161954,
          -0.44151885793192386,
          -0.38446013803773776,
          -0.3827182937657201,
          -0.3509634480725614,
          -0.329167853158233,
          -0.3055238540870104,
          -0.27454361678776074,
          -0.24639951180906672,
          -0.22917369657309022,
          -0.2077838489127142,
          -0.19651309185848267,
          -0.1747953676292561,
          -0.1263884906956091,
          -0.09035895423606397,
          -0.056759802843121515,
          -0.03563225643782594,
          -0.017467894523515118,
          0.0027293021176681967,
          0.022078118136950382,
          0.06592751076357728,
          0.10226033304930923,
          0.12563383395123,
          0.1348717562785898,
          0.16361423599543523,
          0.21836552453633692,
          0.24828835990104414,
          0.2719569497149304,
          0.3166424275921255,
          0.36359845070861,
          0.39555821925729967,
          0.41690708234656987,
          0.4426003099731073,
          0.47099442083554954,
          0.4800602079642621,
          0.5690459087502535,
          0.6092271822628665,
          0.6481051464142995,
          0.6812944520961784,
          0.7201683177905012,
          0.7691858648336318,
          0.8104163433665666,
          0.8596224194367861,
          0.9062628613557513,
          0.9515016309428816,
          0.9853343943911289,
          1.012355522121511,
          1.0496801710280155,
          1.0908245819616265,
          1.1295836908568508,
          1.1813349087927718,
          1.2144299499611066,
          1.2483364856373458,
          1.2788290065404306,
          1.2906161691906013,
          1.3391132121806817,
          1.377470672279066,
          1.4098648772814821,
          1.4455173556868497,
          1.4782271418867847,
          1.5120394130494796,
          1.533183353283218,
          1.583692738714618,
          1.623169077604203,
          1.623521544915717,
          1.6765924660412608,
          1.750840115057427,
          1.7636354981568132,
          1.813153056967441,
          1.8409856792057275,
          1.9328812845402645,
          1.982198018952472,
          2.0207522049921653,
          2.0473880777541473,
          0.9452197551727295,
          0.9452188014984131,
          0.9452172517776489,
          0.9452158212661743,
          0.9452111721038818,
          0.9452029466629028,
          0.9451932311058044,
          0.9451565742492676,
          0.9451565742492676,
          0.9451565742492676,
          0.9451565742492676,
          0.9451565146446228,
          0.9451565146446228,
          0.9451565146446228,
          0.9451565146446228,
          0.9451565146446228,
          0.9451565146446228,
          0.9451565146446228,
          0.9451565146446228,
          0.9451565146446228,
          0.9451565146446228,
          0.9451565146446228,
          0.9451565146446228,
          0.9451565146446228,
          0.9451565146446228,
          0.9451565146446228
         ],
         "yaxis": "y"
        },
        {
         "hovertemplate": "variable=Hospitalization_Rate<br>index=%{x}<br>value=%{y}<extra></extra>",
         "legendgroup": "Hospitalization_Rate",
         "line": {
          "color": "#FECB52",
          "dash": "solid"
         },
         "mode": "lines",
         "name": "Hospitalization_Rate",
         "showlegend": true,
         "type": "scattergl",
         "x": [
          "2020-04-12T00:00:00",
          "2020-04-13T00:00:00",
          "2020-04-14T00:00:00",
          "2020-04-15T00:00:00",
          "2020-04-16T00:00:00",
          "2020-04-17T00:00:00",
          "2020-04-18T00:00:00",
          "2020-04-19T00:00:00",
          "2020-04-20T00:00:00",
          "2020-04-21T00:00:00",
          "2020-04-22T00:00:00",
          "2020-04-23T00:00:00",
          "2020-04-24T00:00:00",
          "2020-04-25T00:00:00",
          "2020-04-26T00:00:00",
          "2020-04-27T00:00:00",
          "2020-04-28T00:00:00",
          "2020-04-29T00:00:00",
          "2020-04-30T00:00:00",
          "2020-05-01T00:00:00",
          "2020-05-02T00:00:00",
          "2020-05-03T00:00:00",
          "2020-05-04T00:00:00",
          "2020-05-05T00:00:00",
          "2020-05-06T00:00:00",
          "2020-05-07T00:00:00",
          "2020-05-08T00:00:00",
          "2020-05-09T00:00:00",
          "2020-05-10T00:00:00",
          "2020-05-11T00:00:00",
          "2020-05-12T00:00:00",
          "2020-05-13T00:00:00",
          "2020-05-14T00:00:00",
          "2020-05-15T00:00:00",
          "2020-05-16T00:00:00",
          "2020-05-17T00:00:00",
          "2020-05-18T00:00:00",
          "2020-05-19T00:00:00",
          "2020-05-20T00:00:00",
          "2020-05-21T00:00:00",
          "2020-05-22T00:00:00",
          "2020-05-23T00:00:00",
          "2020-05-24T00:00:00",
          "2020-05-25T00:00:00",
          "2020-05-26T00:00:00",
          "2020-05-27T00:00:00",
          "2020-05-28T00:00:00",
          "2020-05-29T00:00:00",
          "2020-05-30T00:00:00",
          "2020-05-31T00:00:00",
          "2020-06-01T00:00:00",
          "2020-06-02T00:00:00",
          "2020-06-03T00:00:00",
          "2020-06-04T00:00:00",
          "2020-06-05T00:00:00",
          "2020-06-06T00:00:00",
          "2020-06-07T00:00:00",
          "2020-06-08T00:00:00",
          "2020-06-09T00:00:00",
          "2020-06-10T00:00:00",
          "2020-06-11T00:00:00",
          "2020-06-12T00:00:00",
          "2020-06-13T00:00:00",
          "2020-06-14T00:00:00",
          "2020-06-15T00:00:00",
          "2020-06-16T00:00:00",
          "2020-06-17T00:00:00",
          "2020-06-18T00:00:00",
          "2020-06-19T00:00:00",
          "2020-06-20T00:00:00",
          "2020-06-21T00:00:00",
          "2020-06-22T00:00:00",
          "2020-06-23T00:00:00",
          "2020-06-24T00:00:00",
          "2020-06-25T00:00:00",
          "2020-06-26T00:00:00",
          "2020-06-27T00:00:00",
          "2020-06-28T00:00:00",
          "2020-06-29T00:00:00",
          "2020-06-30T00:00:00",
          "2020-07-01T00:00:00",
          "2020-07-02T00:00:00",
          "2020-07-03T00:00:00",
          "2020-07-04T00:00:00",
          "2020-07-05T00:00:00",
          "2020-07-06T00:00:00",
          "2020-07-07T00:00:00",
          "2020-07-08T00:00:00",
          "2020-07-09T00:00:00",
          "2020-07-10T00:00:00",
          "2020-07-11T00:00:00",
          "2020-07-12T00:00:00",
          "2020-07-13T00:00:00",
          "2020-07-14T00:00:00",
          "2020-07-15T00:00:00",
          "2020-07-16T00:00:00",
          "2020-07-17T00:00:00",
          "2020-07-18T00:00:00",
          "2020-07-19T00:00:00",
          "2020-07-20T00:00:00",
          "2020-07-21T00:00:00",
          "2020-07-22T00:00:00",
          "2020-07-23T00:00:00",
          "2020-07-24T00:00:00",
          "2020-07-25T00:00:00",
          "2020-07-26T00:00:00",
          "2020-07-27T00:00:00",
          "2020-07-28T00:00:00",
          "2020-07-29T00:00:00",
          "2020-07-30T00:00:00",
          "2020-07-31T00:00:00",
          "2020-08-01T00:00:00",
          "2020-08-02T00:00:00",
          "2020-08-03T00:00:00",
          "2020-08-04T00:00:00",
          "2020-08-05T00:00:00",
          "2020-08-06T00:00:00",
          "2020-08-07T00:00:00",
          "2020-08-08T00:00:00",
          "2020-08-09T00:00:00",
          "2020-08-10T00:00:00",
          "2020-08-11T00:00:00",
          "2020-08-12T00:00:00",
          "2020-08-13T00:00:00",
          "2020-08-14T00:00:00",
          "2020-08-15T00:00:00",
          "2020-08-16T00:00:00",
          "2020-08-17T00:00:00",
          "2020-08-18T00:00:00",
          "2020-08-19T00:00:00",
          "2020-08-20T00:00:00",
          "2020-08-21T00:00:00",
          "2020-08-22T00:00:00",
          "2020-08-23T00:00:00",
          "2020-08-24T00:00:00",
          "2020-08-25T00:00:00",
          "2020-08-26T00:00:00",
          "2020-08-27T00:00:00",
          "2020-08-28T00:00:00",
          "2020-08-29T00:00:00",
          "2020-08-30T00:00:00",
          "2020-08-31T00:00:00",
          "2020-09-01T00:00:00",
          "2020-09-02T00:00:00",
          "2020-09-03T00:00:00",
          "2020-09-04T00:00:00",
          "2020-09-05T00:00:00",
          "2020-09-06T00:00:00",
          "2020-09-07T00:00:00",
          "2020-09-08T00:00:00",
          "2020-09-09T00:00:00",
          "2020-09-10T00:00:00",
          "2020-09-11T00:00:00",
          "2020-09-12T00:00:00"
         ],
         "xaxis": "x",
         "y": [
          0.6387660356042004,
          0.6260928765297166,
          0.7392372599794497,
          0.9395495963626439,
          0.8636046401093768,
          0.9937900599304088,
          1.0730242845145321,
          1.051554867432626,
          0.8117250475989543,
          1.067488250197508,
          1.0215399270932743,
          1.0782908965137479,
          0.8801855294606291,
          1.4451096356758077,
          1.0740208479126083,
          1.1593350264738362,
          1.2375953762660048,
          1.3229826274460312,
          1.3843042362717535,
          1.3948132668005497,
          1.210738818773867,
          1.0551773602322,
          1.052830411286774,
          1.0549734821936474,
          1.153866869600171,
          1.0070967353693694,
          0.928613615144044,
          0.8511663474338169,
          0.7721339908289646,
          0.6836991639633435,
          0.6554791920285927,
          0.6599043484018917,
          0.5882478553659832,
          0.5622573889673312,
          0.45209641417499685,
          0.4251397343907121,
          0.37182060818745544,
          0.3837015431130578,
          0.23702508600166708,
          0.2663194732849641,
          0.22744757513710862,
          0.14806403365372223,
          0.08883135083443086,
          -0.039551541827605396,
          -0.13332802421508308,
          -0.1114489745409864,
          -0.1332114706160509,
          -0.18602253736230762,
          -0.21030121592282564,
          -0.3305207723511702,
          -0.48099262826257433,
          -0.45650019924175517,
          -0.42428068695507865,
          -0.4071317231050702,
          -0.43688243394142456,
          -0.4901378463903686,
          -0.5291438264381183,
          -0.5521978134161701,
          -0.5880339661792016,
          -0.6173138657992109,
          -0.7171085455876997,
          -0.8093579140148969,
          -0.8958423401443735,
          -1.044631774418759,
          -1.1442919354233005,
          -1.1425398909296667,
          -1.1379253493000905,
          -1.2344575710905394,
          -1.274648733018232,
          -1.3052074103585019,
          -1.340883406191986,
          -1.3799772973866693,
          -1.3833743940238596,
          -1.4325062574706104,
          -1.5005009266355231,
          -1.5515062881369666,
          -1.587340148323447,
          -1.616871380036381,
          -1.7610965326744064,
          -1.7863714364458059,
          -1.8272387373810584,
          -1.8886620831899936,
          -1.9769124268913552,
          -2.028716269162371,
          -2.1072397352528736,
          -2.1681629017560438,
          -2.1807953556997433,
          -2.213020640439992,
          -2.3204118870586594,
          -2.3516492906686146,
          0.9886446379199871,
          0.7953912658480119,
          0.5796111506761003,
          0.7243044774524325,
          0.677022086927958,
          0.7116806282436033,
          0.5200004739376138,
          0.47556552614840863,
          0.3217218175580443,
          0.5812730520721584,
          0.5756103794785657,
          0.4560399517609495,
          0.5686077287362018,
          0.533208715510787,
          0.3738509045375292,
          0.2901810067934782,
          0.48605633545144095,
          0.5152792932476261,
          0.41655733578306836,
          0.3843491494360803,
          0.5067248995462941,
          0.40058086660164766,
          0.2693858523024631,
          0.3764416552331639,
          0.4350567118325044,
          0.3771147375043296,
          0.36993125547346123,
          0.38172516423338704,
          0.2750627731019594,
          0.21089153175628195,
          0.3718870078665438,
          0.3262941033466739,
          0.37889149763169866,
          0.41278057559114656,
          0.3721866956531116,
          0.3731267976403621,
          0.3282947097462443,
          0.45527394655426423,
          0.07798886299133301,
          0.07798859477043152,
          0.07798817753791809,
          0.07798784971237183,
          0.07798656821250916,
          0.07798436284065247,
          0.07798177003860474,
          0.07797181606292725,
          0.07797181606292725,
          0.07797178626060486,
          0.07797178626060486,
          0.07797181606292725,
          0.07797181606292725,
          0.07797184586524963,
          0.07797181606292725,
          0.07797181606292725,
          0.07797181606292725,
          0.07797181606292725,
          0.07797181606292725,
          0.07797181606292725,
          0.07797181606292725,
          0.07797181606292725,
          0.07797181606292725,
          0.07797181606292725,
          0.07797181606292725,
          0.07797181606292725
         ],
         "yaxis": "y"
        }
       ],
       "layout": {
        "legend": {
         "title": {
          "text": "variable"
         },
         "tracegroupgap": 0
        },
        "margin": {
         "t": 60
        },
        "template": {
         "data": {
          "bar": [
           {
            "error_x": {
             "color": "#2a3f5f"
            },
            "error_y": {
             "color": "#2a3f5f"
            },
            "marker": {
             "line": {
              "color": "#E5ECF6",
              "width": 0.5
             }
            },
            "type": "bar"
           }
          ],
          "barpolar": [
           {
            "marker": {
             "line": {
              "color": "#E5ECF6",
              "width": 0.5
             }
            },
            "type": "barpolar"
           }
          ],
          "carpet": [
           {
            "aaxis": {
             "endlinecolor": "#2a3f5f",
             "gridcolor": "white",
             "linecolor": "white",
             "minorgridcolor": "white",
             "startlinecolor": "#2a3f5f"
            },
            "baxis": {
             "endlinecolor": "#2a3f5f",
             "gridcolor": "white",
             "linecolor": "white",
             "minorgridcolor": "white",
             "startlinecolor": "#2a3f5f"
            },
            "type": "carpet"
           }
          ],
          "choropleth": [
           {
            "colorbar": {
             "outlinewidth": 0,
             "ticks": ""
            },
            "type": "choropleth"
           }
          ],
          "contour": [
           {
            "colorbar": {
             "outlinewidth": 0,
             "ticks": ""
            },
            "colorscale": [
             [
              0,
              "#0d0887"
             ],
             [
              0.1111111111111111,
              "#46039f"
             ],
             [
              0.2222222222222222,
              "#7201a8"
             ],
             [
              0.3333333333333333,
              "#9c179e"
             ],
             [
              0.4444444444444444,
              "#bd3786"
             ],
             [
              0.5555555555555556,
              "#d8576b"
             ],
             [
              0.6666666666666666,
              "#ed7953"
             ],
             [
              0.7777777777777778,
              "#fb9f3a"
             ],
             [
              0.8888888888888888,
              "#fdca26"
             ],
             [
              1,
              "#f0f921"
             ]
            ],
            "type": "contour"
           }
          ],
          "contourcarpet": [
           {
            "colorbar": {
             "outlinewidth": 0,
             "ticks": ""
            },
            "type": "contourcarpet"
           }
          ],
          "heatmap": [
           {
            "colorbar": {
             "outlinewidth": 0,
             "ticks": ""
            },
            "colorscale": [
             [
              0,
              "#0d0887"
             ],
             [
              0.1111111111111111,
              "#46039f"
             ],
             [
              0.2222222222222222,
              "#7201a8"
             ],
             [
              0.3333333333333333,
              "#9c179e"
             ],
             [
              0.4444444444444444,
              "#bd3786"
             ],
             [
              0.5555555555555556,
              "#d8576b"
             ],
             [
              0.6666666666666666,
              "#ed7953"
             ],
             [
              0.7777777777777778,
              "#fb9f3a"
             ],
             [
              0.8888888888888888,
              "#fdca26"
             ],
             [
              1,
              "#f0f921"
             ]
            ],
            "type": "heatmap"
           }
          ],
          "heatmapgl": [
           {
            "colorbar": {
             "outlinewidth": 0,
             "ticks": ""
            },
            "colorscale": [
             [
              0,
              "#0d0887"
             ],
             [
              0.1111111111111111,
              "#46039f"
             ],
             [
              0.2222222222222222,
              "#7201a8"
             ],
             [
              0.3333333333333333,
              "#9c179e"
             ],
             [
              0.4444444444444444,
              "#bd3786"
             ],
             [
              0.5555555555555556,
              "#d8576b"
             ],
             [
              0.6666666666666666,
              "#ed7953"
             ],
             [
              0.7777777777777778,
              "#fb9f3a"
             ],
             [
              0.8888888888888888,
              "#fdca26"
             ],
             [
              1,
              "#f0f921"
             ]
            ],
            "type": "heatmapgl"
           }
          ],
          "histogram": [
           {
            "marker": {
             "colorbar": {
              "outlinewidth": 0,
              "ticks": ""
             }
            },
            "type": "histogram"
           }
          ],
          "histogram2d": [
           {
            "colorbar": {
             "outlinewidth": 0,
             "ticks": ""
            },
            "colorscale": [
             [
              0,
              "#0d0887"
             ],
             [
              0.1111111111111111,
              "#46039f"
             ],
             [
              0.2222222222222222,
              "#7201a8"
             ],
             [
              0.3333333333333333,
              "#9c179e"
             ],
             [
              0.4444444444444444,
              "#bd3786"
             ],
             [
              0.5555555555555556,
              "#d8576b"
             ],
             [
              0.6666666666666666,
              "#ed7953"
             ],
             [
              0.7777777777777778,
              "#fb9f3a"
             ],
             [
              0.8888888888888888,
              "#fdca26"
             ],
             [
              1,
              "#f0f921"
             ]
            ],
            "type": "histogram2d"
           }
          ],
          "histogram2dcontour": [
           {
            "colorbar": {
             "outlinewidth": 0,
             "ticks": ""
            },
            "colorscale": [
             [
              0,
              "#0d0887"
             ],
             [
              0.1111111111111111,
              "#46039f"
             ],
             [
              0.2222222222222222,
              "#7201a8"
             ],
             [
              0.3333333333333333,
              "#9c179e"
             ],
             [
              0.4444444444444444,
              "#bd3786"
             ],
             [
              0.5555555555555556,
              "#d8576b"
             ],
             [
              0.6666666666666666,
              "#ed7953"
             ],
             [
              0.7777777777777778,
              "#fb9f3a"
             ],
             [
              0.8888888888888888,
              "#fdca26"
             ],
             [
              1,
              "#f0f921"
             ]
            ],
            "type": "histogram2dcontour"
           }
          ],
          "mesh3d": [
           {
            "colorbar": {
             "outlinewidth": 0,
             "ticks": ""
            },
            "type": "mesh3d"
           }
          ],
          "parcoords": [
           {
            "line": {
             "colorbar": {
              "outlinewidth": 0,
              "ticks": ""
             }
            },
            "type": "parcoords"
           }
          ],
          "pie": [
           {
            "automargin": true,
            "type": "pie"
           }
          ],
          "scatter": [
           {
            "marker": {
             "colorbar": {
              "outlinewidth": 0,
              "ticks": ""
             }
            },
            "type": "scatter"
           }
          ],
          "scatter3d": [
           {
            "line": {
             "colorbar": {
              "outlinewidth": 0,
              "ticks": ""
             }
            },
            "marker": {
             "colorbar": {
              "outlinewidth": 0,
              "ticks": ""
             }
            },
            "type": "scatter3d"
           }
          ],
          "scattercarpet": [
           {
            "marker": {
             "colorbar": {
              "outlinewidth": 0,
              "ticks": ""
             }
            },
            "type": "scattercarpet"
           }
          ],
          "scattergeo": [
           {
            "marker": {
             "colorbar": {
              "outlinewidth": 0,
              "ticks": ""
             }
            },
            "type": "scattergeo"
           }
          ],
          "scattergl": [
           {
            "marker": {
             "colorbar": {
              "outlinewidth": 0,
              "ticks": ""
             }
            },
            "type": "scattergl"
           }
          ],
          "scattermapbox": [
           {
            "marker": {
             "colorbar": {
              "outlinewidth": 0,
              "ticks": ""
             }
            },
            "type": "scattermapbox"
           }
          ],
          "scatterpolar": [
           {
            "marker": {
             "colorbar": {
              "outlinewidth": 0,
              "ticks": ""
             }
            },
            "type": "scatterpolar"
           }
          ],
          "scatterpolargl": [
           {
            "marker": {
             "colorbar": {
              "outlinewidth": 0,
              "ticks": ""
             }
            },
            "type": "scatterpolargl"
           }
          ],
          "scatterternary": [
           {
            "marker": {
             "colorbar": {
              "outlinewidth": 0,
              "ticks": ""
             }
            },
            "type": "scatterternary"
           }
          ],
          "surface": [
           {
            "colorbar": {
             "outlinewidth": 0,
             "ticks": ""
            },
            "colorscale": [
             [
              0,
              "#0d0887"
             ],
             [
              0.1111111111111111,
              "#46039f"
             ],
             [
              0.2222222222222222,
              "#7201a8"
             ],
             [
              0.3333333333333333,
              "#9c179e"
             ],
             [
              0.4444444444444444,
              "#bd3786"
             ],
             [
              0.5555555555555556,
              "#d8576b"
             ],
             [
              0.6666666666666666,
              "#ed7953"
             ],
             [
              0.7777777777777778,
              "#fb9f3a"
             ],
             [
              0.8888888888888888,
              "#fdca26"
             ],
             [
              1,
              "#f0f921"
             ]
            ],
            "type": "surface"
           }
          ],
          "table": [
           {
            "cells": {
             "fill": {
              "color": "#EBF0F8"
             },
             "line": {
              "color": "white"
             }
            },
            "header": {
             "fill": {
              "color": "#C8D4E3"
             },
             "line": {
              "color": "white"
             }
            },
            "type": "table"
           }
          ]
         },
         "layout": {
          "annotationdefaults": {
           "arrowcolor": "#2a3f5f",
           "arrowhead": 0,
           "arrowwidth": 1
          },
          "coloraxis": {
           "colorbar": {
            "outlinewidth": 0,
            "ticks": ""
           }
          },
          "colorscale": {
           "diverging": [
            [
             0,
             "#8e0152"
            ],
            [
             0.1,
             "#c51b7d"
            ],
            [
             0.2,
             "#de77ae"
            ],
            [
             0.3,
             "#f1b6da"
            ],
            [
             0.4,
             "#fde0ef"
            ],
            [
             0.5,
             "#f7f7f7"
            ],
            [
             0.6,
             "#e6f5d0"
            ],
            [
             0.7,
             "#b8e186"
            ],
            [
             0.8,
             "#7fbc41"
            ],
            [
             0.9,
             "#4d9221"
            ],
            [
             1,
             "#276419"
            ]
           ],
           "sequential": [
            [
             0,
             "#0d0887"
            ],
            [
             0.1111111111111111,
             "#46039f"
            ],
            [
             0.2222222222222222,
             "#7201a8"
            ],
            [
             0.3333333333333333,
             "#9c179e"
            ],
            [
             0.4444444444444444,
             "#bd3786"
            ],
            [
             0.5555555555555556,
             "#d8576b"
            ],
            [
             0.6666666666666666,
             "#ed7953"
            ],
            [
             0.7777777777777778,
             "#fb9f3a"
            ],
            [
             0.8888888888888888,
             "#fdca26"
            ],
            [
             1,
             "#f0f921"
            ]
           ],
           "sequentialminus": [
            [
             0,
             "#0d0887"
            ],
            [
             0.1111111111111111,
             "#46039f"
            ],
            [
             0.2222222222222222,
             "#7201a8"
            ],
            [
             0.3333333333333333,
             "#9c179e"
            ],
            [
             0.4444444444444444,
             "#bd3786"
            ],
            [
             0.5555555555555556,
             "#d8576b"
            ],
            [
             0.6666666666666666,
             "#ed7953"
            ],
            [
             0.7777777777777778,
             "#fb9f3a"
            ],
            [
             0.8888888888888888,
             "#fdca26"
            ],
            [
             1,
             "#f0f921"
            ]
           ]
          },
          "colorway": [
           "#636efa",
           "#EF553B",
           "#00cc96",
           "#ab63fa",
           "#FFA15A",
           "#19d3f3",
           "#FF6692",
           "#B6E880",
           "#FF97FF",
           "#FECB52"
          ],
          "font": {
           "color": "#2a3f5f"
          },
          "geo": {
           "bgcolor": "white",
           "lakecolor": "white",
           "landcolor": "#E5ECF6",
           "showlakes": true,
           "showland": true,
           "subunitcolor": "white"
          },
          "hoverlabel": {
           "align": "left"
          },
          "hovermode": "closest",
          "mapbox": {
           "style": "light"
          },
          "paper_bgcolor": "white",
          "plot_bgcolor": "#E5ECF6",
          "polar": {
           "angularaxis": {
            "gridcolor": "white",
            "linecolor": "white",
            "ticks": ""
           },
           "bgcolor": "#E5ECF6",
           "radialaxis": {
            "gridcolor": "white",
            "linecolor": "white",
            "ticks": ""
           }
          },
          "scene": {
           "xaxis": {
            "backgroundcolor": "#E5ECF6",
            "gridcolor": "white",
            "gridwidth": 2,
            "linecolor": "white",
            "showbackground": true,
            "ticks": "",
            "zerolinecolor": "white"
           },
           "yaxis": {
            "backgroundcolor": "#E5ECF6",
            "gridcolor": "white",
            "gridwidth": 2,
            "linecolor": "white",
            "showbackground": true,
            "ticks": "",
            "zerolinecolor": "white"
           },
           "zaxis": {
            "backgroundcolor": "#E5ECF6",
            "gridcolor": "white",
            "gridwidth": 2,
            "linecolor": "white",
            "showbackground": true,
            "ticks": "",
            "zerolinecolor": "white"
           }
          },
          "shapedefaults": {
           "line": {
            "color": "#2a3f5f"
           }
          },
          "ternary": {
           "aaxis": {
            "gridcolor": "white",
            "linecolor": "white",
            "ticks": ""
           },
           "baxis": {
            "gridcolor": "white",
            "linecolor": "white",
            "ticks": ""
           },
           "bgcolor": "#E5ECF6",
           "caxis": {
            "gridcolor": "white",
            "linecolor": "white",
            "ticks": ""
           }
          },
          "title": {
           "x": 0.05
          },
          "xaxis": {
           "automargin": true,
           "gridcolor": "white",
           "linecolor": "white",
           "ticks": "",
           "title": {
            "standoff": 15
           },
           "zerolinecolor": "white",
           "zerolinewidth": 2
          },
          "yaxis": {
           "automargin": true,
           "gridcolor": "white",
           "linecolor": "white",
           "ticks": "",
           "title": {
            "standoff": 15
           },
           "zerolinecolor": "white",
           "zerolinewidth": 2
          }
         }
        },
        "xaxis": {
         "anchor": "y",
         "domain": [
          0,
          1
         ],
         "title": {
          "text": "index"
         }
        },
        "yaxis": {
         "anchor": "x",
         "domain": [
          0,
          1
         ],
         "title": {
          "text": "value"
         }
        }
       }
      }
     },
     "metadata": {}
    }
   ],
   "source": [
    "pd.concat([state_dfs['Alabama'], state_forecasts['Alabama']]).plot()"
   ]
  },
  {
   "cell_type": "code",
   "execution_count": 12,
   "metadata": {},
   "outputs": [
    {
     "output_type": "execute_result",
     "data": {
      "text/plain": [
       "            Confirmed    Deaths  Recovered    Active  Incident_Rate  \\\n",
       "Date                                                                  \n",
       "2020-08-11   1.989143  1.889879   1.360172  2.227145       1.991199   \n",
       "2020-08-12   2.017503  1.956954   1.666994  2.086082       2.019622   \n",
       "2020-08-13   2.040889  1.972286   1.666994  2.125945       2.043060   \n",
       "2020-08-14   2.063699  1.978035   1.666994  2.165077       2.065921   \n",
       "2020-08-15   2.102250  1.983784   1.666994  2.231325       2.104558   \n",
       "2020-08-16   2.128123  1.987617   1.666994  2.275786       2.130489   \n",
       "2020-08-17   2.145443  2.039360   1.666994  2.304207       2.147847   \n",
       "\n",
       "            People_Tested  People_Hospitalized  Mortality_Rate  Testing_Rate  \\\n",
       "Date                                                                           \n",
       "2020-08-11       1.760487             2.000805       -1.327719      1.763635   \n",
       "2020-08-12       1.809815             2.056937       -1.306534      1.813153   \n",
       "2020-08-13       1.837541             2.098405       -1.313228      1.840986   \n",
       "2020-08-14       1.929084             2.098405       -1.325123      1.932881   \n",
       "2020-08-15       1.978212             2.136585       -1.347175      1.982198   \n",
       "2020-08-16       2.016619             2.136585       -1.361700      2.020752   \n",
       "2020-08-17       2.043153             2.225334       -1.342848      2.047388   \n",
       "\n",
       "            Hospitalization_Rate  \n",
       "Date                              \n",
       "2020-08-11              0.326294  \n",
       "2020-08-12              0.378891  \n",
       "2020-08-13              0.412781  \n",
       "2020-08-14              0.372187  \n",
       "2020-08-15              0.373127  \n",
       "2020-08-16              0.328295  \n",
       "2020-08-17              0.455274  "
      ],
      "text/html": "<div>\n<style scoped>\n    .dataframe tbody tr th:only-of-type {\n        vertical-align: middle;\n    }\n\n    .dataframe tbody tr th {\n        vertical-align: top;\n    }\n\n    .dataframe thead th {\n        text-align: right;\n    }\n</style>\n<table border=\"1\" class=\"dataframe\">\n  <thead>\n    <tr style=\"text-align: right;\">\n      <th></th>\n      <th>Confirmed</th>\n      <th>Deaths</th>\n      <th>Recovered</th>\n      <th>Active</th>\n      <th>Incident_Rate</th>\n      <th>People_Tested</th>\n      <th>People_Hospitalized</th>\n      <th>Mortality_Rate</th>\n      <th>Testing_Rate</th>\n      <th>Hospitalization_Rate</th>\n    </tr>\n    <tr>\n      <th>Date</th>\n      <th></th>\n      <th></th>\n      <th></th>\n      <th></th>\n      <th></th>\n      <th></th>\n      <th></th>\n      <th></th>\n      <th></th>\n      <th></th>\n    </tr>\n  </thead>\n  <tbody>\n    <tr>\n      <th>2020-08-11</th>\n      <td>1.989143</td>\n      <td>1.889879</td>\n      <td>1.360172</td>\n      <td>2.227145</td>\n      <td>1.991199</td>\n      <td>1.760487</td>\n      <td>2.000805</td>\n      <td>-1.327719</td>\n      <td>1.763635</td>\n      <td>0.326294</td>\n    </tr>\n    <tr>\n      <th>2020-08-12</th>\n      <td>2.017503</td>\n      <td>1.956954</td>\n      <td>1.666994</td>\n      <td>2.086082</td>\n      <td>2.019622</td>\n      <td>1.809815</td>\n      <td>2.056937</td>\n      <td>-1.306534</td>\n      <td>1.813153</td>\n      <td>0.378891</td>\n    </tr>\n    <tr>\n      <th>2020-08-13</th>\n      <td>2.040889</td>\n      <td>1.972286</td>\n      <td>1.666994</td>\n      <td>2.125945</td>\n      <td>2.043060</td>\n      <td>1.837541</td>\n      <td>2.098405</td>\n      <td>-1.313228</td>\n      <td>1.840986</td>\n      <td>0.412781</td>\n    </tr>\n    <tr>\n      <th>2020-08-14</th>\n      <td>2.063699</td>\n      <td>1.978035</td>\n      <td>1.666994</td>\n      <td>2.165077</td>\n      <td>2.065921</td>\n      <td>1.929084</td>\n      <td>2.098405</td>\n      <td>-1.325123</td>\n      <td>1.932881</td>\n      <td>0.372187</td>\n    </tr>\n    <tr>\n      <th>2020-08-15</th>\n      <td>2.102250</td>\n      <td>1.983784</td>\n      <td>1.666994</td>\n      <td>2.231325</td>\n      <td>2.104558</td>\n      <td>1.978212</td>\n      <td>2.136585</td>\n      <td>-1.347175</td>\n      <td>1.982198</td>\n      <td>0.373127</td>\n    </tr>\n    <tr>\n      <th>2020-08-16</th>\n      <td>2.128123</td>\n      <td>1.987617</td>\n      <td>1.666994</td>\n      <td>2.275786</td>\n      <td>2.130489</td>\n      <td>2.016619</td>\n      <td>2.136585</td>\n      <td>-1.361700</td>\n      <td>2.020752</td>\n      <td>0.328295</td>\n    </tr>\n    <tr>\n      <th>2020-08-17</th>\n      <td>2.145443</td>\n      <td>2.039360</td>\n      <td>1.666994</td>\n      <td>2.304207</td>\n      <td>2.147847</td>\n      <td>2.043153</td>\n      <td>2.225334</td>\n      <td>-1.342848</td>\n      <td>2.047388</td>\n      <td>0.455274</td>\n    </tr>\n  </tbody>\n</table>\n</div>"
     },
     "metadata": {},
     "execution_count": 12
    }
   ],
   "source": [
    "state_dfs['Alabama'].iloc[-lag_order:]"
   ]
  },
  {
   "cell_type": "code",
   "execution_count": 13,
   "metadata": {},
   "outputs": [
    {
     "output_type": "execute_result",
     "data": {
      "text/plain": [
       "            Confirmed    Deaths  Recovered    Active  Incident_Rate  \\\n",
       "2020-08-18   0.750578  0.723176   0.758303  0.752485       0.970006   \n",
       "2020-08-19   0.714971  0.701951   0.675647  0.691220       0.921879   \n",
       "2020-08-20   0.708087  0.698648   0.654526  0.676092       0.910894   \n",
       "2020-08-21   0.705996  0.698028   0.647236  0.670996       0.907300   \n",
       "2020-08-22   0.704970  0.697727   0.644329  0.668888       0.905656   \n",
       "2020-08-23   0.704239  0.697442   0.643008  0.667823       0.904639   \n",
       "2020-08-24   0.703604  0.697147   0.642296  0.667154       0.903850   \n",
       "2020-08-25   0.702931  0.696816   0.641808  0.666606       0.903081   \n",
       "2020-08-26   0.702806  0.696738   0.641598  0.666430       0.902911   \n",
       "2020-08-27   0.702777  0.696723   0.641520  0.666372       0.902865   \n",
       "2020-08-28   0.702768  0.696720   0.641489  0.666350       0.902849   \n",
       "2020-08-29   0.702764  0.696719   0.641476  0.666340       0.902841   \n",
       "2020-08-30   0.702761  0.696718   0.641470  0.666335       0.902837   \n",
       "2020-08-31   0.702760  0.696717   0.641467  0.666333       0.902835   \n",
       "2020-09-01   0.702758  0.696717   0.641466  0.666332       0.902834   \n",
       "2020-09-02   0.702758  0.696716   0.641465  0.666331       0.902833   \n",
       "2020-09-03   0.702758  0.696716   0.641465  0.666331       0.902833   \n",
       "2020-09-04   0.702758  0.696716   0.641465  0.666331       0.902833   \n",
       "2020-09-05   0.702758  0.696716   0.641465  0.666331       0.902833   \n",
       "2020-09-06   0.702758  0.696716   0.641465  0.666331       0.902833   \n",
       "2020-09-07   0.702758  0.696716   0.641465  0.666331       0.902833   \n",
       "2020-09-08   0.702758  0.696716   0.641465  0.666331       0.902833   \n",
       "2020-09-09   0.702758  0.696716   0.641465  0.666331       0.902833   \n",
       "2020-09-10   0.702758  0.696716   0.641465  0.666331       0.902833   \n",
       "2020-09-11   0.702758  0.696716   0.641465  0.666331       0.902833   \n",
       "2020-09-12   0.702758  0.696716   0.641465  0.666331       0.902833   \n",
       "\n",
       "            People_Tested  People_Hospitalized  Mortality_Rate  Testing_Rate  \\\n",
       "2020-08-18       0.993595             1.001136       -0.919508      0.559010   \n",
       "2020-08-19       0.931179             0.925978       -0.871250      0.542146   \n",
       "2020-08-20       0.917751             0.906106       -0.864117      0.540283   \n",
       "2020-08-21       0.913597             0.899260       -0.862408      0.540232   \n",
       "2020-08-22       0.911880             0.896393       -0.861653      0.540195   \n",
       "2020-08-23       0.910939             0.894931       -0.861089      0.540056   \n",
       "2020-08-24       0.910264             0.894001       -0.860555      0.539855   \n",
       "2020-08-25       0.909614             0.893225       -0.859935      0.539590   \n",
       "2020-08-26       0.909455             0.892995       -0.859826      0.539537   \n",
       "2020-08-27       0.909409             0.892918       -0.859805      0.539531   \n",
       "2020-08-28       0.909394             0.892889       -0.859801      0.539532   \n",
       "2020-08-29       0.909387             0.892876       -0.859798      0.539532   \n",
       "2020-08-30       0.909383             0.892870       -0.859797      0.539531   \n",
       "2020-08-31       0.909381             0.892867       -0.859796      0.539531   \n",
       "2020-09-01       0.909380             0.892865       -0.859795      0.539531   \n",
       "2020-09-02       0.909380             0.892864       -0.859794      0.539531   \n",
       "2020-09-03       0.909380             0.892864       -0.859795      0.539531   \n",
       "2020-09-04       0.909379             0.892864       -0.859795      0.539531   \n",
       "2020-09-05       0.909379             0.892864       -0.859795      0.539531   \n",
       "2020-09-06       0.909379             0.892864       -0.859795      0.539531   \n",
       "2020-09-07       0.909379             0.892864       -0.859795      0.539531   \n",
       "2020-09-08       0.909379             0.892864       -0.859795      0.539531   \n",
       "2020-09-09       0.909379             0.892864       -0.859795      0.539531   \n",
       "2020-09-10       0.909379             0.892864       -0.859795      0.539531   \n",
       "2020-09-11       0.909379             0.892864       -0.859795      0.539531   \n",
       "2020-09-12       0.909379             0.892864       -0.859795      0.539531   \n",
       "\n",
       "            Hospitalization_Rate  \n",
       "2020-08-18             -0.277527  \n",
       "2020-08-19             -0.352744  \n",
       "2020-08-20             -0.379681  \n",
       "2020-08-21             -0.390160  \n",
       "2020-08-22             -0.394326  \n",
       "2020-08-23             -0.396006  \n",
       "2020-08-24             -0.396689  \n",
       "2020-08-25             -0.396939  \n",
       "2020-08-26             -0.397145  \n",
       "2020-08-27             -0.397248  \n",
       "2020-08-28             -0.397293  \n",
       "2020-08-29             -0.397312  \n",
       "2020-08-30             -0.397321  \n",
       "2020-08-31             -0.397324  \n",
       "2020-09-01             -0.397326  \n",
       "2020-09-02             -0.397326  \n",
       "2020-09-03             -0.397327  \n",
       "2020-09-04             -0.397327  \n",
       "2020-09-05             -0.397327  \n",
       "2020-09-06             -0.397327  \n",
       "2020-09-07             -0.397327  \n",
       "2020-09-08             -0.397327  \n",
       "2020-09-09             -0.397327  \n",
       "2020-09-10             -0.397327  \n",
       "2020-09-11             -0.397327  \n",
       "2020-09-12             -0.397327  "
      ],
      "text/html": "<div>\n<style scoped>\n    .dataframe tbody tr th:only-of-type {\n        vertical-align: middle;\n    }\n\n    .dataframe tbody tr th {\n        vertical-align: top;\n    }\n\n    .dataframe thead th {\n        text-align: right;\n    }\n</style>\n<table border=\"1\" class=\"dataframe\">\n  <thead>\n    <tr style=\"text-align: right;\">\n      <th></th>\n      <th>Confirmed</th>\n      <th>Deaths</th>\n      <th>Recovered</th>\n      <th>Active</th>\n      <th>Incident_Rate</th>\n      <th>People_Tested</th>\n      <th>People_Hospitalized</th>\n      <th>Mortality_Rate</th>\n      <th>Testing_Rate</th>\n      <th>Hospitalization_Rate</th>\n    </tr>\n  </thead>\n  <tbody>\n    <tr>\n      <th>2020-08-18</th>\n      <td>0.750578</td>\n      <td>0.723176</td>\n      <td>0.758303</td>\n      <td>0.752485</td>\n      <td>0.970006</td>\n      <td>0.993595</td>\n      <td>1.001136</td>\n      <td>-0.919508</td>\n      <td>0.559010</td>\n      <td>-0.277527</td>\n    </tr>\n    <tr>\n      <th>2020-08-19</th>\n      <td>0.714971</td>\n      <td>0.701951</td>\n      <td>0.675647</td>\n      <td>0.691220</td>\n      <td>0.921879</td>\n      <td>0.931179</td>\n      <td>0.925978</td>\n      <td>-0.871250</td>\n      <td>0.542146</td>\n      <td>-0.352744</td>\n    </tr>\n    <tr>\n      <th>2020-08-20</th>\n      <td>0.708087</td>\n      <td>0.698648</td>\n      <td>0.654526</td>\n      <td>0.676092</td>\n      <td>0.910894</td>\n      <td>0.917751</td>\n      <td>0.906106</td>\n      <td>-0.864117</td>\n      <td>0.540283</td>\n      <td>-0.379681</td>\n    </tr>\n    <tr>\n      <th>2020-08-21</th>\n      <td>0.705996</td>\n      <td>0.698028</td>\n      <td>0.647236</td>\n      <td>0.670996</td>\n      <td>0.907300</td>\n      <td>0.913597</td>\n      <td>0.899260</td>\n      <td>-0.862408</td>\n      <td>0.540232</td>\n      <td>-0.390160</td>\n    </tr>\n    <tr>\n      <th>2020-08-22</th>\n      <td>0.704970</td>\n      <td>0.697727</td>\n      <td>0.644329</td>\n      <td>0.668888</td>\n      <td>0.905656</td>\n      <td>0.911880</td>\n      <td>0.896393</td>\n      <td>-0.861653</td>\n      <td>0.540195</td>\n      <td>-0.394326</td>\n    </tr>\n    <tr>\n      <th>2020-08-23</th>\n      <td>0.704239</td>\n      <td>0.697442</td>\n      <td>0.643008</td>\n      <td>0.667823</td>\n      <td>0.904639</td>\n      <td>0.910939</td>\n      <td>0.894931</td>\n      <td>-0.861089</td>\n      <td>0.540056</td>\n      <td>-0.396006</td>\n    </tr>\n    <tr>\n      <th>2020-08-24</th>\n      <td>0.703604</td>\n      <td>0.697147</td>\n      <td>0.642296</td>\n      <td>0.667154</td>\n      <td>0.903850</td>\n      <td>0.910264</td>\n      <td>0.894001</td>\n      <td>-0.860555</td>\n      <td>0.539855</td>\n      <td>-0.396689</td>\n    </tr>\n    <tr>\n      <th>2020-08-25</th>\n      <td>0.702931</td>\n      <td>0.696816</td>\n      <td>0.641808</td>\n      <td>0.666606</td>\n      <td>0.903081</td>\n      <td>0.909614</td>\n      <td>0.893225</td>\n      <td>-0.859935</td>\n      <td>0.539590</td>\n      <td>-0.396939</td>\n    </tr>\n    <tr>\n      <th>2020-08-26</th>\n      <td>0.702806</td>\n      <td>0.696738</td>\n      <td>0.641598</td>\n      <td>0.666430</td>\n      <td>0.902911</td>\n      <td>0.909455</td>\n      <td>0.892995</td>\n      <td>-0.859826</td>\n      <td>0.539537</td>\n      <td>-0.397145</td>\n    </tr>\n    <tr>\n      <th>2020-08-27</th>\n      <td>0.702777</td>\n      <td>0.696723</td>\n      <td>0.641520</td>\n      <td>0.666372</td>\n      <td>0.902865</td>\n      <td>0.909409</td>\n      <td>0.892918</td>\n      <td>-0.859805</td>\n      <td>0.539531</td>\n      <td>-0.397248</td>\n    </tr>\n    <tr>\n      <th>2020-08-28</th>\n      <td>0.702768</td>\n      <td>0.696720</td>\n      <td>0.641489</td>\n      <td>0.666350</td>\n      <td>0.902849</td>\n      <td>0.909394</td>\n      <td>0.892889</td>\n      <td>-0.859801</td>\n      <td>0.539532</td>\n      <td>-0.397293</td>\n    </tr>\n    <tr>\n      <th>2020-08-29</th>\n      <td>0.702764</td>\n      <td>0.696719</td>\n      <td>0.641476</td>\n      <td>0.666340</td>\n      <td>0.902841</td>\n      <td>0.909387</td>\n      <td>0.892876</td>\n      <td>-0.859798</td>\n      <td>0.539532</td>\n      <td>-0.397312</td>\n    </tr>\n    <tr>\n      <th>2020-08-30</th>\n      <td>0.702761</td>\n      <td>0.696718</td>\n      <td>0.641470</td>\n      <td>0.666335</td>\n      <td>0.902837</td>\n      <td>0.909383</td>\n      <td>0.892870</td>\n      <td>-0.859797</td>\n      <td>0.539531</td>\n      <td>-0.397321</td>\n    </tr>\n    <tr>\n      <th>2020-08-31</th>\n      <td>0.702760</td>\n      <td>0.696717</td>\n      <td>0.641467</td>\n      <td>0.666333</td>\n      <td>0.902835</td>\n      <td>0.909381</td>\n      <td>0.892867</td>\n      <td>-0.859796</td>\n      <td>0.539531</td>\n      <td>-0.397324</td>\n    </tr>\n    <tr>\n      <th>2020-09-01</th>\n      <td>0.702758</td>\n      <td>0.696717</td>\n      <td>0.641466</td>\n      <td>0.666332</td>\n      <td>0.902834</td>\n      <td>0.909380</td>\n      <td>0.892865</td>\n      <td>-0.859795</td>\n      <td>0.539531</td>\n      <td>-0.397326</td>\n    </tr>\n    <tr>\n      <th>2020-09-02</th>\n      <td>0.702758</td>\n      <td>0.696716</td>\n      <td>0.641465</td>\n      <td>0.666331</td>\n      <td>0.902833</td>\n      <td>0.909380</td>\n      <td>0.892864</td>\n      <td>-0.859794</td>\n      <td>0.539531</td>\n      <td>-0.397326</td>\n    </tr>\n    <tr>\n      <th>2020-09-03</th>\n      <td>0.702758</td>\n      <td>0.696716</td>\n      <td>0.641465</td>\n      <td>0.666331</td>\n      <td>0.902833</td>\n      <td>0.909380</td>\n      <td>0.892864</td>\n      <td>-0.859795</td>\n      <td>0.539531</td>\n      <td>-0.397327</td>\n    </tr>\n    <tr>\n      <th>2020-09-04</th>\n      <td>0.702758</td>\n      <td>0.696716</td>\n      <td>0.641465</td>\n      <td>0.666331</td>\n      <td>0.902833</td>\n      <td>0.909379</td>\n      <td>0.892864</td>\n      <td>-0.859795</td>\n      <td>0.539531</td>\n      <td>-0.397327</td>\n    </tr>\n    <tr>\n      <th>2020-09-05</th>\n      <td>0.702758</td>\n      <td>0.696716</td>\n      <td>0.641465</td>\n      <td>0.666331</td>\n      <td>0.902833</td>\n      <td>0.909379</td>\n      <td>0.892864</td>\n      <td>-0.859795</td>\n      <td>0.539531</td>\n      <td>-0.397327</td>\n    </tr>\n    <tr>\n      <th>2020-09-06</th>\n      <td>0.702758</td>\n      <td>0.696716</td>\n      <td>0.641465</td>\n      <td>0.666331</td>\n      <td>0.902833</td>\n      <td>0.909379</td>\n      <td>0.892864</td>\n      <td>-0.859795</td>\n      <td>0.539531</td>\n      <td>-0.397327</td>\n    </tr>\n    <tr>\n      <th>2020-09-07</th>\n      <td>0.702758</td>\n      <td>0.696716</td>\n      <td>0.641465</td>\n      <td>0.666331</td>\n      <td>0.902833</td>\n      <td>0.909379</td>\n      <td>0.892864</td>\n      <td>-0.859795</td>\n      <td>0.539531</td>\n      <td>-0.397327</td>\n    </tr>\n    <tr>\n      <th>2020-09-08</th>\n      <td>0.702758</td>\n      <td>0.696716</td>\n      <td>0.641465</td>\n      <td>0.666331</td>\n      <td>0.902833</td>\n      <td>0.909379</td>\n      <td>0.892864</td>\n      <td>-0.859795</td>\n      <td>0.539531</td>\n      <td>-0.397327</td>\n    </tr>\n    <tr>\n      <th>2020-09-09</th>\n      <td>0.702758</td>\n      <td>0.696716</td>\n      <td>0.641465</td>\n      <td>0.666331</td>\n      <td>0.902833</td>\n      <td>0.909379</td>\n      <td>0.892864</td>\n      <td>-0.859795</td>\n      <td>0.539531</td>\n      <td>-0.397327</td>\n    </tr>\n    <tr>\n      <th>2020-09-10</th>\n      <td>0.702758</td>\n      <td>0.696716</td>\n      <td>0.641465</td>\n      <td>0.666331</td>\n      <td>0.902833</td>\n      <td>0.909379</td>\n      <td>0.892864</td>\n      <td>-0.859795</td>\n      <td>0.539531</td>\n      <td>-0.397327</td>\n    </tr>\n    <tr>\n      <th>2020-09-11</th>\n      <td>0.702758</td>\n      <td>0.696716</td>\n      <td>0.641465</td>\n      <td>0.666331</td>\n      <td>0.902833</td>\n      <td>0.909379</td>\n      <td>0.892864</td>\n      <td>-0.859795</td>\n      <td>0.539531</td>\n      <td>-0.397327</td>\n    </tr>\n    <tr>\n      <th>2020-09-12</th>\n      <td>0.702758</td>\n      <td>0.696716</td>\n      <td>0.641465</td>\n      <td>0.666331</td>\n      <td>0.902833</td>\n      <td>0.909379</td>\n      <td>0.892864</td>\n      <td>-0.859795</td>\n      <td>0.539531</td>\n      <td>-0.397327</td>\n    </tr>\n  </tbody>\n</table>\n</div>"
     },
     "metadata": {},
     "execution_count": 13
    }
   ],
   "source": [
    "state_forecasts['Alabama']"
   ]
  },
  {
   "cell_type": "code",
   "execution_count": 14,
   "metadata": {},
   "outputs": [
    {
     "output_type": "display_data",
     "data": {
      "application/vnd.plotly.v1+json": {
       "config": {
        "plotlyServerURL": "https://plot.ly"
       },
       "data": [
        {
         "hovertemplate": "variable=Confirmed<br>index=%{x}<br>value=%{y}<extra></extra>",
         "legendgroup": "Confirmed",
         "line": {
          "color": "#636efa",
          "dash": "solid"
         },
         "mode": "lines",
         "name": "Confirmed",
         "orientation": "v",
         "showlegend": true,
         "type": "scatter",
         "x": [
          0,
          50,
          100,
          150,
          200,
          250,
          300,
          350,
          400,
          450,
          500,
          550,
          600,
          650,
          700,
          750,
          800,
          850,
          900,
          950,
          1000,
          1050,
          1100,
          1150,
          1200,
          1250,
          1300,
          1350,
          1400,
          1450,
          1500,
          1550,
          1600,
          1650,
          1700,
          1750,
          1800,
          1850,
          1900,
          1950,
          2000,
          2050,
          2100,
          2150,
          2200,
          2250,
          2300,
          2350,
          2400,
          2450,
          2500,
          2550,
          2600,
          2650,
          2700,
          2750,
          2800,
          2850,
          2900,
          2950,
          3000,
          3050,
          3100,
          3150,
          3200,
          3250,
          3300,
          3350,
          3400,
          3450,
          3500,
          3550,
          3600,
          3650,
          3700,
          3750,
          3800,
          3850,
          3900,
          3950,
          4000,
          4050,
          4100,
          4150,
          4200,
          4250,
          4300,
          4350,
          4400,
          4450,
          4500,
          4550,
          4600,
          4650,
          4700,
          4750,
          4800,
          4850,
          4900,
          4950,
          5000,
          5050,
          5100,
          5150,
          5200,
          5250,
          5300,
          5350,
          5400,
          5450,
          5500,
          5550,
          5600,
          5650,
          5700,
          5750,
          5800,
          5850,
          5900,
          5950,
          6000,
          6050,
          6100,
          6150,
          6200,
          6250,
          6300,
          6350,
          6400,
          6450,
          6500,
          6550,
          6600,
          6650,
          6700,
          6750,
          6800,
          6850,
          6900,
          6950,
          7000,
          7050
         ],
         "xaxis": "x",
         "y": [
          3563,
          3734,
          3953,
          4075,
          4345,
          4571,
          4712,
          4888,
          5079,
          5317,
          5593,
          5832,
          6026,
          6026,
          6421,
          6539,
          6750,
          6912,
          7088,
          7294,
          7611,
          7888,
          8112,
          8437,
          8691,
          9046,
          9385,
          9668,
          9889,
          10164,
          10464,
          10700,
          11101,
          11373,
          11674,
          11771,
          12086,
          12376,
          13052,
          13288,
          13670,
          14117,
          14478,
          14986,
          15650,
          16032,
          16530,
          17031,
          17359,
          17952,
          18630,
          18766,
          18851,
          19072,
          19387,
          20043,
          20500,
          20925,
          21422,
          21989,
          22845,
          23710,
          24601,
          25615,
          26272,
          26912,
          27312,
          28206,
          29002,
          29549,
          30021,
          30454,
          31097,
          32064,
          33206,
          34183,
          35083,
          35441,
          37175,
          38045,
          38962,
          40111,
          41865,
          42862,
          43953,
          44878,
          45785,
          46962,
          49174,
          50508,
          51947,
          53587,
          55545,
          57255,
          59067,
          61088,
          63091,
          65234,
          67011,
          68891,
          70358,
          71813,
          74212,
          76005,
          78130,
          79294,
          81115,
          82366,
          83782,
          85762,
          87723,
          89349,
          91444,
          92661,
          93702,
          94654,
          96592,
          98301,
          100173,
          101334,
          103020,
          103851,
          104786,
          105557,
          106309,
          107580,
          108433,
          109004,
          110361,
          111478,
          112449,
          113632,
          114532,
          115060,
          116710,
          117242,
          119254,
          121023,
          122185,
          123889,
          125235,
          126058
         ],
         "yaxis": "y"
        }
       ],
       "layout": {
        "legend": {
         "title": {
          "text": "variable"
         },
         "tracegroupgap": 0
        },
        "margin": {
         "t": 60
        },
        "template": {
         "data": {
          "bar": [
           {
            "error_x": {
             "color": "#2a3f5f"
            },
            "error_y": {
             "color": "#2a3f5f"
            },
            "marker": {
             "line": {
              "color": "#E5ECF6",
              "width": 0.5
             }
            },
            "type": "bar"
           }
          ],
          "barpolar": [
           {
            "marker": {
             "line": {
              "color": "#E5ECF6",
              "width": 0.5
             }
            },
            "type": "barpolar"
           }
          ],
          "carpet": [
           {
            "aaxis": {
             "endlinecolor": "#2a3f5f",
             "gridcolor": "white",
             "linecolor": "white",
             "minorgridcolor": "white",
             "startlinecolor": "#2a3f5f"
            },
            "baxis": {
             "endlinecolor": "#2a3f5f",
             "gridcolor": "white",
             "linecolor": "white",
             "minorgridcolor": "white",
             "startlinecolor": "#2a3f5f"
            },
            "type": "carpet"
           }
          ],
          "choropleth": [
           {
            "colorbar": {
             "outlinewidth": 0,
             "ticks": ""
            },
            "type": "choropleth"
           }
          ],
          "contour": [
           {
            "colorbar": {
             "outlinewidth": 0,
             "ticks": ""
            },
            "colorscale": [
             [
              0,
              "#0d0887"
             ],
             [
              0.1111111111111111,
              "#46039f"
             ],
             [
              0.2222222222222222,
              "#7201a8"
             ],
             [
              0.3333333333333333,
              "#9c179e"
             ],
             [
              0.4444444444444444,
              "#bd3786"
             ],
             [
              0.5555555555555556,
              "#d8576b"
             ],
             [
              0.6666666666666666,
              "#ed7953"
             ],
             [
              0.7777777777777778,
              "#fb9f3a"
             ],
             [
              0.8888888888888888,
              "#fdca26"
             ],
             [
              1,
              "#f0f921"
             ]
            ],
            "type": "contour"
           }
          ],
          "contourcarpet": [
           {
            "colorbar": {
             "outlinewidth": 0,
             "ticks": ""
            },
            "type": "contourcarpet"
           }
          ],
          "heatmap": [
           {
            "colorbar": {
             "outlinewidth": 0,
             "ticks": ""
            },
            "colorscale": [
             [
              0,
              "#0d0887"
             ],
             [
              0.1111111111111111,
              "#46039f"
             ],
             [
              0.2222222222222222,
              "#7201a8"
             ],
             [
              0.3333333333333333,
              "#9c179e"
             ],
             [
              0.4444444444444444,
              "#bd3786"
             ],
             [
              0.5555555555555556,
              "#d8576b"
             ],
             [
              0.6666666666666666,
              "#ed7953"
             ],
             [
              0.7777777777777778,
              "#fb9f3a"
             ],
             [
              0.8888888888888888,
              "#fdca26"
             ],
             [
              1,
              "#f0f921"
             ]
            ],
            "type": "heatmap"
           }
          ],
          "heatmapgl": [
           {
            "colorbar": {
             "outlinewidth": 0,
             "ticks": ""
            },
            "colorscale": [
             [
              0,
              "#0d0887"
             ],
             [
              0.1111111111111111,
              "#46039f"
             ],
             [
              0.2222222222222222,
              "#7201a8"
             ],
             [
              0.3333333333333333,
              "#9c179e"
             ],
             [
              0.4444444444444444,
              "#bd3786"
             ],
             [
              0.5555555555555556,
              "#d8576b"
             ],
             [
              0.6666666666666666,
              "#ed7953"
             ],
             [
              0.7777777777777778,
              "#fb9f3a"
             ],
             [
              0.8888888888888888,
              "#fdca26"
             ],
             [
              1,
              "#f0f921"
             ]
            ],
            "type": "heatmapgl"
           }
          ],
          "histogram": [
           {
            "marker": {
             "colorbar": {
              "outlinewidth": 0,
              "ticks": ""
             }
            },
            "type": "histogram"
           }
          ],
          "histogram2d": [
           {
            "colorbar": {
             "outlinewidth": 0,
             "ticks": ""
            },
            "colorscale": [
             [
              0,
              "#0d0887"
             ],
             [
              0.1111111111111111,
              "#46039f"
             ],
             [
              0.2222222222222222,
              "#7201a8"
             ],
             [
              0.3333333333333333,
              "#9c179e"
             ],
             [
              0.4444444444444444,
              "#bd3786"
             ],
             [
              0.5555555555555556,
              "#d8576b"
             ],
             [
              0.6666666666666666,
              "#ed7953"
             ],
             [
              0.7777777777777778,
              "#fb9f3a"
             ],
             [
              0.8888888888888888,
              "#fdca26"
             ],
             [
              1,
              "#f0f921"
             ]
            ],
            "type": "histogram2d"
           }
          ],
          "histogram2dcontour": [
           {
            "colorbar": {
             "outlinewidth": 0,
             "ticks": ""
            },
            "colorscale": [
             [
              0,
              "#0d0887"
             ],
             [
              0.1111111111111111,
              "#46039f"
             ],
             [
              0.2222222222222222,
              "#7201a8"
             ],
             [
              0.3333333333333333,
              "#9c179e"
             ],
             [
              0.4444444444444444,
              "#bd3786"
             ],
             [
              0.5555555555555556,
              "#d8576b"
             ],
             [
              0.6666666666666666,
              "#ed7953"
             ],
             [
              0.7777777777777778,
              "#fb9f3a"
             ],
             [
              0.8888888888888888,
              "#fdca26"
             ],
             [
              1,
              "#f0f921"
             ]
            ],
            "type": "histogram2dcontour"
           }
          ],
          "mesh3d": [
           {
            "colorbar": {
             "outlinewidth": 0,
             "ticks": ""
            },
            "type": "mesh3d"
           }
          ],
          "parcoords": [
           {
            "line": {
             "colorbar": {
              "outlinewidth": 0,
              "ticks": ""
             }
            },
            "type": "parcoords"
           }
          ],
          "pie": [
           {
            "automargin": true,
            "type": "pie"
           }
          ],
          "scatter": [
           {
            "marker": {
             "colorbar": {
              "outlinewidth": 0,
              "ticks": ""
             }
            },
            "type": "scatter"
           }
          ],
          "scatter3d": [
           {
            "line": {
             "colorbar": {
              "outlinewidth": 0,
              "ticks": ""
             }
            },
            "marker": {
             "colorbar": {
              "outlinewidth": 0,
              "ticks": ""
             }
            },
            "type": "scatter3d"
           }
          ],
          "scattercarpet": [
           {
            "marker": {
             "colorbar": {
              "outlinewidth": 0,
              "ticks": ""
             }
            },
            "type": "scattercarpet"
           }
          ],
          "scattergeo": [
           {
            "marker": {
             "colorbar": {
              "outlinewidth": 0,
              "ticks": ""
             }
            },
            "type": "scattergeo"
           }
          ],
          "scattergl": [
           {
            "marker": {
             "colorbar": {
              "outlinewidth": 0,
              "ticks": ""
             }
            },
            "type": "scattergl"
           }
          ],
          "scattermapbox": [
           {
            "marker": {
             "colorbar": {
              "outlinewidth": 0,
              "ticks": ""
             }
            },
            "type": "scattermapbox"
           }
          ],
          "scatterpolar": [
           {
            "marker": {
             "colorbar": {
              "outlinewidth": 0,
              "ticks": ""
             }
            },
            "type": "scatterpolar"
           }
          ],
          "scatterpolargl": [
           {
            "marker": {
             "colorbar": {
              "outlinewidth": 0,
              "ticks": ""
             }
            },
            "type": "scatterpolargl"
           }
          ],
          "scatterternary": [
           {
            "marker": {
             "colorbar": {
              "outlinewidth": 0,
              "ticks": ""
             }
            },
            "type": "scatterternary"
           }
          ],
          "surface": [
           {
            "colorbar": {
             "outlinewidth": 0,
             "ticks": ""
            },
            "colorscale": [
             [
              0,
              "#0d0887"
             ],
             [
              0.1111111111111111,
              "#46039f"
             ],
             [
              0.2222222222222222,
              "#7201a8"
             ],
             [
              0.3333333333333333,
              "#9c179e"
             ],
             [
              0.4444444444444444,
              "#bd3786"
             ],
             [
              0.5555555555555556,
              "#d8576b"
             ],
             [
              0.6666666666666666,
              "#ed7953"
             ],
             [
              0.7777777777777778,
              "#fb9f3a"
             ],
             [
              0.8888888888888888,
              "#fdca26"
             ],
             [
              1,
              "#f0f921"
             ]
            ],
            "type": "surface"
           }
          ],
          "table": [
           {
            "cells": {
             "fill": {
              "color": "#EBF0F8"
             },
             "line": {
              "color": "white"
             }
            },
            "header": {
             "fill": {
              "color": "#C8D4E3"
             },
             "line": {
              "color": "white"
             }
            },
            "type": "table"
           }
          ]
         },
         "layout": {
          "annotationdefaults": {
           "arrowcolor": "#2a3f5f",
           "arrowhead": 0,
           "arrowwidth": 1
          },
          "coloraxis": {
           "colorbar": {
            "outlinewidth": 0,
            "ticks": ""
           }
          },
          "colorscale": {
           "diverging": [
            [
             0,
             "#8e0152"
            ],
            [
             0.1,
             "#c51b7d"
            ],
            [
             0.2,
             "#de77ae"
            ],
            [
             0.3,
             "#f1b6da"
            ],
            [
             0.4,
             "#fde0ef"
            ],
            [
             0.5,
             "#f7f7f7"
            ],
            [
             0.6,
             "#e6f5d0"
            ],
            [
             0.7,
             "#b8e186"
            ],
            [
             0.8,
             "#7fbc41"
            ],
            [
             0.9,
             "#4d9221"
            ],
            [
             1,
             "#276419"
            ]
           ],
           "sequential": [
            [
             0,
             "#0d0887"
            ],
            [
             0.1111111111111111,
             "#46039f"
            ],
            [
             0.2222222222222222,
             "#7201a8"
            ],
            [
             0.3333333333333333,
             "#9c179e"
            ],
            [
             0.4444444444444444,
             "#bd3786"
            ],
            [
             0.5555555555555556,
             "#d8576b"
            ],
            [
             0.6666666666666666,
             "#ed7953"
            ],
            [
             0.7777777777777778,
             "#fb9f3a"
            ],
            [
             0.8888888888888888,
             "#fdca26"
            ],
            [
             1,
             "#f0f921"
            ]
           ],
           "sequentialminus": [
            [
             0,
             "#0d0887"
            ],
            [
             0.1111111111111111,
             "#46039f"
            ],
            [
             0.2222222222222222,
             "#7201a8"
            ],
            [
             0.3333333333333333,
             "#9c179e"
            ],
            [
             0.4444444444444444,
             "#bd3786"
            ],
            [
             0.5555555555555556,
             "#d8576b"
            ],
            [
             0.6666666666666666,
             "#ed7953"
            ],
            [
             0.7777777777777778,
             "#fb9f3a"
            ],
            [
             0.8888888888888888,
             "#fdca26"
            ],
            [
             1,
             "#f0f921"
            ]
           ]
          },
          "colorway": [
           "#636efa",
           "#EF553B",
           "#00cc96",
           "#ab63fa",
           "#FFA15A",
           "#19d3f3",
           "#FF6692",
           "#B6E880",
           "#FF97FF",
           "#FECB52"
          ],
          "font": {
           "color": "#2a3f5f"
          },
          "geo": {
           "bgcolor": "white",
           "lakecolor": "white",
           "landcolor": "#E5ECF6",
           "showlakes": true,
           "showland": true,
           "subunitcolor": "white"
          },
          "hoverlabel": {
           "align": "left"
          },
          "hovermode": "closest",
          "mapbox": {
           "style": "light"
          },
          "paper_bgcolor": "white",
          "plot_bgcolor": "#E5ECF6",
          "polar": {
           "angularaxis": {
            "gridcolor": "white",
            "linecolor": "white",
            "ticks": ""
           },
           "bgcolor": "#E5ECF6",
           "radialaxis": {
            "gridcolor": "white",
            "linecolor": "white",
            "ticks": ""
           }
          },
          "scene": {
           "xaxis": {
            "backgroundcolor": "#E5ECF6",
            "gridcolor": "white",
            "gridwidth": 2,
            "linecolor": "white",
            "showbackground": true,
            "ticks": "",
            "zerolinecolor": "white"
           },
           "yaxis": {
            "backgroundcolor": "#E5ECF6",
            "gridcolor": "white",
            "gridwidth": 2,
            "linecolor": "white",
            "showbackground": true,
            "ticks": "",
            "zerolinecolor": "white"
           },
           "zaxis": {
            "backgroundcolor": "#E5ECF6",
            "gridcolor": "white",
            "gridwidth": 2,
            "linecolor": "white",
            "showbackground": true,
            "ticks": "",
            "zerolinecolor": "white"
           }
          },
          "shapedefaults": {
           "line": {
            "color": "#2a3f5f"
           }
          },
          "ternary": {
           "aaxis": {
            "gridcolor": "white",
            "linecolor": "white",
            "ticks": ""
           },
           "baxis": {
            "gridcolor": "white",
            "linecolor": "white",
            "ticks": ""
           },
           "bgcolor": "#E5ECF6",
           "caxis": {
            "gridcolor": "white",
            "linecolor": "white",
            "ticks": ""
           }
          },
          "title": {
           "x": 0.05
          },
          "xaxis": {
           "automargin": true,
           "gridcolor": "white",
           "linecolor": "white",
           "ticks": "",
           "title": {
            "standoff": 15
           },
           "zerolinecolor": "white",
           "zerolinewidth": 2
          },
          "yaxis": {
           "automargin": true,
           "gridcolor": "white",
           "linecolor": "white",
           "ticks": "",
           "title": {
            "standoff": 15
           },
           "zerolinecolor": "white",
           "zerolinewidth": 2
          }
         }
        },
        "xaxis": {
         "anchor": "y",
         "domain": [
          0,
          1
         ],
         "title": {
          "text": "index"
         }
        },
        "yaxis": {
         "anchor": "x",
         "domain": [
          0,
          1
         ],
         "title": {
          "text": "value"
         }
        }
       }
      }
     },
     "metadata": {}
    }
   ],
   "source": [
    "state_dfs_raw['Alabama']['Confirmed'].plot()"
   ]
  },
  {
   "cell_type": "code",
   "execution_count": 15,
   "metadata": {},
   "outputs": [
    {
     "output_type": "display_data",
     "data": {
      "application/vnd.plotly.v1+json": {
       "config": {
        "plotlyServerURL": "https://plot.ly"
       },
       "data": [
        {
         "hovertemplate": "variable=Confirmed<br>index=%{x}<br>value=%{y}<extra></extra>",
         "legendgroup": "Confirmed",
         "line": {
          "color": "#636efa",
          "dash": "solid"
         },
         "mode": "lines",
         "name": "Confirmed",
         "orientation": "v",
         "showlegend": true,
         "type": "scatter",
         "x": [
          "2020-08-18T00:00:00",
          "2020-08-19T00:00:00",
          "2020-08-20T00:00:00",
          "2020-08-21T00:00:00",
          "2020-08-22T00:00:00",
          "2020-08-23T00:00:00",
          "2020-08-24T00:00:00",
          "2020-08-25T00:00:00",
          "2020-08-26T00:00:00",
          "2020-08-27T00:00:00",
          "2020-08-28T00:00:00",
          "2020-08-29T00:00:00",
          "2020-08-30T00:00:00",
          "2020-08-31T00:00:00",
          "2020-09-01T00:00:00",
          "2020-09-02T00:00:00",
          "2020-09-03T00:00:00",
          "2020-09-04T00:00:00",
          "2020-09-05T00:00:00",
          "2020-09-06T00:00:00",
          "2020-09-07T00:00:00",
          "2020-09-08T00:00:00",
          "2020-09-09T00:00:00",
          "2020-09-10T00:00:00",
          "2020-09-11T00:00:00",
          "2020-09-12T00:00:00"
         ],
         "xaxis": "x",
         "y": [
          63017.14327061526,
          61843.24985158272,
          61616.292211187385,
          61547.3373334743,
          61513.50640800527,
          61489.41051998823,
          61468.462700198506,
          61446.29849199885,
          61442.16984571572,
          61441.2266042993,
          61440.931841356665,
          61440.78642497164,
          61440.69210082999,
          61440.63904350031,
          61440.6036719472,
          61440.59384651578,
          61440.59188142949,
          61440.59188142949,
          61440.59188142949,
          61440.59188142949,
          61440.59188142949,
          61440.59188142949,
          61440.59188142949,
          61440.59188142949,
          61440.59188142949,
          61440.59188142949
         ],
         "yaxis": "y"
        }
       ],
       "layout": {
        "legend": {
         "title": {
          "text": "variable"
         },
         "tracegroupgap": 0
        },
        "margin": {
         "t": 60
        },
        "template": {
         "data": {
          "bar": [
           {
            "error_x": {
             "color": "#2a3f5f"
            },
            "error_y": {
             "color": "#2a3f5f"
            },
            "marker": {
             "line": {
              "color": "#E5ECF6",
              "width": 0.5
             }
            },
            "type": "bar"
           }
          ],
          "barpolar": [
           {
            "marker": {
             "line": {
              "color": "#E5ECF6",
              "width": 0.5
             }
            },
            "type": "barpolar"
           }
          ],
          "carpet": [
           {
            "aaxis": {
             "endlinecolor": "#2a3f5f",
             "gridcolor": "white",
             "linecolor": "white",
             "minorgridcolor": "white",
             "startlinecolor": "#2a3f5f"
            },
            "baxis": {
             "endlinecolor": "#2a3f5f",
             "gridcolor": "white",
             "linecolor": "white",
             "minorgridcolor": "white",
             "startlinecolor": "#2a3f5f"
            },
            "type": "carpet"
           }
          ],
          "choropleth": [
           {
            "colorbar": {
             "outlinewidth": 0,
             "ticks": ""
            },
            "type": "choropleth"
           }
          ],
          "contour": [
           {
            "colorbar": {
             "outlinewidth": 0,
             "ticks": ""
            },
            "colorscale": [
             [
              0,
              "#0d0887"
             ],
             [
              0.1111111111111111,
              "#46039f"
             ],
             [
              0.2222222222222222,
              "#7201a8"
             ],
             [
              0.3333333333333333,
              "#9c179e"
             ],
             [
              0.4444444444444444,
              "#bd3786"
             ],
             [
              0.5555555555555556,
              "#d8576b"
             ],
             [
              0.6666666666666666,
              "#ed7953"
             ],
             [
              0.7777777777777778,
              "#fb9f3a"
             ],
             [
              0.8888888888888888,
              "#fdca26"
             ],
             [
              1,
              "#f0f921"
             ]
            ],
            "type": "contour"
           }
          ],
          "contourcarpet": [
           {
            "colorbar": {
             "outlinewidth": 0,
             "ticks": ""
            },
            "type": "contourcarpet"
           }
          ],
          "heatmap": [
           {
            "colorbar": {
             "outlinewidth": 0,
             "ticks": ""
            },
            "colorscale": [
             [
              0,
              "#0d0887"
             ],
             [
              0.1111111111111111,
              "#46039f"
             ],
             [
              0.2222222222222222,
              "#7201a8"
             ],
             [
              0.3333333333333333,
              "#9c179e"
             ],
             [
              0.4444444444444444,
              "#bd3786"
             ],
             [
              0.5555555555555556,
              "#d8576b"
             ],
             [
              0.6666666666666666,
              "#ed7953"
             ],
             [
              0.7777777777777778,
              "#fb9f3a"
             ],
             [
              0.8888888888888888,
              "#fdca26"
             ],
             [
              1,
              "#f0f921"
             ]
            ],
            "type": "heatmap"
           }
          ],
          "heatmapgl": [
           {
            "colorbar": {
             "outlinewidth": 0,
             "ticks": ""
            },
            "colorscale": [
             [
              0,
              "#0d0887"
             ],
             [
              0.1111111111111111,
              "#46039f"
             ],
             [
              0.2222222222222222,
              "#7201a8"
             ],
             [
              0.3333333333333333,
              "#9c179e"
             ],
             [
              0.4444444444444444,
              "#bd3786"
             ],
             [
              0.5555555555555556,
              "#d8576b"
             ],
             [
              0.6666666666666666,
              "#ed7953"
             ],
             [
              0.7777777777777778,
              "#fb9f3a"
             ],
             [
              0.8888888888888888,
              "#fdca26"
             ],
             [
              1,
              "#f0f921"
             ]
            ],
            "type": "heatmapgl"
           }
          ],
          "histogram": [
           {
            "marker": {
             "colorbar": {
              "outlinewidth": 0,
              "ticks": ""
             }
            },
            "type": "histogram"
           }
          ],
          "histogram2d": [
           {
            "colorbar": {
             "outlinewidth": 0,
             "ticks": ""
            },
            "colorscale": [
             [
              0,
              "#0d0887"
             ],
             [
              0.1111111111111111,
              "#46039f"
             ],
             [
              0.2222222222222222,
              "#7201a8"
             ],
             [
              0.3333333333333333,
              "#9c179e"
             ],
             [
              0.4444444444444444,
              "#bd3786"
             ],
             [
              0.5555555555555556,
              "#d8576b"
             ],
             [
              0.6666666666666666,
              "#ed7953"
             ],
             [
              0.7777777777777778,
              "#fb9f3a"
             ],
             [
              0.8888888888888888,
              "#fdca26"
             ],
             [
              1,
              "#f0f921"
             ]
            ],
            "type": "histogram2d"
           }
          ],
          "histogram2dcontour": [
           {
            "colorbar": {
             "outlinewidth": 0,
             "ticks": ""
            },
            "colorscale": [
             [
              0,
              "#0d0887"
             ],
             [
              0.1111111111111111,
              "#46039f"
             ],
             [
              0.2222222222222222,
              "#7201a8"
             ],
             [
              0.3333333333333333,
              "#9c179e"
             ],
             [
              0.4444444444444444,
              "#bd3786"
             ],
             [
              0.5555555555555556,
              "#d8576b"
             ],
             [
              0.6666666666666666,
              "#ed7953"
             ],
             [
              0.7777777777777778,
              "#fb9f3a"
             ],
             [
              0.8888888888888888,
              "#fdca26"
             ],
             [
              1,
              "#f0f921"
             ]
            ],
            "type": "histogram2dcontour"
           }
          ],
          "mesh3d": [
           {
            "colorbar": {
             "outlinewidth": 0,
             "ticks": ""
            },
            "type": "mesh3d"
           }
          ],
          "parcoords": [
           {
            "line": {
             "colorbar": {
              "outlinewidth": 0,
              "ticks": ""
             }
            },
            "type": "parcoords"
           }
          ],
          "pie": [
           {
            "automargin": true,
            "type": "pie"
           }
          ],
          "scatter": [
           {
            "marker": {
             "colorbar": {
              "outlinewidth": 0,
              "ticks": ""
             }
            },
            "type": "scatter"
           }
          ],
          "scatter3d": [
           {
            "line": {
             "colorbar": {
              "outlinewidth": 0,
              "ticks": ""
             }
            },
            "marker": {
             "colorbar": {
              "outlinewidth": 0,
              "ticks": ""
             }
            },
            "type": "scatter3d"
           }
          ],
          "scattercarpet": [
           {
            "marker": {
             "colorbar": {
              "outlinewidth": 0,
              "ticks": ""
             }
            },
            "type": "scattercarpet"
           }
          ],
          "scattergeo": [
           {
            "marker": {
             "colorbar": {
              "outlinewidth": 0,
              "ticks": ""
             }
            },
            "type": "scattergeo"
           }
          ],
          "scattergl": [
           {
            "marker": {
             "colorbar": {
              "outlinewidth": 0,
              "ticks": ""
             }
            },
            "type": "scattergl"
           }
          ],
          "scattermapbox": [
           {
            "marker": {
             "colorbar": {
              "outlinewidth": 0,
              "ticks": ""
             }
            },
            "type": "scattermapbox"
           }
          ],
          "scatterpolar": [
           {
            "marker": {
             "colorbar": {
              "outlinewidth": 0,
              "ticks": ""
             }
            },
            "type": "scatterpolar"
           }
          ],
          "scatterpolargl": [
           {
            "marker": {
             "colorbar": {
              "outlinewidth": 0,
              "ticks": ""
             }
            },
            "type": "scatterpolargl"
           }
          ],
          "scatterternary": [
           {
            "marker": {
             "colorbar": {
              "outlinewidth": 0,
              "ticks": ""
             }
            },
            "type": "scatterternary"
           }
          ],
          "surface": [
           {
            "colorbar": {
             "outlinewidth": 0,
             "ticks": ""
            },
            "colorscale": [
             [
              0,
              "#0d0887"
             ],
             [
              0.1111111111111111,
              "#46039f"
             ],
             [
              0.2222222222222222,
              "#7201a8"
             ],
             [
              0.3333333333333333,
              "#9c179e"
             ],
             [
              0.4444444444444444,
              "#bd3786"
             ],
             [
              0.5555555555555556,
              "#d8576b"
             ],
             [
              0.6666666666666666,
              "#ed7953"
             ],
             [
              0.7777777777777778,
              "#fb9f3a"
             ],
             [
              0.8888888888888888,
              "#fdca26"
             ],
             [
              1,
              "#f0f921"
             ]
            ],
            "type": "surface"
           }
          ],
          "table": [
           {
            "cells": {
             "fill": {
              "color": "#EBF0F8"
             },
             "line": {
              "color": "white"
             }
            },
            "header": {
             "fill": {
              "color": "#C8D4E3"
             },
             "line": {
              "color": "white"
             }
            },
            "type": "table"
           }
          ]
         },
         "layout": {
          "annotationdefaults": {
           "arrowcolor": "#2a3f5f",
           "arrowhead": 0,
           "arrowwidth": 1
          },
          "coloraxis": {
           "colorbar": {
            "outlinewidth": 0,
            "ticks": ""
           }
          },
          "colorscale": {
           "diverging": [
            [
             0,
             "#8e0152"
            ],
            [
             0.1,
             "#c51b7d"
            ],
            [
             0.2,
             "#de77ae"
            ],
            [
             0.3,
             "#f1b6da"
            ],
            [
             0.4,
             "#fde0ef"
            ],
            [
             0.5,
             "#f7f7f7"
            ],
            [
             0.6,
             "#e6f5d0"
            ],
            [
             0.7,
             "#b8e186"
            ],
            [
             0.8,
             "#7fbc41"
            ],
            [
             0.9,
             "#4d9221"
            ],
            [
             1,
             "#276419"
            ]
           ],
           "sequential": [
            [
             0,
             "#0d0887"
            ],
            [
             0.1111111111111111,
             "#46039f"
            ],
            [
             0.2222222222222222,
             "#7201a8"
            ],
            [
             0.3333333333333333,
             "#9c179e"
            ],
            [
             0.4444444444444444,
             "#bd3786"
            ],
            [
             0.5555555555555556,
             "#d8576b"
            ],
            [
             0.6666666666666666,
             "#ed7953"
            ],
            [
             0.7777777777777778,
             "#fb9f3a"
            ],
            [
             0.8888888888888888,
             "#fdca26"
            ],
            [
             1,
             "#f0f921"
            ]
           ],
           "sequentialminus": [
            [
             0,
             "#0d0887"
            ],
            [
             0.1111111111111111,
             "#46039f"
            ],
            [
             0.2222222222222222,
             "#7201a8"
            ],
            [
             0.3333333333333333,
             "#9c179e"
            ],
            [
             0.4444444444444444,
             "#bd3786"
            ],
            [
             0.5555555555555556,
             "#d8576b"
            ],
            [
             0.6666666666666666,
             "#ed7953"
            ],
            [
             0.7777777777777778,
             "#fb9f3a"
            ],
            [
             0.8888888888888888,
             "#fdca26"
            ],
            [
             1,
             "#f0f921"
            ]
           ]
          },
          "colorway": [
           "#636efa",
           "#EF553B",
           "#00cc96",
           "#ab63fa",
           "#FFA15A",
           "#19d3f3",
           "#FF6692",
           "#B6E880",
           "#FF97FF",
           "#FECB52"
          ],
          "font": {
           "color": "#2a3f5f"
          },
          "geo": {
           "bgcolor": "white",
           "lakecolor": "white",
           "landcolor": "#E5ECF6",
           "showlakes": true,
           "showland": true,
           "subunitcolor": "white"
          },
          "hoverlabel": {
           "align": "left"
          },
          "hovermode": "closest",
          "mapbox": {
           "style": "light"
          },
          "paper_bgcolor": "white",
          "plot_bgcolor": "#E5ECF6",
          "polar": {
           "angularaxis": {
            "gridcolor": "white",
            "linecolor": "white",
            "ticks": ""
           },
           "bgcolor": "#E5ECF6",
           "radialaxis": {
            "gridcolor": "white",
            "linecolor": "white",
            "ticks": ""
           }
          },
          "scene": {
           "xaxis": {
            "backgroundcolor": "#E5ECF6",
            "gridcolor": "white",
            "gridwidth": 2,
            "linecolor": "white",
            "showbackground": true,
            "ticks": "",
            "zerolinecolor": "white"
           },
           "yaxis": {
            "backgroundcolor": "#E5ECF6",
            "gridcolor": "white",
            "gridwidth": 2,
            "linecolor": "white",
            "showbackground": true,
            "ticks": "",
            "zerolinecolor": "white"
           },
           "zaxis": {
            "backgroundcolor": "#E5ECF6",
            "gridcolor": "white",
            "gridwidth": 2,
            "linecolor": "white",
            "showbackground": true,
            "ticks": "",
            "zerolinecolor": "white"
           }
          },
          "shapedefaults": {
           "line": {
            "color": "#2a3f5f"
           }
          },
          "ternary": {
           "aaxis": {
            "gridcolor": "white",
            "linecolor": "white",
            "ticks": ""
           },
           "baxis": {
            "gridcolor": "white",
            "linecolor": "white",
            "ticks": ""
           },
           "bgcolor": "#E5ECF6",
           "caxis": {
            "gridcolor": "white",
            "linecolor": "white",
            "ticks": ""
           }
          },
          "title": {
           "x": 0.05
          },
          "xaxis": {
           "automargin": true,
           "gridcolor": "white",
           "linecolor": "white",
           "ticks": "",
           "title": {
            "standoff": 15
           },
           "zerolinecolor": "white",
           "zerolinewidth": 2
          },
          "yaxis": {
           "automargin": true,
           "gridcolor": "white",
           "linecolor": "white",
           "ticks": "",
           "title": {
            "standoff": 15
           },
           "zerolinecolor": "white",
           "zerolinewidth": 2
          }
         }
        },
        "xaxis": {
         "anchor": "y",
         "domain": [
          0,
          1
         ],
         "title": {
          "text": "index"
         }
        },
        "yaxis": {
         "anchor": "x",
         "domain": [
          0,
          1
         ],
         "title": {
          "text": "value"
         }
        }
       }
      }
     },
     "metadata": {}
    }
   ],
   "source": [
    "cleaned_dfs['Alabama']['Confirmed'].plot()"
   ]
  },
  {
   "cell_type": "code",
   "execution_count": 16,
   "metadata": {},
   "outputs": [
    {
     "output_type": "display_data",
     "data": {
      "application/vnd.plotly.v1+json": {
       "config": {
        "plotlyServerURL": "https://plot.ly"
       },
       "data": [
        {
         "hovertemplate": "variable=Deaths<br>index=%{x}<br>value=%{y}<extra></extra>",
         "legendgroup": "Deaths",
         "line": {
          "color": "#636efa",
          "dash": "solid"
         },
         "mode": "lines",
         "name": "Deaths",
         "orientation": "v",
         "showlegend": true,
         "type": "scatter",
         "x": [
          "2020-08-18T00:00:00",
          "2020-08-19T00:00:00",
          "2020-08-20T00:00:00",
          "2020-08-21T00:00:00",
          "2020-08-22T00:00:00",
          "2020-08-23T00:00:00",
          "2020-08-24T00:00:00",
          "2020-08-25T00:00:00",
          "2020-08-26T00:00:00",
          "2020-08-27T00:00:00",
          "2020-08-28T00:00:00",
          "2020-08-29T00:00:00",
          "2020-08-30T00:00:00",
          "2020-08-31T00:00:00",
          "2020-09-01T00:00:00",
          "2020-09-02T00:00:00",
          "2020-09-03T00:00:00",
          "2020-09-04T00:00:00",
          "2020-09-05T00:00:00",
          "2020-09-06T00:00:00",
          "2020-09-07T00:00:00",
          "2020-09-08T00:00:00",
          "2020-09-09T00:00:00",
          "2020-09-10T00:00:00",
          "2020-09-11T00:00:00",
          "2020-09-12T00:00:00"
         ],
         "xaxis": "x",
         "y": [
          0.723176121711731,
          0.7019505500793457,
          0.6986480951309204,
          0.6980280876159668,
          0.6977270245552063,
          0.697441577911377,
          0.6971468925476074,
          0.6968161463737488,
          0.6967381238937378,
          0.696723461151123,
          0.6967202425003052,
          0.6967188119888306,
          0.6967177391052246,
          0.6967169642448425,
          0.6967165470123291,
          0.69671630859375,
          0.69671630859375,
          0.69671630859375,
          0.69671630859375,
          0.69671630859375,
          0.69671630859375,
          0.69671630859375,
          0.69671630859375,
          0.69671630859375,
          0.69671630859375,
          0.69671630859375
         ],
         "yaxis": "y"
        }
       ],
       "layout": {
        "legend": {
         "title": {
          "text": "variable"
         },
         "tracegroupgap": 0
        },
        "margin": {
         "t": 60
        },
        "template": {
         "data": {
          "bar": [
           {
            "error_x": {
             "color": "#2a3f5f"
            },
            "error_y": {
             "color": "#2a3f5f"
            },
            "marker": {
             "line": {
              "color": "#E5ECF6",
              "width": 0.5
             }
            },
            "type": "bar"
           }
          ],
          "barpolar": [
           {
            "marker": {
             "line": {
              "color": "#E5ECF6",
              "width": 0.5
             }
            },
            "type": "barpolar"
           }
          ],
          "carpet": [
           {
            "aaxis": {
             "endlinecolor": "#2a3f5f",
             "gridcolor": "white",
             "linecolor": "white",
             "minorgridcolor": "white",
             "startlinecolor": "#2a3f5f"
            },
            "baxis": {
             "endlinecolor": "#2a3f5f",
             "gridcolor": "white",
             "linecolor": "white",
             "minorgridcolor": "white",
             "startlinecolor": "#2a3f5f"
            },
            "type": "carpet"
           }
          ],
          "choropleth": [
           {
            "colorbar": {
             "outlinewidth": 0,
             "ticks": ""
            },
            "type": "choropleth"
           }
          ],
          "contour": [
           {
            "colorbar": {
             "outlinewidth": 0,
             "ticks": ""
            },
            "colorscale": [
             [
              0,
              "#0d0887"
             ],
             [
              0.1111111111111111,
              "#46039f"
             ],
             [
              0.2222222222222222,
              "#7201a8"
             ],
             [
              0.3333333333333333,
              "#9c179e"
             ],
             [
              0.4444444444444444,
              "#bd3786"
             ],
             [
              0.5555555555555556,
              "#d8576b"
             ],
             [
              0.6666666666666666,
              "#ed7953"
             ],
             [
              0.7777777777777778,
              "#fb9f3a"
             ],
             [
              0.8888888888888888,
              "#fdca26"
             ],
             [
              1,
              "#f0f921"
             ]
            ],
            "type": "contour"
           }
          ],
          "contourcarpet": [
           {
            "colorbar": {
             "outlinewidth": 0,
             "ticks": ""
            },
            "type": "contourcarpet"
           }
          ],
          "heatmap": [
           {
            "colorbar": {
             "outlinewidth": 0,
             "ticks": ""
            },
            "colorscale": [
             [
              0,
              "#0d0887"
             ],
             [
              0.1111111111111111,
              "#46039f"
             ],
             [
              0.2222222222222222,
              "#7201a8"
             ],
             [
              0.3333333333333333,
              "#9c179e"
             ],
             [
              0.4444444444444444,
              "#bd3786"
             ],
             [
              0.5555555555555556,
              "#d8576b"
             ],
             [
              0.6666666666666666,
              "#ed7953"
             ],
             [
              0.7777777777777778,
              "#fb9f3a"
             ],
             [
              0.8888888888888888,
              "#fdca26"
             ],
             [
              1,
              "#f0f921"
             ]
            ],
            "type": "heatmap"
           }
          ],
          "heatmapgl": [
           {
            "colorbar": {
             "outlinewidth": 0,
             "ticks": ""
            },
            "colorscale": [
             [
              0,
              "#0d0887"
             ],
             [
              0.1111111111111111,
              "#46039f"
             ],
             [
              0.2222222222222222,
              "#7201a8"
             ],
             [
              0.3333333333333333,
              "#9c179e"
             ],
             [
              0.4444444444444444,
              "#bd3786"
             ],
             [
              0.5555555555555556,
              "#d8576b"
             ],
             [
              0.6666666666666666,
              "#ed7953"
             ],
             [
              0.7777777777777778,
              "#fb9f3a"
             ],
             [
              0.8888888888888888,
              "#fdca26"
             ],
             [
              1,
              "#f0f921"
             ]
            ],
            "type": "heatmapgl"
           }
          ],
          "histogram": [
           {
            "marker": {
             "colorbar": {
              "outlinewidth": 0,
              "ticks": ""
             }
            },
            "type": "histogram"
           }
          ],
          "histogram2d": [
           {
            "colorbar": {
             "outlinewidth": 0,
             "ticks": ""
            },
            "colorscale": [
             [
              0,
              "#0d0887"
             ],
             [
              0.1111111111111111,
              "#46039f"
             ],
             [
              0.2222222222222222,
              "#7201a8"
             ],
             [
              0.3333333333333333,
              "#9c179e"
             ],
             [
              0.4444444444444444,
              "#bd3786"
             ],
             [
              0.5555555555555556,
              "#d8576b"
             ],
             [
              0.6666666666666666,
              "#ed7953"
             ],
             [
              0.7777777777777778,
              "#fb9f3a"
             ],
             [
              0.8888888888888888,
              "#fdca26"
             ],
             [
              1,
              "#f0f921"
             ]
            ],
            "type": "histogram2d"
           }
          ],
          "histogram2dcontour": [
           {
            "colorbar": {
             "outlinewidth": 0,
             "ticks": ""
            },
            "colorscale": [
             [
              0,
              "#0d0887"
             ],
             [
              0.1111111111111111,
              "#46039f"
             ],
             [
              0.2222222222222222,
              "#7201a8"
             ],
             [
              0.3333333333333333,
              "#9c179e"
             ],
             [
              0.4444444444444444,
              "#bd3786"
             ],
             [
              0.5555555555555556,
              "#d8576b"
             ],
             [
              0.6666666666666666,
              "#ed7953"
             ],
             [
              0.7777777777777778,
              "#fb9f3a"
             ],
             [
              0.8888888888888888,
              "#fdca26"
             ],
             [
              1,
              "#f0f921"
             ]
            ],
            "type": "histogram2dcontour"
           }
          ],
          "mesh3d": [
           {
            "colorbar": {
             "outlinewidth": 0,
             "ticks": ""
            },
            "type": "mesh3d"
           }
          ],
          "parcoords": [
           {
            "line": {
             "colorbar": {
              "outlinewidth": 0,
              "ticks": ""
             }
            },
            "type": "parcoords"
           }
          ],
          "pie": [
           {
            "automargin": true,
            "type": "pie"
           }
          ],
          "scatter": [
           {
            "marker": {
             "colorbar": {
              "outlinewidth": 0,
              "ticks": ""
             }
            },
            "type": "scatter"
           }
          ],
          "scatter3d": [
           {
            "line": {
             "colorbar": {
              "outlinewidth": 0,
              "ticks": ""
             }
            },
            "marker": {
             "colorbar": {
              "outlinewidth": 0,
              "ticks": ""
             }
            },
            "type": "scatter3d"
           }
          ],
          "scattercarpet": [
           {
            "marker": {
             "colorbar": {
              "outlinewidth": 0,
              "ticks": ""
             }
            },
            "type": "scattercarpet"
           }
          ],
          "scattergeo": [
           {
            "marker": {
             "colorbar": {
              "outlinewidth": 0,
              "ticks": ""
             }
            },
            "type": "scattergeo"
           }
          ],
          "scattergl": [
           {
            "marker": {
             "colorbar": {
              "outlinewidth": 0,
              "ticks": ""
             }
            },
            "type": "scattergl"
           }
          ],
          "scattermapbox": [
           {
            "marker": {
             "colorbar": {
              "outlinewidth": 0,
              "ticks": ""
             }
            },
            "type": "scattermapbox"
           }
          ],
          "scatterpolar": [
           {
            "marker": {
             "colorbar": {
              "outlinewidth": 0,
              "ticks": ""
             }
            },
            "type": "scatterpolar"
           }
          ],
          "scatterpolargl": [
           {
            "marker": {
             "colorbar": {
              "outlinewidth": 0,
              "ticks": ""
             }
            },
            "type": "scatterpolargl"
           }
          ],
          "scatterternary": [
           {
            "marker": {
             "colorbar": {
              "outlinewidth": 0,
              "ticks": ""
             }
            },
            "type": "scatterternary"
           }
          ],
          "surface": [
           {
            "colorbar": {
             "outlinewidth": 0,
             "ticks": ""
            },
            "colorscale": [
             [
              0,
              "#0d0887"
             ],
             [
              0.1111111111111111,
              "#46039f"
             ],
             [
              0.2222222222222222,
              "#7201a8"
             ],
             [
              0.3333333333333333,
              "#9c179e"
             ],
             [
              0.4444444444444444,
              "#bd3786"
             ],
             [
              0.5555555555555556,
              "#d8576b"
             ],
             [
              0.6666666666666666,
              "#ed7953"
             ],
             [
              0.7777777777777778,
              "#fb9f3a"
             ],
             [
              0.8888888888888888,
              "#fdca26"
             ],
             [
              1,
              "#f0f921"
             ]
            ],
            "type": "surface"
           }
          ],
          "table": [
           {
            "cells": {
             "fill": {
              "color": "#EBF0F8"
             },
             "line": {
              "color": "white"
             }
            },
            "header": {
             "fill": {
              "color": "#C8D4E3"
             },
             "line": {
              "color": "white"
             }
            },
            "type": "table"
           }
          ]
         },
         "layout": {
          "annotationdefaults": {
           "arrowcolor": "#2a3f5f",
           "arrowhead": 0,
           "arrowwidth": 1
          },
          "coloraxis": {
           "colorbar": {
            "outlinewidth": 0,
            "ticks": ""
           }
          },
          "colorscale": {
           "diverging": [
            [
             0,
             "#8e0152"
            ],
            [
             0.1,
             "#c51b7d"
            ],
            [
             0.2,
             "#de77ae"
            ],
            [
             0.3,
             "#f1b6da"
            ],
            [
             0.4,
             "#fde0ef"
            ],
            [
             0.5,
             "#f7f7f7"
            ],
            [
             0.6,
             "#e6f5d0"
            ],
            [
             0.7,
             "#b8e186"
            ],
            [
             0.8,
             "#7fbc41"
            ],
            [
             0.9,
             "#4d9221"
            ],
            [
             1,
             "#276419"
            ]
           ],
           "sequential": [
            [
             0,
             "#0d0887"
            ],
            [
             0.1111111111111111,
             "#46039f"
            ],
            [
             0.2222222222222222,
             "#7201a8"
            ],
            [
             0.3333333333333333,
             "#9c179e"
            ],
            [
             0.4444444444444444,
             "#bd3786"
            ],
            [
             0.5555555555555556,
             "#d8576b"
            ],
            [
             0.6666666666666666,
             "#ed7953"
            ],
            [
             0.7777777777777778,
             "#fb9f3a"
            ],
            [
             0.8888888888888888,
             "#fdca26"
            ],
            [
             1,
             "#f0f921"
            ]
           ],
           "sequentialminus": [
            [
             0,
             "#0d0887"
            ],
            [
             0.1111111111111111,
             "#46039f"
            ],
            [
             0.2222222222222222,
             "#7201a8"
            ],
            [
             0.3333333333333333,
             "#9c179e"
            ],
            [
             0.4444444444444444,
             "#bd3786"
            ],
            [
             0.5555555555555556,
             "#d8576b"
            ],
            [
             0.6666666666666666,
             "#ed7953"
            ],
            [
             0.7777777777777778,
             "#fb9f3a"
            ],
            [
             0.8888888888888888,
             "#fdca26"
            ],
            [
             1,
             "#f0f921"
            ]
           ]
          },
          "colorway": [
           "#636efa",
           "#EF553B",
           "#00cc96",
           "#ab63fa",
           "#FFA15A",
           "#19d3f3",
           "#FF6692",
           "#B6E880",
           "#FF97FF",
           "#FECB52"
          ],
          "font": {
           "color": "#2a3f5f"
          },
          "geo": {
           "bgcolor": "white",
           "lakecolor": "white",
           "landcolor": "#E5ECF6",
           "showlakes": true,
           "showland": true,
           "subunitcolor": "white"
          },
          "hoverlabel": {
           "align": "left"
          },
          "hovermode": "closest",
          "mapbox": {
           "style": "light"
          },
          "paper_bgcolor": "white",
          "plot_bgcolor": "#E5ECF6",
          "polar": {
           "angularaxis": {
            "gridcolor": "white",
            "linecolor": "white",
            "ticks": ""
           },
           "bgcolor": "#E5ECF6",
           "radialaxis": {
            "gridcolor": "white",
            "linecolor": "white",
            "ticks": ""
           }
          },
          "scene": {
           "xaxis": {
            "backgroundcolor": "#E5ECF6",
            "gridcolor": "white",
            "gridwidth": 2,
            "linecolor": "white",
            "showbackground": true,
            "ticks": "",
            "zerolinecolor": "white"
           },
           "yaxis": {
            "backgroundcolor": "#E5ECF6",
            "gridcolor": "white",
            "gridwidth": 2,
            "linecolor": "white",
            "showbackground": true,
            "ticks": "",
            "zerolinecolor": "white"
           },
           "zaxis": {
            "backgroundcolor": "#E5ECF6",
            "gridcolor": "white",
            "gridwidth": 2,
            "linecolor": "white",
            "showbackground": true,
            "ticks": "",
            "zerolinecolor": "white"
           }
          },
          "shapedefaults": {
           "line": {
            "color": "#2a3f5f"
           }
          },
          "ternary": {
           "aaxis": {
            "gridcolor": "white",
            "linecolor": "white",
            "ticks": ""
           },
           "baxis": {
            "gridcolor": "white",
            "linecolor": "white",
            "ticks": ""
           },
           "bgcolor": "#E5ECF6",
           "caxis": {
            "gridcolor": "white",
            "linecolor": "white",
            "ticks": ""
           }
          },
          "title": {
           "x": 0.05
          },
          "xaxis": {
           "automargin": true,
           "gridcolor": "white",
           "linecolor": "white",
           "ticks": "",
           "title": {
            "standoff": 15
           },
           "zerolinecolor": "white",
           "zerolinewidth": 2
          },
          "yaxis": {
           "automargin": true,
           "gridcolor": "white",
           "linecolor": "white",
           "ticks": "",
           "title": {
            "standoff": 15
           },
           "zerolinecolor": "white",
           "zerolinewidth": 2
          }
         }
        },
        "xaxis": {
         "anchor": "y",
         "domain": [
          0,
          1
         ],
         "title": {
          "text": "index"
         }
        },
        "yaxis": {
         "anchor": "x",
         "domain": [
          0,
          1
         ],
         "title": {
          "text": "value"
         }
        }
       }
      }
     },
     "metadata": {}
    }
   ],
   "source": [
    "state_forecasts['Alabama']['Deaths'].plot()"
   ]
  },
  {
   "cell_type": "code",
   "execution_count": 17,
   "metadata": {},
   "outputs": [
    {
     "output_type": "execute_result",
     "data": {
      "text/plain": [
       "0         3563\n",
       "50        3734\n",
       "100       3953\n",
       "150       4075\n",
       "200       4345\n",
       "         ...  \n",
       "6850    121023\n",
       "6900    122185\n",
       "6950    123889\n",
       "7000    125235\n",
       "7050    126058\n",
       "Name: Confirmed, Length: 142, dtype: int64"
      ]
     },
     "metadata": {},
     "execution_count": 17
    }
   ],
   "source": [
    "state_dfs_raw['Alabama']['Confirmed']"
   ]
  },
  {
   "cell_type": "code",
   "execution_count": null,
   "metadata": {},
   "outputs": [],
   "source": []
  },
  {
   "cell_type": "code",
   "execution_count": 18,
   "metadata": {},
   "outputs": [
    {
     "output_type": "display_data",
     "data": {
      "application/vnd.plotly.v1+json": {
       "config": {
        "plotlyServerURL": "https://plot.ly"
       },
       "data": [
        {
         "hovertemplate": "variable=Confirmed<br>index=%{x}<br>value=%{y}<extra></extra>",
         "legendgroup": "Confirmed",
         "line": {
          "color": "#636efa",
          "dash": "solid"
         },
         "mode": "lines",
         "name": "Confirmed",
         "orientation": "v",
         "showlegend": true,
         "type": "scatter",
         "x": [
          "2020-08-18T00:00:00",
          "2020-08-19T00:00:00",
          "2020-08-20T00:00:00",
          "2020-08-21T00:00:00",
          "2020-08-22T00:00:00",
          "2020-08-23T00:00:00",
          "2020-08-24T00:00:00",
          "2020-08-25T00:00:00",
          "2020-08-26T00:00:00",
          "2020-08-27T00:00:00",
          "2020-08-28T00:00:00",
          "2020-08-29T00:00:00",
          "2020-08-30T00:00:00",
          "2020-08-31T00:00:00",
          "2020-09-01T00:00:00",
          "2020-09-02T00:00:00",
          "2020-09-03T00:00:00",
          "2020-09-04T00:00:00",
          "2020-09-05T00:00:00",
          "2020-09-06T00:00:00",
          "2020-09-07T00:00:00",
          "2020-09-08T00:00:00",
          "2020-09-09T00:00:00",
          "2020-09-10T00:00:00",
          "2020-09-11T00:00:00",
          "2020-09-12T00:00:00"
         ],
         "xaxis": "x",
         "y": [
          63017.14327061526,
          61843.24985158272,
          61616.292211187385,
          61547.3373334743,
          61513.50640800527,
          61489.41051998823,
          61468.462700198506,
          61446.29849199885,
          61442.16984571572,
          61441.2266042993,
          61440.931841356665,
          61440.78642497164,
          61440.69210082999,
          61440.63904350031,
          61440.6036719472,
          61440.59384651578,
          61440.59188142949,
          61440.59188142949,
          61440.59188142949,
          61440.59188142949,
          61440.59188142949,
          61440.59188142949,
          61440.59188142949,
          61440.59188142949,
          61440.59188142949,
          61440.59188142949
         ],
         "yaxis": "y"
        }
       ],
       "layout": {
        "legend": {
         "title": {
          "text": "variable"
         },
         "tracegroupgap": 0
        },
        "margin": {
         "t": 60
        },
        "template": {
         "data": {
          "bar": [
           {
            "error_x": {
             "color": "#2a3f5f"
            },
            "error_y": {
             "color": "#2a3f5f"
            },
            "marker": {
             "line": {
              "color": "#E5ECF6",
              "width": 0.5
             }
            },
            "type": "bar"
           }
          ],
          "barpolar": [
           {
            "marker": {
             "line": {
              "color": "#E5ECF6",
              "width": 0.5
             }
            },
            "type": "barpolar"
           }
          ],
          "carpet": [
           {
            "aaxis": {
             "endlinecolor": "#2a3f5f",
             "gridcolor": "white",
             "linecolor": "white",
             "minorgridcolor": "white",
             "startlinecolor": "#2a3f5f"
            },
            "baxis": {
             "endlinecolor": "#2a3f5f",
             "gridcolor": "white",
             "linecolor": "white",
             "minorgridcolor": "white",
             "startlinecolor": "#2a3f5f"
            },
            "type": "carpet"
           }
          ],
          "choropleth": [
           {
            "colorbar": {
             "outlinewidth": 0,
             "ticks": ""
            },
            "type": "choropleth"
           }
          ],
          "contour": [
           {
            "colorbar": {
             "outlinewidth": 0,
             "ticks": ""
            },
            "colorscale": [
             [
              0,
              "#0d0887"
             ],
             [
              0.1111111111111111,
              "#46039f"
             ],
             [
              0.2222222222222222,
              "#7201a8"
             ],
             [
              0.3333333333333333,
              "#9c179e"
             ],
             [
              0.4444444444444444,
              "#bd3786"
             ],
             [
              0.5555555555555556,
              "#d8576b"
             ],
             [
              0.6666666666666666,
              "#ed7953"
             ],
             [
              0.7777777777777778,
              "#fb9f3a"
             ],
             [
              0.8888888888888888,
              "#fdca26"
             ],
             [
              1,
              "#f0f921"
             ]
            ],
            "type": "contour"
           }
          ],
          "contourcarpet": [
           {
            "colorbar": {
             "outlinewidth": 0,
             "ticks": ""
            },
            "type": "contourcarpet"
           }
          ],
          "heatmap": [
           {
            "colorbar": {
             "outlinewidth": 0,
             "ticks": ""
            },
            "colorscale": [
             [
              0,
              "#0d0887"
             ],
             [
              0.1111111111111111,
              "#46039f"
             ],
             [
              0.2222222222222222,
              "#7201a8"
             ],
             [
              0.3333333333333333,
              "#9c179e"
             ],
             [
              0.4444444444444444,
              "#bd3786"
             ],
             [
              0.5555555555555556,
              "#d8576b"
             ],
             [
              0.6666666666666666,
              "#ed7953"
             ],
             [
              0.7777777777777778,
              "#fb9f3a"
             ],
             [
              0.8888888888888888,
              "#fdca26"
             ],
             [
              1,
              "#f0f921"
             ]
            ],
            "type": "heatmap"
           }
          ],
          "heatmapgl": [
           {
            "colorbar": {
             "outlinewidth": 0,
             "ticks": ""
            },
            "colorscale": [
             [
              0,
              "#0d0887"
             ],
             [
              0.1111111111111111,
              "#46039f"
             ],
             [
              0.2222222222222222,
              "#7201a8"
             ],
             [
              0.3333333333333333,
              "#9c179e"
             ],
             [
              0.4444444444444444,
              "#bd3786"
             ],
             [
              0.5555555555555556,
              "#d8576b"
             ],
             [
              0.6666666666666666,
              "#ed7953"
             ],
             [
              0.7777777777777778,
              "#fb9f3a"
             ],
             [
              0.8888888888888888,
              "#fdca26"
             ],
             [
              1,
              "#f0f921"
             ]
            ],
            "type": "heatmapgl"
           }
          ],
          "histogram": [
           {
            "marker": {
             "colorbar": {
              "outlinewidth": 0,
              "ticks": ""
             }
            },
            "type": "histogram"
           }
          ],
          "histogram2d": [
           {
            "colorbar": {
             "outlinewidth": 0,
             "ticks": ""
            },
            "colorscale": [
             [
              0,
              "#0d0887"
             ],
             [
              0.1111111111111111,
              "#46039f"
             ],
             [
              0.2222222222222222,
              "#7201a8"
             ],
             [
              0.3333333333333333,
              "#9c179e"
             ],
             [
              0.4444444444444444,
              "#bd3786"
             ],
             [
              0.5555555555555556,
              "#d8576b"
             ],
             [
              0.6666666666666666,
              "#ed7953"
             ],
             [
              0.7777777777777778,
              "#fb9f3a"
             ],
             [
              0.8888888888888888,
              "#fdca26"
             ],
             [
              1,
              "#f0f921"
             ]
            ],
            "type": "histogram2d"
           }
          ],
          "histogram2dcontour": [
           {
            "colorbar": {
             "outlinewidth": 0,
             "ticks": ""
            },
            "colorscale": [
             [
              0,
              "#0d0887"
             ],
             [
              0.1111111111111111,
              "#46039f"
             ],
             [
              0.2222222222222222,
              "#7201a8"
             ],
             [
              0.3333333333333333,
              "#9c179e"
             ],
             [
              0.4444444444444444,
              "#bd3786"
             ],
             [
              0.5555555555555556,
              "#d8576b"
             ],
             [
              0.6666666666666666,
              "#ed7953"
             ],
             [
              0.7777777777777778,
              "#fb9f3a"
             ],
             [
              0.8888888888888888,
              "#fdca26"
             ],
             [
              1,
              "#f0f921"
             ]
            ],
            "type": "histogram2dcontour"
           }
          ],
          "mesh3d": [
           {
            "colorbar": {
             "outlinewidth": 0,
             "ticks": ""
            },
            "type": "mesh3d"
           }
          ],
          "parcoords": [
           {
            "line": {
             "colorbar": {
              "outlinewidth": 0,
              "ticks": ""
             }
            },
            "type": "parcoords"
           }
          ],
          "pie": [
           {
            "automargin": true,
            "type": "pie"
           }
          ],
          "scatter": [
           {
            "marker": {
             "colorbar": {
              "outlinewidth": 0,
              "ticks": ""
             }
            },
            "type": "scatter"
           }
          ],
          "scatter3d": [
           {
            "line": {
             "colorbar": {
              "outlinewidth": 0,
              "ticks": ""
             }
            },
            "marker": {
             "colorbar": {
              "outlinewidth": 0,
              "ticks": ""
             }
            },
            "type": "scatter3d"
           }
          ],
          "scattercarpet": [
           {
            "marker": {
             "colorbar": {
              "outlinewidth": 0,
              "ticks": ""
             }
            },
            "type": "scattercarpet"
           }
          ],
          "scattergeo": [
           {
            "marker": {
             "colorbar": {
              "outlinewidth": 0,
              "ticks": ""
             }
            },
            "type": "scattergeo"
           }
          ],
          "scattergl": [
           {
            "marker": {
             "colorbar": {
              "outlinewidth": 0,
              "ticks": ""
             }
            },
            "type": "scattergl"
           }
          ],
          "scattermapbox": [
           {
            "marker": {
             "colorbar": {
              "outlinewidth": 0,
              "ticks": ""
             }
            },
            "type": "scattermapbox"
           }
          ],
          "scatterpolar": [
           {
            "marker": {
             "colorbar": {
              "outlinewidth": 0,
              "ticks": ""
             }
            },
            "type": "scatterpolar"
           }
          ],
          "scatterpolargl": [
           {
            "marker": {
             "colorbar": {
              "outlinewidth": 0,
              "ticks": ""
             }
            },
            "type": "scatterpolargl"
           }
          ],
          "scatterternary": [
           {
            "marker": {
             "colorbar": {
              "outlinewidth": 0,
              "ticks": ""
             }
            },
            "type": "scatterternary"
           }
          ],
          "surface": [
           {
            "colorbar": {
             "outlinewidth": 0,
             "ticks": ""
            },
            "colorscale": [
             [
              0,
              "#0d0887"
             ],
             [
              0.1111111111111111,
              "#46039f"
             ],
             [
              0.2222222222222222,
              "#7201a8"
             ],
             [
              0.3333333333333333,
              "#9c179e"
             ],
             [
              0.4444444444444444,
              "#bd3786"
             ],
             [
              0.5555555555555556,
              "#d8576b"
             ],
             [
              0.6666666666666666,
              "#ed7953"
             ],
             [
              0.7777777777777778,
              "#fb9f3a"
             ],
             [
              0.8888888888888888,
              "#fdca26"
             ],
             [
              1,
              "#f0f921"
             ]
            ],
            "type": "surface"
           }
          ],
          "table": [
           {
            "cells": {
             "fill": {
              "color": "#EBF0F8"
             },
             "line": {
              "color": "white"
             }
            },
            "header": {
             "fill": {
              "color": "#C8D4E3"
             },
             "line": {
              "color": "white"
             }
            },
            "type": "table"
           }
          ]
         },
         "layout": {
          "annotationdefaults": {
           "arrowcolor": "#2a3f5f",
           "arrowhead": 0,
           "arrowwidth": 1
          },
          "coloraxis": {
           "colorbar": {
            "outlinewidth": 0,
            "ticks": ""
           }
          },
          "colorscale": {
           "diverging": [
            [
             0,
             "#8e0152"
            ],
            [
             0.1,
             "#c51b7d"
            ],
            [
             0.2,
             "#de77ae"
            ],
            [
             0.3,
             "#f1b6da"
            ],
            [
             0.4,
             "#fde0ef"
            ],
            [
             0.5,
             "#f7f7f7"
            ],
            [
             0.6,
             "#e6f5d0"
            ],
            [
             0.7,
             "#b8e186"
            ],
            [
             0.8,
             "#7fbc41"
            ],
            [
             0.9,
             "#4d9221"
            ],
            [
             1,
             "#276419"
            ]
           ],
           "sequential": [
            [
             0,
             "#0d0887"
            ],
            [
             0.1111111111111111,
             "#46039f"
            ],
            [
             0.2222222222222222,
             "#7201a8"
            ],
            [
             0.3333333333333333,
             "#9c179e"
            ],
            [
             0.4444444444444444,
             "#bd3786"
            ],
            [
             0.5555555555555556,
             "#d8576b"
            ],
            [
             0.6666666666666666,
             "#ed7953"
            ],
            [
             0.7777777777777778,
             "#fb9f3a"
            ],
            [
             0.8888888888888888,
             "#fdca26"
            ],
            [
             1,
             "#f0f921"
            ]
           ],
           "sequentialminus": [
            [
             0,
             "#0d0887"
            ],
            [
             0.1111111111111111,
             "#46039f"
            ],
            [
             0.2222222222222222,
             "#7201a8"
            ],
            [
             0.3333333333333333,
             "#9c179e"
            ],
            [
             0.4444444444444444,
             "#bd3786"
            ],
            [
             0.5555555555555556,
             "#d8576b"
            ],
            [
             0.6666666666666666,
             "#ed7953"
            ],
            [
             0.7777777777777778,
             "#fb9f3a"
            ],
            [
             0.8888888888888888,
             "#fdca26"
            ],
            [
             1,
             "#f0f921"
            ]
           ]
          },
          "colorway": [
           "#636efa",
           "#EF553B",
           "#00cc96",
           "#ab63fa",
           "#FFA15A",
           "#19d3f3",
           "#FF6692",
           "#B6E880",
           "#FF97FF",
           "#FECB52"
          ],
          "font": {
           "color": "#2a3f5f"
          },
          "geo": {
           "bgcolor": "white",
           "lakecolor": "white",
           "landcolor": "#E5ECF6",
           "showlakes": true,
           "showland": true,
           "subunitcolor": "white"
          },
          "hoverlabel": {
           "align": "left"
          },
          "hovermode": "closest",
          "mapbox": {
           "style": "light"
          },
          "paper_bgcolor": "white",
          "plot_bgcolor": "#E5ECF6",
          "polar": {
           "angularaxis": {
            "gridcolor": "white",
            "linecolor": "white",
            "ticks": ""
           },
           "bgcolor": "#E5ECF6",
           "radialaxis": {
            "gridcolor": "white",
            "linecolor": "white",
            "ticks": ""
           }
          },
          "scene": {
           "xaxis": {
            "backgroundcolor": "#E5ECF6",
            "gridcolor": "white",
            "gridwidth": 2,
            "linecolor": "white",
            "showbackground": true,
            "ticks": "",
            "zerolinecolor": "white"
           },
           "yaxis": {
            "backgroundcolor": "#E5ECF6",
            "gridcolor": "white",
            "gridwidth": 2,
            "linecolor": "white",
            "showbackground": true,
            "ticks": "",
            "zerolinecolor": "white"
           },
           "zaxis": {
            "backgroundcolor": "#E5ECF6",
            "gridcolor": "white",
            "gridwidth": 2,
            "linecolor": "white",
            "showbackground": true,
            "ticks": "",
            "zerolinecolor": "white"
           }
          },
          "shapedefaults": {
           "line": {
            "color": "#2a3f5f"
           }
          },
          "ternary": {
           "aaxis": {
            "gridcolor": "white",
            "linecolor": "white",
            "ticks": ""
           },
           "baxis": {
            "gridcolor": "white",
            "linecolor": "white",
            "ticks": ""
           },
           "bgcolor": "#E5ECF6",
           "caxis": {
            "gridcolor": "white",
            "linecolor": "white",
            "ticks": ""
           }
          },
          "title": {
           "x": 0.05
          },
          "xaxis": {
           "automargin": true,
           "gridcolor": "white",
           "linecolor": "white",
           "ticks": "",
           "title": {
            "standoff": 15
           },
           "zerolinecolor": "white",
           "zerolinewidth": 2
          },
          "yaxis": {
           "automargin": true,
           "gridcolor": "white",
           "linecolor": "white",
           "ticks": "",
           "title": {
            "standoff": 15
           },
           "zerolinecolor": "white",
           "zerolinewidth": 2
          }
         }
        },
        "xaxis": {
         "anchor": "y",
         "domain": [
          0,
          1
         ],
         "title": {
          "text": "index"
         }
        },
        "yaxis": {
         "anchor": "x",
         "domain": [
          0,
          1
         ],
         "title": {
          "text": "value"
         }
        }
       }
      }
     },
     "metadata": {}
    }
   ],
   "source": [
    "cleaned_dfs['Alabama']['Confirmed'].plot() # state_stds['Alabama']['Confirmed']"
   ]
  },
  {
   "cell_type": "code",
   "execution_count": null,
   "metadata": {},
   "outputs": [],
   "source": []
  }
 ]
}